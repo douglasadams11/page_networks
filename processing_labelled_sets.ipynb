{
 "cells": [
  {
   "cell_type": "markdown",
   "metadata": {},
   "source": [
    "This notebooks put together and cleans the labelled data.\n",
    "\n",
    "Labelled data come from three sources:\n",
    "1. Top 100 pages in a randomly initialised original ranking method.\n",
    "2. Top 100-200 pages in a randomly initialised original ranking method.\n",
    "3. Randomly selected 200 pages.\n",
    "\n",
    "Created sets:\n",
    "\n",
    "1. `val` (validation) = top 100 pages\n",
    "2. `train_top200` = top 100-200 pages\n",
    "3. `train_random` = Random 200 pages\n",
    "4. `train_all` =  `train_top200` + `train_random`"
   ]
  },
  {
   "cell_type": "code",
   "execution_count": 1,
   "metadata": {},
   "outputs": [],
   "source": [
    "import numpy as np\n",
    "import pandas as pd"
   ]
  },
  {
   "cell_type": "code",
   "execution_count": 35,
   "metadata": {},
   "outputs": [],
   "source": [
    "labelled_top100 = pd.read_csv('./data/labelled/pages_ranked_with_data_labelled.csv')\n",
    "labelled_top200 = pd.read_csv('./data/labelled/pages_ranked_with_data_replication_tolabel2.csv')\n",
    "labelled_random = pd.read_csv('./data/labelled/random_websites_to_label_final.csv')\n",
    "\n",
    "labelled_top100.dropna(subset = [\"label\"], inplace = True)\n",
    "labelled_top200.dropna(subset = [\"label\"], inplace = True)"
   ]
  },
  {
   "cell_type": "code",
   "execution_count": 36,
   "metadata": {},
   "outputs": [
    {
     "data": {
      "text/html": [
       "<div>\n",
       "<style scoped>\n",
       "    .dataframe tbody tr th:only-of-type {\n",
       "        vertical-align: middle;\n",
       "    }\n",
       "\n",
       "    .dataframe tbody tr th {\n",
       "        vertical-align: top;\n",
       "    }\n",
       "\n",
       "    .dataframe thead th {\n",
       "        text-align: right;\n",
       "    }\n",
       "</style>\n",
       "<table border=\"1\" class=\"dataframe\">\n",
       "  <thead>\n",
       "    <tr style=\"text-align: right;\">\n",
       "      <th></th>\n",
       "      <th>page path</th>\n",
       "      <th>label</th>\n",
       "    </tr>\n",
       "  </thead>\n",
       "  <tbody>\n",
       "    <tr>\n",
       "      <th>0</th>\n",
       "      <td>/income-support</td>\n",
       "      <td>0</td>\n",
       "    </tr>\n",
       "    <tr>\n",
       "      <th>1</th>\n",
       "      <td>/search</td>\n",
       "      <td>0</td>\n",
       "    </tr>\n",
       "    <tr>\n",
       "      <th>2</th>\n",
       "      <td>/foreign-travel-advice</td>\n",
       "      <td>0</td>\n",
       "    </tr>\n",
       "    <tr>\n",
       "      <th>3</th>\n",
       "      <td>/get-state-pension</td>\n",
       "      <td>0</td>\n",
       "    </tr>\n",
       "    <tr>\n",
       "      <th>4</th>\n",
       "      <td>/browse/employing-people/recruiting-hiring</td>\n",
       "      <td>1</td>\n",
       "    </tr>\n",
       "    <tr>\n",
       "      <th>...</th>\n",
       "      <td>...</td>\n",
       "      <td>...</td>\n",
       "    </tr>\n",
       "    <tr>\n",
       "      <th>96</th>\n",
       "      <td>/apply-first-provisional-driving-licence</td>\n",
       "      <td>0</td>\n",
       "    </tr>\n",
       "    <tr>\n",
       "      <th>97</th>\n",
       "      <td>/business-coronavirus-support-finder</td>\n",
       "      <td>1</td>\n",
       "    </tr>\n",
       "    <tr>\n",
       "      <th>98</th>\n",
       "      <td>/order-copy-birth-death-marriage-certificate</td>\n",
       "      <td>0</td>\n",
       "    </tr>\n",
       "    <tr>\n",
       "      <th>99</th>\n",
       "      <td>/tax-codes</td>\n",
       "      <td>0</td>\n",
       "    </tr>\n",
       "    <tr>\n",
       "      <th>100</th>\n",
       "      <td>/uk-visa-sponsorship-employers</td>\n",
       "      <td>1</td>\n",
       "    </tr>\n",
       "  </tbody>\n",
       "</table>\n",
       "<p>101 rows × 2 columns</p>\n",
       "</div>"
      ],
      "text/plain": [
       "                                        page path  label\n",
       "0                                 /income-support      0\n",
       "1                                         /search      0\n",
       "2                          /foreign-travel-advice      0\n",
       "3                              /get-state-pension      0\n",
       "4      /browse/employing-people/recruiting-hiring      1\n",
       "..                                            ...    ...\n",
       "96       /apply-first-provisional-driving-licence      0\n",
       "97           /business-coronavirus-support-finder      1\n",
       "98   /order-copy-birth-death-marriage-certificate      0\n",
       "99                                     /tax-codes      0\n",
       "100                /uk-visa-sponsorship-employers      1\n",
       "\n",
       "[101 rows x 2 columns]"
      ]
     },
     "execution_count": 36,
     "metadata": {},
     "output_type": "execute_result"
    }
   ],
   "source": [
    "labelled_top200"
   ]
  },
  {
   "cell_type": "code",
   "execution_count": 37,
   "metadata": {},
   "outputs": [],
   "source": [
    "# print(labelled_data_val.head())\n",
    "top100_pages = labelled_top100.loc[:,\"page path\"]\n",
    "top200_pages = labelled_top200[\"page path\"]\n",
    "random_pages = labelled_random[\"pagePath\"]"
   ]
  },
  {
   "cell_type": "code",
   "execution_count": 38,
   "metadata": {},
   "outputs": [
    {
     "name": "stdout",
     "output_type": "stream",
     "text": [
      "Overlap of top100 & random 0\n",
      "Overlap of top200 & random 0\n",
      "Overlap of top200 & random 0\n"
     ]
    }
   ],
   "source": [
    "top100_random_overlap = np.array([p in random_pages for p in top100_pages]).sum()\n",
    "top100_top200_overlap = np.array([p in top200_pages for p in top100_pages]).sum()\n",
    "top200_random_overlap = np.array([p in random_pages for p in top200_pages]).sum()\n",
    "\n",
    "print(\"Overlap of top100 & random\", top100_random_overlap)\n",
    "print(\"Overlap of top200 & random\", top200_random_overlap)\n",
    "print(\"Overlap of top200 & random\", top200_random_overlap)"
   ]
  },
  {
   "cell_type": "code",
   "execution_count": 39,
   "metadata": {},
   "outputs": [],
   "source": [
    "df_val = labelled_top100.loc[:, [\"page path\", \"label\"]].copy()\n",
    "df_val.rename(columns = {\"page path\": \"page_path\"}, inplace = True)\n",
    "\n",
    "df_train_top200 = labelled_top100.loc[:, [\"page path\", \"label\"]].copy()\n",
    "df_train_top200.rename(columns = {\"page path\": \"page_path\"}, inplace = True)\n",
    "\n",
    "df_train_random = labelled_random.loc[:, [\"pagePath\", \"er_label\"]].copy()\n",
    "df_train_random.rename(columns = {\"pagePath\": \"page_path\", \"er_label\": \"label\"}, inplace = True)"
   ]
  },
  {
   "cell_type": "code",
   "execution_count": 42,
   "metadata": {},
   "outputs": [],
   "source": [
    "df_train_all = pd.concat([df_train_top200, df_train_random])"
   ]
  },
  {
   "cell_type": "code",
   "execution_count": 44,
   "metadata": {},
   "outputs": [],
   "source": [
    "df_train_all.to_csv('./data/labelled/train_all.csv')\n",
    "df_train_top200.to_csv('./data/labelled/train_top200.csv')\n",
    "df_train_random.to_csv('./data/labelled/train_random.csv')\n",
    "df_val.to_csv('./data/labelled/val.csv')"
   ]
  },
  {
   "cell_type": "markdown",
   "metadata": {},
   "source": [
    "# Updated version"
   ]
  },
  {
   "cell_type": "code",
   "execution_count": 2,
   "metadata": {},
   "outputs": [],
   "source": [
    "labelled_top100 = pd.read_csv('./data/labelled/pages_ranked_with_data_labelled_v2.csv')\n",
    "labelled_top200 = pd.read_csv('./data/labelled/pages_ranked_with_data_replication_tolabel2.csv')\n",
    "labelled_random = pd.read_csv('./data/labelled/random_websites_to_label_final_v2.csv')"
   ]
  },
  {
   "cell_type": "code",
   "execution_count": 3,
   "metadata": {},
   "outputs": [],
   "source": [
    "labelled_top100.dropna(subset = [\"label\"], inplace = True)\n",
    "labelled_top200.dropna(subset = [\"label\"], inplace = True)"
   ]
  },
  {
   "cell_type": "code",
   "execution_count": 4,
   "metadata": {},
   "outputs": [],
   "source": [
    "top100_pages = labelled_top100.loc[:,\"page path\"]\n",
    "top200_pages = labelled_top200[\"page path\"]\n",
    "random_pages = labelled_random[\"pagePath\"]"
   ]
  },
  {
   "cell_type": "code",
   "execution_count": 5,
   "metadata": {},
   "outputs": [
    {
     "name": "stdout",
     "output_type": "stream",
     "text": [
      "Overlap of top100 & random 0\n",
      "Overlap of top200 & random 0\n",
      "Overlap of top200 & random 0\n"
     ]
    }
   ],
   "source": [
    "top100_random_overlap = np.array([p in random_pages for p in top100_pages]).sum()\n",
    "top100_top200_overlap = np.array([p in top200_pages for p in top100_pages]).sum()\n",
    "top200_random_overlap = np.array([p in random_pages for p in top200_pages]).sum()\n",
    "\n",
    "print(\"Overlap of top100 & random\", top100_random_overlap)\n",
    "print(\"Overlap of top200 & random\", top200_random_overlap)\n",
    "print(\"Overlap of top200 & random\", top200_random_overlap)"
   ]
  },
  {
   "cell_type": "code",
   "execution_count": 7,
   "metadata": {},
   "outputs": [],
   "source": [
    "df_val = labelled_top100.loc[:, [\"page path\", \"label\"]].copy()\n",
    "df_val.rename(columns = {\"page path\": \"page_path\"}, inplace = True)\n",
    "\n",
    "df_train_top200 = labelled_top100.loc[:, [\"page path\", \"label\"]].copy()\n",
    "df_train_top200.rename(columns = {\"page path\": \"page_path\"}, inplace = True)\n",
    "\n",
    "df_train_random = labelled_random.loc[:, [\"pagePath\", \"er_label\"]].copy()\n",
    "df_train_random.rename(columns = {\"pagePath\": \"page_path\", \"er_label\": \"label\"}, inplace = True)"
   ]
  },
  {
   "cell_type": "code",
   "execution_count": 8,
   "metadata": {},
   "outputs": [],
   "source": [
    "df_train_all = pd.concat([df_train_top200, df_train_random])"
   ]
  },
  {
   "cell_type": "code",
   "execution_count": 9,
   "metadata": {},
   "outputs": [],
   "source": [
    "df_train_all.to_csv('./data/labelled/train_all_v2.csv')\n",
    "df_train_top200.to_csv('./data/labelled/train_top200_v2.csv')\n",
    "df_train_random.to_csv('./data/labelled/train_random_v2.csv')\n",
    "df_val.to_csv('./data/labelled/val_v2.csv')"
   ]
  },
  {
   "cell_type": "code",
   "execution_count": null,
   "metadata": {},
   "outputs": [],
   "source": []
  }
 ],
 "metadata": {
  "kernelspec": {
   "display_name": "pytorch_env",
   "language": "python",
   "name": "pytorch_env"
  },
  "language_info": {
   "codemirror_mode": {
    "name": "ipython",
    "version": 3
   },
   "file_extension": ".py",
   "mimetype": "text/x-python",
   "name": "python",
   "nbconvert_exporter": "python",
   "pygments_lexer": "ipython3",
   "version": "3.8.6"
  },
  "toc": {
   "base_numbering": 1,
   "nav_menu": {},
   "number_sections": true,
   "sideBar": true,
   "skip_h1_title": false,
   "title_cell": "Table of Contents",
   "title_sidebar": "Contents",
   "toc_cell": false,
   "toc_position": {},
   "toc_section_display": true,
   "toc_window_display": false
  },
  "varInspector": {
   "cols": {
    "lenName": 16,
    "lenType": 16,
    "lenVar": 40
   },
   "kernels_config": {
    "python": {
     "delete_cmd_postfix": "",
     "delete_cmd_prefix": "del ",
     "library": "var_list.py",
     "varRefreshCmd": "print(var_dic_list())"
    },
    "r": {
     "delete_cmd_postfix": ") ",
     "delete_cmd_prefix": "rm(",
     "library": "var_list.r",
     "varRefreshCmd": "cat(var_dic_list()) "
    }
   },
   "types_to_exclude": [
    "module",
    "function",
    "builtin_function_or_method",
    "instance",
    "_Feature"
   ],
   "window_display": false
  }
 },
 "nbformat": 4,
 "nbformat_minor": 4
}
