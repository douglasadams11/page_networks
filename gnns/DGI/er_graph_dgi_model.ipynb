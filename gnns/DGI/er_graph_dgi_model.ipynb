{
 "cells": [
  {
   "cell_type": "code",
   "execution_count": 1,
   "metadata": {},
   "outputs": [],
   "source": [
    "import numpy as np\n",
    "import scipy.sparse as sp\n",
    "import torch\n",
    "import torch.nn as nn\n",
    "\n",
    "from models import DGI, LogReg\n",
    "from utils import process\n",
    "from scipy.sparse import csr_matrix\n",
    "\n",
    "# from src import functions as f"
   ]
  },
  {
   "cell_type": "code",
   "execution_count": 6,
   "metadata": {},
   "outputs": [],
   "source": [
    "import networkx as nx\n",
    "from pathlib import Path\n",
    "\n",
    "from scipy.sparse import csr_matrix\n",
    "\n",
    "import os\n",
    "import pickle\n",
    "import numpy as np\n",
    "\n",
    "def load_pickle_file(file_name, dir_path=\"./data/outputs\"):\n",
    "    file_path = Path(dir_path + \"/\" + file_name)\n",
    "    f = open(file_path, 'rb')\n",
    "    file = pickle.load(f)\n",
    "    f.close()\n",
    "\n",
    "    return (file)\n",
    "\n",
    "\n",
    "def dump_pickle_file(file, file_name, dir_path=\"./data/outputs\"):\n",
    "    # check directory exists (if not, create it)\n",
    "    isdir = os.path.isdir(dir_path)\n",
    "\n",
    "    if isdir == False:\n",
    "        os.mkdir(dir_path)\n",
    "        print(\"Directory created.\")\n",
    "    else:\n",
    "        pass\n",
    "\n",
    "    file_path = os.path.join(dir_path, file_name)\n",
    "\n",
    "    f = open(file_path, 'wb')\n",
    "    pickle.dump(file, f)\n",
    "\n",
    "    return ()"
   ]
  },
  {
   "cell_type": "code",
   "execution_count": 7,
   "metadata": {},
   "outputs": [
    {
     "ename": "ModuleNotFoundError",
     "evalue": "No module named 'src'",
     "output_type": "error",
     "traceback": [
      "\u001b[1;31m---------------------------------------------------------------------------\u001b[0m",
      "\u001b[1;31mModuleNotFoundError\u001b[0m                       Traceback (most recent call last)",
      "Input \u001b[1;32mIn [7]\u001b[0m, in \u001b[0;36m<cell line: 3>\u001b[1;34m()\u001b[0m\n\u001b[0;32m      1\u001b[0m \u001b[38;5;28;01mimport\u001b[39;00m \u001b[38;5;21;01msys\u001b[39;00m\n\u001b[0;32m      2\u001b[0m sys\u001b[38;5;241m.\u001b[39mpath\u001b[38;5;241m.\u001b[39mappend(\u001b[38;5;124m'\u001b[39m\u001b[38;5;124m..\u001b[39m\u001b[38;5;124m'\u001b[39m)\n\u001b[1;32m----> 3\u001b[0m \u001b[38;5;28;01mimport\u001b[39;00m \u001b[38;5;21;01msrc\u001b[39;00m\u001b[38;5;21;01m.\u001b[39;00m\u001b[38;5;21;01mfunctions\u001b[39;00m \u001b[38;5;28;01mas\u001b[39;00m \u001b[38;5;21;01mf\u001b[39;00m\n",
      "\u001b[1;31mModuleNotFoundError\u001b[0m: No module named 'src'"
     ]
    }
   ],
   "source": [
    "import sys\n",
    "sys.path.append('..')\n",
    "import src.functions as f"
   ]
  },
  {
   "cell_type": "code",
   "execution_count": 83,
   "metadata": {},
   "outputs": [
    {
     "name": "stderr",
     "output_type": "stream",
     "text": [
      "C:\\Users\\jbryb\\AppData\\Local\\Temp\\ipykernel_10544\\2770947529.py:13: DeprecationWarning: Please use `csr_matrix` from the `scipy.sparse` namespace, the `scipy.sparse.csr` namespace is deprecated.\n",
      "  file = pickle.load(f)\n"
     ]
    }
   ],
   "source": [
    "G2 = load_pickle_file(\"Graph_er\", dir_path=\"../../data/outputs\")\n",
    "A2 = load_pickle_file(\"Adjacency_er\", dir_path=\"../../data/outputs\")\n",
    "T2 = load_pickle_file(\"Transition_er\", dir_path=\"../../data/outputs\")"
   ]
  },
  {
   "cell_type": "code",
   "execution_count": 84,
   "metadata": {},
   "outputs": [
    {
     "name": "stdout",
     "output_type": "stream",
     "text": [
      "Number of nodes of the graph 10631\n"
     ]
    }
   ],
   "source": [
    "nnodes = G2.number_of_nodes()\n",
    "print(\"Number of nodes of the graph\", G2.number_of_nodes())"
   ]
  },
  {
   "cell_type": "code",
   "execution_count": 21,
   "metadata": {},
   "outputs": [],
   "source": [
    "feature_matrix = np.eye(nnodes, nnodes)"
   ]
  },
  {
   "cell_type": "code",
   "execution_count": 7,
   "metadata": {},
   "outputs": [
    {
     "name": "stderr",
     "output_type": "stream",
     "text": [
      "C:\\Users\\jbryb\\virual_envs_python\\pytorch_env\\lib\\site-packages\\torch_geometric\\datasets\\karate.py:32: DeprecationWarning: \n",
      "\n",
      "The scipy.sparse array containers will be used instead of matrices\n",
      "in Networkx 3.0. Use `to_scipy_sparse_array` instead.\n",
      "  adj = nx.to_scipy_sparse_matrix(G).tocoo()\n"
     ]
    }
   ],
   "source": [
    "# from torch_geometric.datasets import KarateClub\n",
    "\n",
    "# dataset = KarateClub()"
   ]
  },
  {
   "cell_type": "code",
   "execution_count": 8,
   "metadata": {},
   "outputs": [],
   "source": [
    "data = dataset[0] "
   ]
  },
  {
   "cell_type": "code",
   "execution_count": 9,
   "metadata": {},
   "outputs": [
    {
     "data": {
      "text/plain": [
       "torch.Tensor"
      ]
     },
     "execution_count": 9,
     "metadata": {},
     "output_type": "execute_result"
    }
   ],
   "source": [
    "features_karate = data.x\n",
    "type(features_karate)"
   ]
  },
  {
   "cell_type": "code",
   "execution_count": 22,
   "metadata": {},
   "outputs": [],
   "source": [
    "# Load and process features\n",
    "features_karate = csr_matrix(feature_matrix).tolil()\n",
    "features_karate, _ = process.preprocess_features(features_karate)\n",
    "features_karate = torch.FloatTensor(features_karate[np.newaxis])"
   ]
  },
  {
   "cell_type": "code",
   "execution_count": 26,
   "metadata": {},
   "outputs": [],
   "source": [
    "# Load and proces grpah & adjacency matrix\n",
    "\n",
    "import networkx as nx\n",
    "\n",
    "# G = nx.karate_club_graph()\n",
    "\n",
    "# A = nx.adjacency_matrix(G)\n",
    "\n",
    "A = process.normalize_adj(A2 + sp.eye(A2.shape[0]))\n",
    "\n",
    "\n",
    "sp_A = process.sparse_mx_to_torch_sparse_tensor(A)\n",
    "\n",
    "# features = torch.FloatTensor(features[np.newaxis])"
   ]
  },
  {
   "cell_type": "code",
   "execution_count": 33,
   "metadata": {},
   "outputs": [],
   "source": [
    "# training params\n",
    "batch_size = 1\n",
    "nb_epochs = 100\n",
    "patience = 10\n",
    "lr = 0.01\n",
    "l2_coef = 1e-5\n",
    "drop_prob = 0.0\n",
    "# specify size of encoding vector:\n",
    "hid_units = 50\n",
    "sparse = True\n",
    "nonlinearity = 'prelu' # special name to separate parameters"
   ]
  },
  {
   "cell_type": "markdown",
   "metadata": {},
   "source": [
    "# Model Karate"
   ]
  },
  {
   "cell_type": "code",
   "execution_count": 34,
   "metadata": {},
   "outputs": [],
   "source": [
    "\n",
    "nb_nodes = features_karate.shape[1]\n",
    "ft_size = features_karate.shape[2]\n",
    "# nb_classes = labels.shape[1]\n",
    "\n",
    "labels = [] # torch.FloatTensor(labels[np.newaxis])\n",
    "\n",
    "idx_train = np.arange(len(list(G2.nodes)))\n",
    "idx_val = np.arange(len(list(G2.nodes)))\n",
    "idx_test = np.arange(len(list(G2.nodes)))\n",
    "\n",
    "idx_train = torch.LongTensor(idx_train)\n",
    "idx_val = torch.LongTensor(idx_val)\n",
    "idx_test = torch.LongTensor(idx_test)"
   ]
  },
  {
   "cell_type": "code",
   "execution_count": 35,
   "metadata": {},
   "outputs": [
    {
     "name": "stdout",
     "output_type": "stream",
     "text": [
      "Loss: tensor(0.6931, grad_fn=<BinaryCrossEntropyWithLogitsBackward0>)\n",
      "Loss: tensor(0.6925, grad_fn=<BinaryCrossEntropyWithLogitsBackward0>)\n",
      "Loss: tensor(0.6888, grad_fn=<BinaryCrossEntropyWithLogitsBackward0>)\n",
      "Loss: tensor(0.6826, grad_fn=<BinaryCrossEntropyWithLogitsBackward0>)\n",
      "Loss: tensor(0.6757, grad_fn=<BinaryCrossEntropyWithLogitsBackward0>)\n",
      "Loss: tensor(0.6668, grad_fn=<BinaryCrossEntropyWithLogitsBackward0>)\n",
      "Loss: tensor(0.6592, grad_fn=<BinaryCrossEntropyWithLogitsBackward0>)\n",
      "Loss: tensor(0.6509, grad_fn=<BinaryCrossEntropyWithLogitsBackward0>)\n",
      "Loss: tensor(0.6423, grad_fn=<BinaryCrossEntropyWithLogitsBackward0>)\n",
      "Loss: tensor(0.6379, grad_fn=<BinaryCrossEntropyWithLogitsBackward0>)\n",
      "Loss: tensor(0.6280, grad_fn=<BinaryCrossEntropyWithLogitsBackward0>)\n",
      "Loss: tensor(0.6169, grad_fn=<BinaryCrossEntropyWithLogitsBackward0>)\n",
      "Loss: tensor(0.6078, grad_fn=<BinaryCrossEntropyWithLogitsBackward0>)\n",
      "Loss: tensor(0.6007, grad_fn=<BinaryCrossEntropyWithLogitsBackward0>)\n",
      "Loss: tensor(0.5915, grad_fn=<BinaryCrossEntropyWithLogitsBackward0>)\n",
      "Loss: tensor(0.5775, grad_fn=<BinaryCrossEntropyWithLogitsBackward0>)\n",
      "Loss: tensor(0.5635, grad_fn=<BinaryCrossEntropyWithLogitsBackward0>)\n",
      "Loss: tensor(0.5554, grad_fn=<BinaryCrossEntropyWithLogitsBackward0>)\n",
      "Loss: tensor(0.5400, grad_fn=<BinaryCrossEntropyWithLogitsBackward0>)\n",
      "Loss: tensor(0.5230, grad_fn=<BinaryCrossEntropyWithLogitsBackward0>)\n",
      "Loss: tensor(0.5135, grad_fn=<BinaryCrossEntropyWithLogitsBackward0>)\n",
      "Loss: tensor(0.4938, grad_fn=<BinaryCrossEntropyWithLogitsBackward0>)\n",
      "Loss: tensor(0.4736, grad_fn=<BinaryCrossEntropyWithLogitsBackward0>)\n",
      "Loss: tensor(0.4604, grad_fn=<BinaryCrossEntropyWithLogitsBackward0>)\n",
      "Loss: tensor(0.4464, grad_fn=<BinaryCrossEntropyWithLogitsBackward0>)\n",
      "Loss: tensor(0.4211, grad_fn=<BinaryCrossEntropyWithLogitsBackward0>)\n",
      "Loss: tensor(0.4008, grad_fn=<BinaryCrossEntropyWithLogitsBackward0>)\n",
      "Loss: tensor(0.3800, grad_fn=<BinaryCrossEntropyWithLogitsBackward0>)\n",
      "Loss: tensor(0.3629, grad_fn=<BinaryCrossEntropyWithLogitsBackward0>)\n",
      "Loss: tensor(0.3365, grad_fn=<BinaryCrossEntropyWithLogitsBackward0>)\n",
      "Loss: tensor(0.3182, grad_fn=<BinaryCrossEntropyWithLogitsBackward0>)\n",
      "Loss: tensor(0.3000, grad_fn=<BinaryCrossEntropyWithLogitsBackward0>)\n",
      "Loss: tensor(0.2859, grad_fn=<BinaryCrossEntropyWithLogitsBackward0>)\n",
      "Loss: tensor(0.2580, grad_fn=<BinaryCrossEntropyWithLogitsBackward0>)\n",
      "Loss: tensor(0.2419, grad_fn=<BinaryCrossEntropyWithLogitsBackward0>)\n",
      "Loss: tensor(0.2287, grad_fn=<BinaryCrossEntropyWithLogitsBackward0>)\n",
      "Loss: tensor(0.2099, grad_fn=<BinaryCrossEntropyWithLogitsBackward0>)\n",
      "Loss: tensor(0.1947, grad_fn=<BinaryCrossEntropyWithLogitsBackward0>)\n",
      "Loss: tensor(0.1815, grad_fn=<BinaryCrossEntropyWithLogitsBackward0>)\n",
      "Loss: tensor(0.1700, grad_fn=<BinaryCrossEntropyWithLogitsBackward0>)\n",
      "Loss: tensor(0.1518, grad_fn=<BinaryCrossEntropyWithLogitsBackward0>)\n",
      "Loss: tensor(0.1453, grad_fn=<BinaryCrossEntropyWithLogitsBackward0>)\n",
      "Loss: tensor(0.1373, grad_fn=<BinaryCrossEntropyWithLogitsBackward0>)\n",
      "Loss: tensor(0.1267, grad_fn=<BinaryCrossEntropyWithLogitsBackward0>)\n",
      "Loss: tensor(0.1181, grad_fn=<BinaryCrossEntropyWithLogitsBackward0>)\n",
      "Loss: tensor(0.1111, grad_fn=<BinaryCrossEntropyWithLogitsBackward0>)\n",
      "Loss: tensor(0.1037, grad_fn=<BinaryCrossEntropyWithLogitsBackward0>)\n",
      "Loss: tensor(0.0997, grad_fn=<BinaryCrossEntropyWithLogitsBackward0>)\n",
      "Loss: tensor(0.1006, grad_fn=<BinaryCrossEntropyWithLogitsBackward0>)\n",
      "Loss: tensor(0.0885, grad_fn=<BinaryCrossEntropyWithLogitsBackward0>)\n",
      "Loss: tensor(0.0838, grad_fn=<BinaryCrossEntropyWithLogitsBackward0>)\n",
      "Loss: tensor(0.0792, grad_fn=<BinaryCrossEntropyWithLogitsBackward0>)\n",
      "Loss: tensor(0.0791, grad_fn=<BinaryCrossEntropyWithLogitsBackward0>)\n",
      "Loss: tensor(0.0704, grad_fn=<BinaryCrossEntropyWithLogitsBackward0>)\n",
      "Loss: tensor(0.0735, grad_fn=<BinaryCrossEntropyWithLogitsBackward0>)\n",
      "Loss: tensor(0.0683, grad_fn=<BinaryCrossEntropyWithLogitsBackward0>)\n",
      "Loss: tensor(0.0708, grad_fn=<BinaryCrossEntropyWithLogitsBackward0>)\n",
      "Loss: tensor(0.0660, grad_fn=<BinaryCrossEntropyWithLogitsBackward0>)\n",
      "Loss: tensor(0.0626, grad_fn=<BinaryCrossEntropyWithLogitsBackward0>)\n",
      "Loss: tensor(0.0587, grad_fn=<BinaryCrossEntropyWithLogitsBackward0>)\n",
      "Loss: tensor(0.0572, grad_fn=<BinaryCrossEntropyWithLogitsBackward0>)\n",
      "Loss: tensor(0.0584, grad_fn=<BinaryCrossEntropyWithLogitsBackward0>)\n",
      "Loss: tensor(0.0548, grad_fn=<BinaryCrossEntropyWithLogitsBackward0>)\n",
      "Loss: tensor(0.0544, grad_fn=<BinaryCrossEntropyWithLogitsBackward0>)\n",
      "Loss: tensor(0.0545, grad_fn=<BinaryCrossEntropyWithLogitsBackward0>)\n",
      "Loss: tensor(0.0525, grad_fn=<BinaryCrossEntropyWithLogitsBackward0>)\n",
      "Loss: tensor(0.0492, grad_fn=<BinaryCrossEntropyWithLogitsBackward0>)\n",
      "Loss: tensor(0.0507, grad_fn=<BinaryCrossEntropyWithLogitsBackward0>)\n",
      "Loss: tensor(0.0498, grad_fn=<BinaryCrossEntropyWithLogitsBackward0>)\n",
      "Loss: tensor(0.0502, grad_fn=<BinaryCrossEntropyWithLogitsBackward0>)\n",
      "Loss: tensor(0.0464, grad_fn=<BinaryCrossEntropyWithLogitsBackward0>)\n",
      "Loss: tensor(0.0468, grad_fn=<BinaryCrossEntropyWithLogitsBackward0>)\n",
      "Loss: tensor(0.0445, grad_fn=<BinaryCrossEntropyWithLogitsBackward0>)\n",
      "Loss: tensor(0.0453, grad_fn=<BinaryCrossEntropyWithLogitsBackward0>)\n",
      "Loss: tensor(0.0477, grad_fn=<BinaryCrossEntropyWithLogitsBackward0>)\n",
      "Loss: tensor(0.0467, grad_fn=<BinaryCrossEntropyWithLogitsBackward0>)\n",
      "Loss: tensor(0.0443, grad_fn=<BinaryCrossEntropyWithLogitsBackward0>)\n",
      "Loss: tensor(0.0465, grad_fn=<BinaryCrossEntropyWithLogitsBackward0>)\n",
      "Loss: tensor(0.0437, grad_fn=<BinaryCrossEntropyWithLogitsBackward0>)\n",
      "Loss: tensor(0.0430, grad_fn=<BinaryCrossEntropyWithLogitsBackward0>)\n",
      "Loss: tensor(0.0423, grad_fn=<BinaryCrossEntropyWithLogitsBackward0>)\n",
      "Loss: tensor(0.0437, grad_fn=<BinaryCrossEntropyWithLogitsBackward0>)\n",
      "Loss: tensor(0.0432, grad_fn=<BinaryCrossEntropyWithLogitsBackward0>)\n",
      "Loss: tensor(0.0412, grad_fn=<BinaryCrossEntropyWithLogitsBackward0>)\n",
      "Loss: tensor(0.0436, grad_fn=<BinaryCrossEntropyWithLogitsBackward0>)\n",
      "Loss: tensor(0.0407, grad_fn=<BinaryCrossEntropyWithLogitsBackward0>)\n",
      "Loss: tensor(0.0402, grad_fn=<BinaryCrossEntropyWithLogitsBackward0>)\n",
      "Loss: tensor(0.0419, grad_fn=<BinaryCrossEntropyWithLogitsBackward0>)\n",
      "Loss: tensor(0.0384, grad_fn=<BinaryCrossEntropyWithLogitsBackward0>)\n",
      "Loss: tensor(0.0427, grad_fn=<BinaryCrossEntropyWithLogitsBackward0>)\n",
      "Loss: tensor(0.0394, grad_fn=<BinaryCrossEntropyWithLogitsBackward0>)\n",
      "Loss: tensor(0.0396, grad_fn=<BinaryCrossEntropyWithLogitsBackward0>)\n",
      "Loss: tensor(0.0407, grad_fn=<BinaryCrossEntropyWithLogitsBackward0>)\n",
      "Loss: tensor(0.0400, grad_fn=<BinaryCrossEntropyWithLogitsBackward0>)\n",
      "Loss: tensor(0.0378, grad_fn=<BinaryCrossEntropyWithLogitsBackward0>)\n",
      "Loss: tensor(0.0373, grad_fn=<BinaryCrossEntropyWithLogitsBackward0>)\n",
      "Loss: tensor(0.0406, grad_fn=<BinaryCrossEntropyWithLogitsBackward0>)\n",
      "Loss: tensor(0.0358, grad_fn=<BinaryCrossEntropyWithLogitsBackward0>)\n",
      "Loss: tensor(0.0365, grad_fn=<BinaryCrossEntropyWithLogitsBackward0>)\n",
      "Loss: tensor(0.0382, grad_fn=<BinaryCrossEntropyWithLogitsBackward0>)\n",
      "Loading 97th epoch\n"
     ]
    },
    {
     "data": {
      "text/plain": [
       "<All keys matched successfully>"
      ]
     },
     "execution_count": 35,
     "metadata": {},
     "output_type": "execute_result"
    }
   ],
   "source": [
    "model = DGI(ft_size, hid_units, nonlinearity)\n",
    "optimiser = torch.optim.Adam(model.parameters(), lr=lr, weight_decay=l2_coef)\n",
    "\n",
    "# b_xent applies logits follwoed by cross-entropy loss\n",
    "b_xent = nn.BCEWithLogitsLoss()\n",
    "# xent = nn.CrossEntropyLoss()\n",
    "\n",
    "# cnt_wait counts epochs from the last bes tmodel and implemnts early stopping\n",
    "cnt_wait = 0\n",
    "# initial best score for loss\n",
    "best = 1e9\n",
    "best_t = 0\n",
    "\n",
    "loss_history = list()\n",
    "\n",
    "for epoch in range(nb_epochs):\n",
    "    model.train()\n",
    "    optimiser.zero_grad()\n",
    "\n",
    "    idx = np.random.permutation(nb_nodes)\n",
    "    # reshuffle features\n",
    "    shuf_fts = features_karate[:, idx, :]\n",
    "    # vector of ones, length = number of nodes\n",
    "    lbl_1 = torch.ones(batch_size, nb_nodes)\n",
    "    # vector of zeros, length = number of nodes \n",
    "    lbl_2 = torch.zeros(batch_size, nb_nodes)\n",
    "    # length = 2*number of nodes, i.e. 5416\n",
    "    lbl = torch.cat((lbl_1, lbl_2), 1)\n",
    "\n",
    "    # the \"if\" affects onle \"sparse\" vs \"sp_adj\"\n",
    "    # i.e. mask = None, samp_bias1 = None, samp_bias2 = None\n",
    "    logits = model(features_karate, shuf_fts, sp_A if sparse else adj, sparse, None, None, None) \n",
    "\n",
    "    loss = b_xent(logits, lbl)\n",
    "    loss_history.append(loss.detach().numpy()) # use detach to get rid of the gradient\n",
    "\n",
    "    print('Loss:', loss)\n",
    "\n",
    "    if loss < best:\n",
    "        best = loss\n",
    "        best_t = epoch\n",
    "        cnt_wait = 0\n",
    "        torch.save(model.state_dict(), 'best_dgi.pkl')\n",
    "    else:\n",
    "        cnt_wait += 1\n",
    "\n",
    "    if cnt_wait == patience:\n",
    "        print('Early stopping!')\n",
    "        break\n",
    "\n",
    "    loss.backward()\n",
    "    optimiser.step()\n",
    "\n",
    "print('Loading {}th epoch'.format(best_t))\n",
    "model.load_state_dict(torch.load('best_dgi.pkl'))\n",
    "\n",
    "\n"
   ]
  },
  {
   "cell_type": "code",
   "execution_count": 51,
   "metadata": {},
   "outputs": [
    {
     "data": {
      "text/plain": [
       "torch.Size([1, 21262])"
      ]
     },
     "execution_count": 51,
     "metadata": {},
     "output_type": "execute_result"
    }
   ],
   "source": [
    "logits.shape "
   ]
  },
  {
   "cell_type": "code",
   "execution_count": 48,
   "metadata": {},
   "outputs": [],
   "source": [
    "# h contains node representations\n",
    "# s contains the overall metric representation\n",
    "h, s = model.embed(features_karate, sp_A, msk = None, sparse = True )"
   ]
  },
  {
   "cell_type": "code",
   "execution_count": 60,
   "metadata": {},
   "outputs": [
    {
     "data": {
      "text/plain": [
       "torch.Size([1, 10631, 50])"
      ]
     },
     "execution_count": 60,
     "metadata": {},
     "output_type": "execute_result"
    }
   ],
   "source": [
    "h.shape"
   ]
  },
  {
   "cell_type": "code",
   "execution_count": 37,
   "metadata": {},
   "outputs": [
    {
     "data": {
      "text/plain": [
       "[<matplotlib.lines.Line2D at 0x23de9ff7520>]"
      ]
     },
     "execution_count": 37,
     "metadata": {},
     "output_type": "execute_result"
    },
    {
     "data": {
      "image/png": "[encoded data removed]",
      "text/plain": [
       "<Figure size 432x288 with 1 Axes>"
      ]
     },
     "metadata": {
      "needs_background": "light"
     },
     "output_type": "display_data"
    }
   ],
   "source": [
    "import matplotlib.pyplot as plt\n",
    "plt.plot(loss_history)"
   ]
  },
  {
   "cell_type": "markdown",
   "metadata": {},
   "source": [
    "# Ranking of webpages"
   ]
  },
  {
   "cell_type": "code",
   "execution_count": 149,
   "metadata": {},
   "outputs": [],
   "source": [
    "def calc_cosine_similarity_matrix(X, y):\n",
    "    '''\n",
    "    X is a matatrix of embeddings, with nodes in rows (i.e number of rows = number of nodes, \n",
    "    number of columns = number of latent dimensions).\n",
    "    '''\n",
    "    cosine_similarity = np.dot(X, y)/(np.linalg.norm(X, axis = 1)* np.linalg.norm(y))\n",
    "    \n",
    "    return( cosine_similarity )"
   ]
  },
  {
   "cell_type": "code",
   "execution_count": 205,
   "metadata": {},
   "outputs": [],
   "source": [
    "# def calculate_l2_distance(embeddings, reference_vectors_embeddings):\n",
    "#     '''\n",
    "#     For given embeddings, and embeddings of reterence vectors, calulate mean and median distances\n",
    "#     from each embedding vector to reference vector embeddings.\n",
    "#     '''\n",
    "#     mean_distances = [np.linalg.norm(x - reference_vectors_embeddings, axis = 1).mean() for x in embeddings]\n",
    "#     median_distances = [np.median( np.linalg.norm(x - reference_vectors_embeddings, axis = 1) ) for x in embeddings]\n",
    "\n",
    "#     return(mean_distances, median_distances)\n",
    "\n",
    "# def calculate_cosine_distance(G, embeddings, seeds, stats = np.max):\n",
    "#     '''\n",
    "#     For any given node in G, calculate similairty to each seed page and return the given summary \n",
    "#     statistics of these scores.\n",
    "#     Returns scores for all nodes in G.\n",
    "#     '''\n",
    "\n",
    "#     rankings = list()\n",
    "#     page_paths = list()\n",
    "\n",
    "#     for node in G.nodes:\n",
    "\n",
    "#         rankings_node = list()\n",
    "\n",
    "#         for seed in seeds:\n",
    "#             rankings_node.append( calc_cosine_similarity(node, seed) )\n",
    "\n",
    "#         rankings.append( stats( rankings_node ) )\n",
    "#         page_paths.append( node )\n",
    "\n",
    "#     return( rankings, page_paths )"
   ]
  },
  {
   "cell_type": "code",
   "execution_count": 146,
   "metadata": {},
   "outputs": [],
   "source": [
    "def get_seed_page_index(G, seed_page):\n",
    "    seed_node_index = np.where(np.array(a) == seed_page)[0]\n",
    "    seed_node_index = seed_node_index.astype(int)[0]\n",
    "\n",
    "    print( \"Seed node:\", list(G2.nodes)[seed_node_index] )\n",
    "    \n",
    "    return(seed_node_index)"
   ]
  },
  {
   "cell_type": "code",
   "execution_count": 196,
   "metadata": {},
   "outputs": [],
   "source": [
    "def get_rankings_dict(G, embeddings, seeds, metric = \"cosine\"):\n",
    "    \n",
    "    rankings = dict()\n",
    "\n",
    "    rankings[\"pages\"] = list(G.nodes)\n",
    "\n",
    "    for seed_page in seeds:\n",
    "\n",
    "        seed_node_index = get_seed_page_index(G, seed_page)\n",
    "        seed_node_embedding = embeddings[seed_node_index]\n",
    "        \n",
    "        if metric == \"cosine\":\n",
    "            node_similarities = calc_cosine_similarity_matrix(embeddings, seed_node_embedding)\n",
    "        else:\n",
    "            node_similarities = np.linalg.norm(embeddings - seed_node_embedding)\n",
    "\n",
    "        rankings[seed_page] = node_similarities\n",
    "\n",
    "\n",
    "    return(rankings)\n",
    "\n",
    "\n",
    "def get_rankings_df(G, embeddings, seeds, metric = \"cosine\"):\n",
    "\n",
    "    emb_dict = get_rankings_dict(G, embeddings, seeds, metric= metric)\n",
    "        \n",
    "    emb_df = pd.DataFrame.from_dict(emb_dict)\n",
    "    \n",
    "    emb_df.set_index(\"pages\", inplace = True)\n",
    "    seed_cols = emb_df.columns\n",
    "    \n",
    "    emb_df[\"max\"]= emb_df[seed_cols].max(axis = 1)\n",
    "    emb_df[\"median\"] = emb_df[seed_cols].median(axis = 1)\n",
    "    emb_df[\"mean\"] = emb_df[seed_cols].mean(axis = 1)\n",
    "    emb_df[\"min\"]= emb_df[seed_cols].min(axis = 1)\n",
    "    \n",
    "    return(emb_df)\n",
    "    \n",
    "    "
   ]
  },
  {
   "cell_type": "code",
   "execution_count": 185,
   "metadata": {},
   "outputs": [],
   "source": [
    "labelled_data_1 = pd.read_csv('../../data/labelled/pages_ranked_with_data_labelled.csv')\n",
    "labelled_data_1 = labelled_data_1.loc[:,[\"page path\", \"label\"]]"
   ]
  },
  {
   "cell_type": "code",
   "execution_count": 187,
   "metadata": {},
   "outputs": [],
   "source": [
    "# THIS IS THE SAME FUNCTION AND IN N2V\n",
    "def calc_median_difference_n2v(df, labelled_data, standardise = True, page_path = \"pagePath\"):\n",
    "    '''df needs to be a result of calling rw.page_freq_path_freq_ranking()\n",
    "    \n",
    "    df needs to be ranked from top page to the worst page (i.e. index represents ranking).'''\n",
    "    df.reset_index(inplace = True, drop = True)\n",
    "    \n",
    "    df_labels = df.merge(labelled_data_1, left_on = page_path, right_on = \"page path\")\n",
    "    df_labels.reset_index(inplace = True, drop = False)\n",
    "    df_labels.rename(columns = {\"index\": \"rank\"}, inplace = True)\n",
    "\n",
    "    med_ranking_label1 = df_labels[df_labels[\"label\"] == 1][\"rank\"].median()\n",
    "    med_ranking_label0 = df_labels[df_labels[\"label\"] == 0][\"rank\"].median()\n",
    "    \n",
    "    if standardise == True:\n",
    "        score = (med_ranking_label0 - med_ranking_label1) / ( df_labels[df_labels[\"label\"] == 1][\"rank\"].std() +\n",
    "                                                            df_labels[df_labels[\"label\"] == 0][\"rank\"].std())\n",
    "    else:\n",
    "        score = med_ranking_label0 - med_ranking_label1\n",
    "    \n",
    "    return( score )"
   ]
  },
  {
   "cell_type": "code",
   "execution_count": 200,
   "metadata": {},
   "outputs": [],
   "source": [
    "seed_pages_used = [    \n",
    "    '/find-a-job',\n",
    "    '/universal-credit',\n",
    "    '/government/collections/financial-support-for-businesses-during-coronavirus-covid-19']\n",
    "\n",
    "\n",
    "seed_embeddings = embeddings"
   ]
  },
  {
   "cell_type": "code",
   "execution_count": 201,
   "metadata": {},
   "outputs": [
    {
     "name": "stdout",
     "output_type": "stream",
     "text": [
      "Seed node: /find-a-job\n",
      "Seed node: /universal-credit\n",
      "Seed node: /government/collections/financial-support-for-businesses-during-coronavirus-covid-19\n"
     ]
    },
    {
     "data": {
      "text/html": [
       "<div>\n",
       "<style scoped>\n",
       "    .dataframe tbody tr th:only-of-type {\n",
       "        vertical-align: middle;\n",
       "    }\n",
       "\n",
       "    .dataframe tbody tr th {\n",
       "        vertical-align: top;\n",
       "    }\n",
       "\n",
       "    .dataframe thead th {\n",
       "        text-align: right;\n",
       "    }\n",
       "</style>\n",
       "<table border=\"1\" class=\"dataframe\">\n",
       "  <thead>\n",
       "    <tr style=\"text-align: right;\">\n",
       "      <th></th>\n",
       "      <th>pages</th>\n",
       "      <th>/find-a-job</th>\n",
       "      <th>/universal-credit</th>\n",
       "      <th>/government/collections/financial-support-for-businesses-during-coronavirus-covid-19</th>\n",
       "      <th>max</th>\n",
       "      <th>median</th>\n",
       "      <th>mean</th>\n",
       "      <th>min</th>\n",
       "    </tr>\n",
       "  </thead>\n",
       "  <tbody>\n",
       "    <tr>\n",
       "      <th>0</th>\n",
       "      <td>/universal-credit</td>\n",
       "      <td>0.703397</td>\n",
       "      <td>1.000000</td>\n",
       "      <td>0.772366</td>\n",
       "      <td>1.000000</td>\n",
       "      <td>0.772366</td>\n",
       "      <td>0.825254</td>\n",
       "      <td>0.703397</td>\n",
       "    </tr>\n",
       "    <tr>\n",
       "      <th>1</th>\n",
       "      <td>/find-a-job</td>\n",
       "      <td>1.000000</td>\n",
       "      <td>0.703397</td>\n",
       "      <td>0.471634</td>\n",
       "      <td>1.000000</td>\n",
       "      <td>0.703397</td>\n",
       "      <td>0.725011</td>\n",
       "      <td>0.471634</td>\n",
       "    </tr>\n",
       "    <tr>\n",
       "      <th>2</th>\n",
       "      <td>/government/collections/financial-support-for-...</td>\n",
       "      <td>0.471634</td>\n",
       "      <td>0.772366</td>\n",
       "      <td>1.000000</td>\n",
       "      <td>1.000000</td>\n",
       "      <td>0.772366</td>\n",
       "      <td>0.748000</td>\n",
       "      <td>0.471634</td>\n",
       "    </tr>\n",
       "    <tr>\n",
       "      <th>3</th>\n",
       "      <td>/sign-in-universal-credit</td>\n",
       "      <td>0.701284</td>\n",
       "      <td>0.972882</td>\n",
       "      <td>0.782108</td>\n",
       "      <td>0.972882</td>\n",
       "      <td>0.782108</td>\n",
       "      <td>0.818758</td>\n",
       "      <td>0.701284</td>\n",
       "    </tr>\n",
       "    <tr>\n",
       "      <th>4</th>\n",
       "      <td>/benefits-calculators</td>\n",
       "      <td>0.653661</td>\n",
       "      <td>0.968781</td>\n",
       "      <td>0.802347</td>\n",
       "      <td>0.968781</td>\n",
       "      <td>0.802347</td>\n",
       "      <td>0.808263</td>\n",
       "      <td>0.653661</td>\n",
       "    </tr>\n",
       "  </tbody>\n",
       "</table>\n",
       "</div>"
      ],
      "text/plain": [
       "                                               pages  /find-a-job  \\\n",
       "0                                  /universal-credit     0.703397   \n",
       "1                                        /find-a-job     1.000000   \n",
       "2  /government/collections/financial-support-for-...     0.471634   \n",
       "3                          /sign-in-universal-credit     0.701284   \n",
       "4                              /benefits-calculators     0.653661   \n",
       "\n",
       "   /universal-credit  \\\n",
       "0           1.000000   \n",
       "1           0.703397   \n",
       "2           0.772366   \n",
       "3           0.972882   \n",
       "4           0.968781   \n",
       "\n",
       "   /government/collections/financial-support-for-businesses-during-coronavirus-covid-19  \\\n",
       "0                                           0.772366                                      \n",
       "1                                           0.471634                                      \n",
       "2                                           1.000000                                      \n",
       "3                                           0.782108                                      \n",
       "4                                           0.802347                                      \n",
       "\n",
       "        max    median      mean       min  \n",
       "0  1.000000  0.772366  0.825254  0.703397  \n",
       "1  1.000000  0.703397  0.725011  0.471634  \n",
       "2  1.000000  0.772366  0.748000  0.471634  \n",
       "3  0.972882  0.782108  0.818758  0.701284  \n",
       "4  0.968781  0.802347  0.808263  0.653661  "
      ]
     },
     "execution_count": 201,
     "metadata": {},
     "output_type": "execute_result"
    }
   ],
   "source": [
    "df_rankings_cosine = get_rankings_df(G2, embeddings, seed_pages_used, metric = \"cosine\")\n",
    "df_rankings_cosine = df_rankings_cosine.sort_values(by = \"max\", ascending = False).reset_index(drop = False)\n",
    "df_rankings_cosine.head()\n"
   ]
  },
  {
   "cell_type": "code",
   "execution_count": 202,
   "metadata": {},
   "outputs": [
    {
     "name": "stdout",
     "output_type": "stream",
     "text": [
      "Seed node: /find-a-job\n",
      "Seed node: /universal-credit\n",
      "Seed node: /government/collections/financial-support-for-businesses-during-coronavirus-covid-19\n"
     ]
    },
    {
     "data": {
      "text/html": [
       "<div>\n",
       "<style scoped>\n",
       "    .dataframe tbody tr th:only-of-type {\n",
       "        vertical-align: middle;\n",
       "    }\n",
       "\n",
       "    .dataframe tbody tr th {\n",
       "        vertical-align: top;\n",
       "    }\n",
       "\n",
       "    .dataframe thead th {\n",
       "        text-align: right;\n",
       "    }\n",
       "</style>\n",
       "<table border=\"1\" class=\"dataframe\">\n",
       "  <thead>\n",
       "    <tr style=\"text-align: right;\">\n",
       "      <th></th>\n",
       "      <th>pages</th>\n",
       "      <th>/find-a-job</th>\n",
       "      <th>/universal-credit</th>\n",
       "      <th>/government/collections/financial-support-for-businesses-during-coronavirus-covid-19</th>\n",
       "      <th>max</th>\n",
       "      <th>median</th>\n",
       "      <th>mean</th>\n",
       "      <th>min</th>\n",
       "    </tr>\n",
       "  </thead>\n",
       "  <tbody>\n",
       "    <tr>\n",
       "      <th>0</th>\n",
       "      <td>/</td>\n",
       "      <td>50.524151</td>\n",
       "      <td>50.073181</td>\n",
       "      <td>21.762175</td>\n",
       "      <td>50.524151</td>\n",
       "      <td>50.073181</td>\n",
       "      <td>40.786503</td>\n",
       "      <td>21.762175</td>\n",
       "    </tr>\n",
       "    <tr>\n",
       "      <th>1</th>\n",
       "      <td>/guidance/immigration-rules/immigration-rules-...</td>\n",
       "      <td>50.524151</td>\n",
       "      <td>50.073181</td>\n",
       "      <td>21.762175</td>\n",
       "      <td>50.524151</td>\n",
       "      <td>50.073181</td>\n",
       "      <td>40.786503</td>\n",
       "      <td>21.762175</td>\n",
       "    </tr>\n",
       "    <tr>\n",
       "      <th>2</th>\n",
       "      <td>/guidance/data-analyst</td>\n",
       "      <td>50.524151</td>\n",
       "      <td>50.073181</td>\n",
       "      <td>21.762175</td>\n",
       "      <td>50.524151</td>\n",
       "      <td>50.073181</td>\n",
       "      <td>40.786503</td>\n",
       "      <td>21.762175</td>\n",
       "    </tr>\n",
       "    <tr>\n",
       "      <th>3</th>\n",
       "      <td>/overseas-domestic-worker-visa/domestic-worker...</td>\n",
       "      <td>50.524151</td>\n",
       "      <td>50.073181</td>\n",
       "      <td>21.762175</td>\n",
       "      <td>50.524151</td>\n",
       "      <td>50.073181</td>\n",
       "      <td>40.786503</td>\n",
       "      <td>21.762175</td>\n",
       "    </tr>\n",
       "    <tr>\n",
       "      <th>4</th>\n",
       "      <td>/plug-in-car-van-grants</td>\n",
       "      <td>50.524151</td>\n",
       "      <td>50.073181</td>\n",
       "      <td>21.762175</td>\n",
       "      <td>50.524151</td>\n",
       "      <td>50.073181</td>\n",
       "      <td>40.786503</td>\n",
       "      <td>21.762175</td>\n",
       "    </tr>\n",
       "  </tbody>\n",
       "</table>\n",
       "</div>"
      ],
      "text/plain": [
       "                                               pages  /find-a-job  \\\n",
       "0                                                  /    50.524151   \n",
       "1  /guidance/immigration-rules/immigration-rules-...    50.524151   \n",
       "2                             /guidance/data-analyst    50.524151   \n",
       "3  /overseas-domestic-worker-visa/domestic-worker...    50.524151   \n",
       "4                            /plug-in-car-van-grants    50.524151   \n",
       "\n",
       "   /universal-credit  \\\n",
       "0          50.073181   \n",
       "1          50.073181   \n",
       "2          50.073181   \n",
       "3          50.073181   \n",
       "4          50.073181   \n",
       "\n",
       "   /government/collections/financial-support-for-businesses-during-coronavirus-covid-19  \\\n",
       "0                                          21.762175                                      \n",
       "1                                          21.762175                                      \n",
       "2                                          21.762175                                      \n",
       "3                                          21.762175                                      \n",
       "4                                          21.762175                                      \n",
       "\n",
       "         max     median       mean        min  \n",
       "0  50.524151  50.073181  40.786503  21.762175  \n",
       "1  50.524151  50.073181  40.786503  21.762175  \n",
       "2  50.524151  50.073181  40.786503  21.762175  \n",
       "3  50.524151  50.073181  40.786503  21.762175  \n",
       "4  50.524151  50.073181  40.786503  21.762175  "
      ]
     },
     "execution_count": 202,
     "metadata": {},
     "output_type": "execute_result"
    }
   ],
   "source": [
    "df_rankings_l2 = get_rankings_df(G2, embeddings, seed_pages_used, metric = \"l2\")\n",
    "df_rankings_l2 = df_rankings_l2.sort_values(by = \"min\", ascending = True).reset_index(drop = False)\n",
    "df_rankings_l2.head()"
   ]
  },
  {
   "cell_type": "code",
   "execution_count": 203,
   "metadata": {},
   "outputs": [
    {
     "data": {
      "text/plain": [
       "-0.1654604753910266"
      ]
     },
     "execution_count": 203,
     "metadata": {},
     "output_type": "execute_result"
    }
   ],
   "source": [
    "calc_median_difference_n2v(df_rankings_cosine, labelled_data_1, \n",
    "                           standardise = True, page_path = \"pages\")"
   ]
  },
  {
   "cell_type": "code",
   "execution_count": 204,
   "metadata": {},
   "outputs": [
    {
     "data": {
      "text/plain": [
       "-0.01604114333438033"
      ]
     },
     "execution_count": 204,
     "metadata": {},
     "output_type": "execute_result"
    }
   ],
   "source": [
    "calc_median_difference_n2v(df_rankings_l2, labelled_data_1, \n",
    "                           standardise = True, page_path = \"pages\")"
   ]
  },
  {
   "cell_type": "code",
   "execution_count": null,
   "metadata": {},
   "outputs": [],
   "source": []
  }
 ],
 "metadata": {
  "kernelspec": {
   "display_name": "pytorch_env",
   "language": "python",
   "name": "pytorch_env"
  },
  "language_info": {
   "codemirror_mode": {
    "name": "ipython",
    "version": 3
   },
   "file_extension": ".py",
   "mimetype": "text/x-python",
   "name": "python",
   "nbconvert_exporter": "python",
   "pygments_lexer": "ipython3",
   "version": "3.8.6"
  },
  "toc": {
   "base_numbering": 1,
   "nav_menu": {},
   "number_sections": true,
   "sideBar": true,
   "skip_h1_title": false,
   "title_cell": "Table of Contents",
   "title_sidebar": "Contents",
   "toc_cell": false,
   "toc_position": {},
   "toc_section_display": true,
   "toc_window_display": false
  },
  "varInspector": {
   "cols": {
    "lenName": 16,
    "lenType": 16,
    "lenVar": 40
   },
   "kernels_config": {
    "python": {
     "delete_cmd_postfix": "",
     "delete_cmd_prefix": "del ",
     "library": "var_list.py",
     "varRefreshCmd": "print(var_dic_list())"
    },
    "r": {
     "delete_cmd_postfix": ") ",
     "delete_cmd_prefix": "rm(",
     "library": "var_list.r",
     "varRefreshCmd": "cat(var_dic_list()) "
    }
   },
   "types_to_exclude": [
    "module",
    "function",
    "builtin_function_or_method",
    "instance",
    "_Feature"
   ],
   "window_display": false
  }
 },
 "nbformat": 4,
 "nbformat_minor": 4
}
