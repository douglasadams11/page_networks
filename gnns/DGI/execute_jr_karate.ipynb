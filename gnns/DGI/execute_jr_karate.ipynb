{
 "cells": [
  {
   "cell_type": "code",
   "execution_count": 1,
   "metadata": {},
   "outputs": [],
   "source": [
    "import numpy as np\n",
    "import scipy.sparse as sp\n",
    "import torch\n",
    "import torch.nn as nn\n",
    "\n",
    "from models import DGI, LogReg\n",
    "from utils import process\n",
    "from scipy.sparse import csr_matrix\n",
    "\n"
   ]
  },
  {
   "cell_type": "code",
   "execution_count": 7,
   "metadata": {},
   "outputs": [
    {
     "name": "stderr",
     "output_type": "stream",
     "text": [
      "C:\\Users\\jbryb\\virual_envs_python\\pytorch_env\\lib\\site-packages\\torch_geometric\\datasets\\karate.py:32: DeprecationWarning: \n",
      "\n",
      "The scipy.sparse array containers will be used instead of matrices\n",
      "in Networkx 3.0. Use `to_scipy_sparse_array` instead.\n",
      "  adj = nx.to_scipy_sparse_matrix(G).tocoo()\n"
     ]
    }
   ],
   "source": [
    "from torch_geometric.datasets import KarateClub\n",
    "\n",
    "dataset = KarateClub()"
   ]
  },
  {
   "cell_type": "code",
   "execution_count": 8,
   "metadata": {},
   "outputs": [],
   "source": [
    "data = dataset[0] "
   ]
  },
  {
   "cell_type": "code",
   "execution_count": 9,
   "metadata": {},
   "outputs": [
    {
     "data": {
      "text/plain": [
       "torch.Tensor"
      ]
     },
     "execution_count": 9,
     "metadata": {},
     "output_type": "execute_result"
    }
   ],
   "source": [
    "features_karate = data.x\n",
    "type(features_karate)"
   ]
  },
  {
   "cell_type": "code",
   "execution_count": 10,
   "metadata": {},
   "outputs": [],
   "source": [
    "# Load and process features\n",
    "features_karate = csr_matrix(features_karate).tolil()\n",
    "features_karate, _ = process.preprocess_features(features_karate)\n",
    "features_karate = torch.FloatTensor(features_karate[np.newaxis])"
   ]
  },
  {
   "cell_type": "code",
   "execution_count": 11,
   "metadata": {},
   "outputs": [
    {
     "name": "stderr",
     "output_type": "stream",
     "text": [
      "C:\\Users\\jbryb\\AppData\\Local\\Temp\\ipykernel_9336\\3433633071.py:7: FutureWarning: adjacency_matrix will return a scipy.sparse array instead of a matrix in Networkx 3.0.\n",
      "  A = nx.adjacency_matrix(G)\n",
      "C:\\Users\\jbryb\\virual_envs_python\\pytorch_env\\lib\\site-packages\\networkx\\linalg\\graphmatrix.py:173: DeprecationWarning: \n",
      "\n",
      "The scipy.sparse array containers will be used instead of matrices\n",
      "in Networkx 3.0. Use `to_scipy_sparse_array` instead.\n",
      "  return nx.to_scipy_sparse_matrix(G, nodelist=nodelist, dtype=dtype, weight=weight)\n"
     ]
    }
   ],
   "source": [
    "# Load and proces grpah & adjacency matrix\n",
    "\n",
    "import networkx as nx\n",
    "\n",
    "G = nx.karate_club_graph()\n",
    "\n",
    "A = nx.adjacency_matrix(G)\n",
    "\n",
    "A = process.normalize_adj(A + sp.eye(A.shape[0]))\n",
    "\n",
    "\n",
    "sp_A = process.sparse_mx_to_torch_sparse_tensor(A)\n",
    "\n",
    "# features = torch.FloatTensor(features[np.newaxis])"
   ]
  },
  {
   "cell_type": "code",
   "execution_count": 12,
   "metadata": {},
   "outputs": [
    {
     "data": {
      "text/plain": [
       "torch.Tensor"
      ]
     },
     "execution_count": 12,
     "metadata": {},
     "output_type": "execute_result"
    }
   ],
   "source": [
    "type(sp_A)"
   ]
  },
  {
   "cell_type": "code",
   "execution_count": 13,
   "metadata": {},
   "outputs": [],
   "source": [
    "# training params\n",
    "batch_size = 1\n",
    "nb_epochs = 1000\n",
    "patience = 60\n",
    "lr = 0.01\n",
    "l2_coef = 1e-5\n",
    "drop_prob = 0.0\n",
    "# specify size of encoding vector:\n",
    "hid_units = 2 # 512\n",
    "sparse = True\n",
    "nonlinearity = 'prelu' # special name to separate parameters"
   ]
  },
  {
   "cell_type": "markdown",
   "metadata": {},
   "source": [
    "# Model Karate"
   ]
  },
  {
   "cell_type": "code",
   "execution_count": 14,
   "metadata": {},
   "outputs": [],
   "source": [
    "\n",
    "nb_nodes = features_karate.shape[1]\n",
    "ft_size = features_karate.shape[2]\n",
    "# nb_classes = labels.shape[1]\n",
    "\n",
    "labels = [] # torch.FloatTensor(labels[np.newaxis])\n",
    "\n",
    "idx_train = np.arange(len(list(G.nodes)))\n",
    "idx_val = np.arange(len(list(G.nodes)))\n",
    "idx_test = np.arange(len(list(G.nodes)))\n",
    "\n",
    "idx_train = torch.LongTensor(idx_train)\n",
    "idx_val = torch.LongTensor(idx_val)\n",
    "idx_test = torch.LongTensor(idx_test)"
   ]
  },
  {
   "cell_type": "code",
   "execution_count": 15,
   "metadata": {},
   "outputs": [
    {
     "name": "stdout",
     "output_type": "stream",
     "text": [
      "Loss: tensor(0.6926, grad_fn=<BinaryCrossEntropyWithLogitsBackward0>)\n",
      "Loss: tensor(0.6918, grad_fn=<BinaryCrossEntropyWithLogitsBackward0>)\n",
      "Loss: tensor(0.6931, grad_fn=<BinaryCrossEntropyWithLogitsBackward0>)\n",
      "Loss: tensor(0.6916, grad_fn=<BinaryCrossEntropyWithLogitsBackward0>)\n",
      "Loss: tensor(0.6928, grad_fn=<BinaryCrossEntropyWithLogitsBackward0>)\n",
      "Loss: tensor(0.6928, grad_fn=<BinaryCrossEntropyWithLogitsBackward0>)\n",
      "Loss: tensor(0.6907, grad_fn=<BinaryCrossEntropyWithLogitsBackward0>)\n",
      "Loss: tensor(0.6901, grad_fn=<BinaryCrossEntropyWithLogitsBackward0>)\n",
      "Loss: tensor(0.6917, grad_fn=<BinaryCrossEntropyWithLogitsBackward0>)\n",
      "Loss: tensor(0.6929, grad_fn=<BinaryCrossEntropyWithLogitsBackward0>)\n",
      "Loss: tensor(0.6914, grad_fn=<BinaryCrossEntropyWithLogitsBackward0>)\n",
      "Loss: tensor(0.6882, grad_fn=<BinaryCrossEntropyWithLogitsBackward0>)\n",
      "Loss: tensor(0.6877, grad_fn=<BinaryCrossEntropyWithLogitsBackward0>)\n",
      "Loss: tensor(0.6901, grad_fn=<BinaryCrossEntropyWithLogitsBackward0>)\n",
      "Loss: tensor(0.6891, grad_fn=<BinaryCrossEntropyWithLogitsBackward0>)\n",
      "Loss: tensor(0.6870, grad_fn=<BinaryCrossEntropyWithLogitsBackward0>)\n",
      "Loss: tensor(0.6853, grad_fn=<BinaryCrossEntropyWithLogitsBackward0>)\n",
      "Loss: tensor(0.6866, grad_fn=<BinaryCrossEntropyWithLogitsBackward0>)\n",
      "Loss: tensor(0.6848, grad_fn=<BinaryCrossEntropyWithLogitsBackward0>)\n",
      "Loss: tensor(0.6839, grad_fn=<BinaryCrossEntropyWithLogitsBackward0>)\n",
      "Loss: tensor(0.6861, grad_fn=<BinaryCrossEntropyWithLogitsBackward0>)\n",
      "Loss: tensor(0.6845, grad_fn=<BinaryCrossEntropyWithLogitsBackward0>)\n",
      "Loss: tensor(0.6817, grad_fn=<BinaryCrossEntropyWithLogitsBackward0>)\n",
      "Loss: tensor(0.6824, grad_fn=<BinaryCrossEntropyWithLogitsBackward0>)\n",
      "Loss: tensor(0.6830, grad_fn=<BinaryCrossEntropyWithLogitsBackward0>)\n",
      "Loss: tensor(0.6840, grad_fn=<BinaryCrossEntropyWithLogitsBackward0>)\n",
      "Loss: tensor(0.6761, grad_fn=<BinaryCrossEntropyWithLogitsBackward0>)\n",
      "Loss: tensor(0.6849, grad_fn=<BinaryCrossEntropyWithLogitsBackward0>)\n",
      "Loss: tensor(0.6802, grad_fn=<BinaryCrossEntropyWithLogitsBackward0>)\n",
      "Loss: tensor(0.6788, grad_fn=<BinaryCrossEntropyWithLogitsBackward0>)\n",
      "Loss: tensor(0.6863, grad_fn=<BinaryCrossEntropyWithLogitsBackward0>)\n",
      "Loss: tensor(0.6694, grad_fn=<BinaryCrossEntropyWithLogitsBackward0>)\n",
      "Loss: tensor(0.6779, grad_fn=<BinaryCrossEntropyWithLogitsBackward0>)\n",
      "Loss: tensor(0.6784, grad_fn=<BinaryCrossEntropyWithLogitsBackward0>)\n",
      "Loss: tensor(0.6736, grad_fn=<BinaryCrossEntropyWithLogitsBackward0>)\n",
      "Loss: tensor(0.6664, grad_fn=<BinaryCrossEntropyWithLogitsBackward0>)\n",
      "Loss: tensor(0.6661, grad_fn=<BinaryCrossEntropyWithLogitsBackward0>)\n",
      "Loss: tensor(0.6730, grad_fn=<BinaryCrossEntropyWithLogitsBackward0>)\n",
      "Loss: tensor(0.6671, grad_fn=<BinaryCrossEntropyWithLogitsBackward0>)\n",
      "Loss: tensor(0.6692, grad_fn=<BinaryCrossEntropyWithLogitsBackward0>)\n",
      "Loss: tensor(0.6576, grad_fn=<BinaryCrossEntropyWithLogitsBackward0>)\n",
      "Loss: tensor(0.6568, grad_fn=<BinaryCrossEntropyWithLogitsBackward0>)\n",
      "Loss: tensor(0.6701, grad_fn=<BinaryCrossEntropyWithLogitsBackward0>)\n",
      "Loss: tensor(0.6562, grad_fn=<BinaryCrossEntropyWithLogitsBackward0>)\n",
      "Loss: tensor(0.6480, grad_fn=<BinaryCrossEntropyWithLogitsBackward0>)\n",
      "Loss: tensor(0.6602, grad_fn=<BinaryCrossEntropyWithLogitsBackward0>)\n",
      "Loss: tensor(0.6548, grad_fn=<BinaryCrossEntropyWithLogitsBackward0>)\n",
      "Loss: tensor(0.6624, grad_fn=<BinaryCrossEntropyWithLogitsBackward0>)\n",
      "Loss: tensor(0.6537, grad_fn=<BinaryCrossEntropyWithLogitsBackward0>)\n",
      "Loss: tensor(0.6516, grad_fn=<BinaryCrossEntropyWithLogitsBackward0>)\n",
      "Loss: tensor(0.6536, grad_fn=<BinaryCrossEntropyWithLogitsBackward0>)\n",
      "Loss: tensor(0.6449, grad_fn=<BinaryCrossEntropyWithLogitsBackward0>)\n",
      "Loss: tensor(0.6479, grad_fn=<BinaryCrossEntropyWithLogitsBackward0>)\n",
      "Loss: tensor(0.6573, grad_fn=<BinaryCrossEntropyWithLogitsBackward0>)\n",
      "Loss: tensor(0.6396, grad_fn=<BinaryCrossEntropyWithLogitsBackward0>)\n",
      "Loss: tensor(0.6346, grad_fn=<BinaryCrossEntropyWithLogitsBackward0>)\n",
      "Loss: tensor(0.6478, grad_fn=<BinaryCrossEntropyWithLogitsBackward0>)\n",
      "Loss: tensor(0.6374, grad_fn=<BinaryCrossEntropyWithLogitsBackward0>)\n",
      "Loss: tensor(0.6538, grad_fn=<BinaryCrossEntropyWithLogitsBackward0>)\n",
      "Loss: tensor(0.6443, grad_fn=<BinaryCrossEntropyWithLogitsBackward0>)\n",
      "Loss: tensor(0.6459, grad_fn=<BinaryCrossEntropyWithLogitsBackward0>)\n",
      "Loss: tensor(0.6401, grad_fn=<BinaryCrossEntropyWithLogitsBackward0>)\n",
      "Loss: tensor(0.6217, grad_fn=<BinaryCrossEntropyWithLogitsBackward0>)\n",
      "Loss: tensor(0.6408, grad_fn=<BinaryCrossEntropyWithLogitsBackward0>)\n",
      "Loss: tensor(0.6110, grad_fn=<BinaryCrossEntropyWithLogitsBackward0>)\n",
      "Loss: tensor(0.6065, grad_fn=<BinaryCrossEntropyWithLogitsBackward0>)\n",
      "Loss: tensor(0.6111, grad_fn=<BinaryCrossEntropyWithLogitsBackward0>)\n",
      "Loss: tensor(0.6209, grad_fn=<BinaryCrossEntropyWithLogitsBackward0>)\n",
      "Loss: tensor(0.6204, grad_fn=<BinaryCrossEntropyWithLogitsBackward0>)\n",
      "Loss: tensor(0.6108, grad_fn=<BinaryCrossEntropyWithLogitsBackward0>)\n",
      "Loss: tensor(0.6046, grad_fn=<BinaryCrossEntropyWithLogitsBackward0>)\n",
      "Loss: tensor(0.6109, grad_fn=<BinaryCrossEntropyWithLogitsBackward0>)\n",
      "Loss: tensor(0.6302, grad_fn=<BinaryCrossEntropyWithLogitsBackward0>)\n",
      "Loss: tensor(0.6109, grad_fn=<BinaryCrossEntropyWithLogitsBackward0>)\n",
      "Loss: tensor(0.5785, grad_fn=<BinaryCrossEntropyWithLogitsBackward0>)\n",
      "Loss: tensor(0.6324, grad_fn=<BinaryCrossEntropyWithLogitsBackward0>)\n",
      "Loss: tensor(0.6159, grad_fn=<BinaryCrossEntropyWithLogitsBackward0>)\n",
      "Loss: tensor(0.5975, grad_fn=<BinaryCrossEntropyWithLogitsBackward0>)\n",
      "Loss: tensor(0.6242, grad_fn=<BinaryCrossEntropyWithLogitsBackward0>)\n",
      "Loss: tensor(0.5875, grad_fn=<BinaryCrossEntropyWithLogitsBackward0>)\n",
      "Loss: tensor(0.5947, grad_fn=<BinaryCrossEntropyWithLogitsBackward0>)\n",
      "Loss: tensor(0.6528, grad_fn=<BinaryCrossEntropyWithLogitsBackward0>)\n",
      "Loss: tensor(0.5815, grad_fn=<BinaryCrossEntropyWithLogitsBackward0>)\n",
      "Loss: tensor(0.5752, grad_fn=<BinaryCrossEntropyWithLogitsBackward0>)\n",
      "Loss: tensor(0.6141, grad_fn=<BinaryCrossEntropyWithLogitsBackward0>)\n",
      "Loss: tensor(0.5762, grad_fn=<BinaryCrossEntropyWithLogitsBackward0>)\n",
      "Loss: tensor(0.5800, grad_fn=<BinaryCrossEntropyWithLogitsBackward0>)\n",
      "Loss: tensor(0.5702, grad_fn=<BinaryCrossEntropyWithLogitsBackward0>)\n",
      "Loss: tensor(0.5814, grad_fn=<BinaryCrossEntropyWithLogitsBackward0>)\n",
      "Loss: tensor(0.5569, grad_fn=<BinaryCrossEntropyWithLogitsBackward0>)\n",
      "Loss: tensor(0.5578, grad_fn=<BinaryCrossEntropyWithLogitsBackward0>)\n",
      "Loss: tensor(0.5590, grad_fn=<BinaryCrossEntropyWithLogitsBackward0>)\n",
      "Loss: tensor(0.5330, grad_fn=<BinaryCrossEntropyWithLogitsBackward0>)\n",
      "Loss: tensor(0.5609, grad_fn=<BinaryCrossEntropyWithLogitsBackward0>)\n",
      "Loss: tensor(0.5944, grad_fn=<BinaryCrossEntropyWithLogitsBackward0>)\n",
      "Loss: tensor(0.5988, grad_fn=<BinaryCrossEntropyWithLogitsBackward0>)\n",
      "Loss: tensor(0.5886, grad_fn=<BinaryCrossEntropyWithLogitsBackward0>)\n",
      "Loss: tensor(0.5707, grad_fn=<BinaryCrossEntropyWithLogitsBackward0>)\n",
      "Loss: tensor(0.5786, grad_fn=<BinaryCrossEntropyWithLogitsBackward0>)\n",
      "Loss: tensor(0.5815, grad_fn=<BinaryCrossEntropyWithLogitsBackward0>)\n",
      "Loss: tensor(0.5569, grad_fn=<BinaryCrossEntropyWithLogitsBackward0>)\n",
      "Loss: tensor(0.5449, grad_fn=<BinaryCrossEntropyWithLogitsBackward0>)\n",
      "Loss: tensor(0.5213, grad_fn=<BinaryCrossEntropyWithLogitsBackward0>)\n",
      "Loss: tensor(0.5089, grad_fn=<BinaryCrossEntropyWithLogitsBackward0>)\n",
      "Loss: tensor(0.5977, grad_fn=<BinaryCrossEntropyWithLogitsBackward0>)\n",
      "Loss: tensor(0.6637, grad_fn=<BinaryCrossEntropyWithLogitsBackward0>)\n",
      "Loss: tensor(0.5729, grad_fn=<BinaryCrossEntropyWithLogitsBackward0>)\n",
      "Loss: tensor(0.5296, grad_fn=<BinaryCrossEntropyWithLogitsBackward0>)\n",
      "Loss: tensor(0.5427, grad_fn=<BinaryCrossEntropyWithLogitsBackward0>)\n",
      "Loss: tensor(0.5367, grad_fn=<BinaryCrossEntropyWithLogitsBackward0>)\n",
      "Loss: tensor(0.6017, grad_fn=<BinaryCrossEntropyWithLogitsBackward0>)\n",
      "Loss: tensor(0.5760, grad_fn=<BinaryCrossEntropyWithLogitsBackward0>)\n",
      "Loss: tensor(0.6079, grad_fn=<BinaryCrossEntropyWithLogitsBackward0>)\n",
      "Loss: tensor(0.5206, grad_fn=<BinaryCrossEntropyWithLogitsBackward0>)\n",
      "Loss: tensor(0.5301, grad_fn=<BinaryCrossEntropyWithLogitsBackward0>)\n",
      "Loss: tensor(0.5285, grad_fn=<BinaryCrossEntropyWithLogitsBackward0>)\n",
      "Loss: tensor(0.5250, grad_fn=<BinaryCrossEntropyWithLogitsBackward0>)\n",
      "Loss: tensor(0.5445, grad_fn=<BinaryCrossEntropyWithLogitsBackward0>)\n",
      "Loss: tensor(0.5337, grad_fn=<BinaryCrossEntropyWithLogitsBackward0>)\n",
      "Loss: tensor(0.6210, grad_fn=<BinaryCrossEntropyWithLogitsBackward0>)\n",
      "Loss: tensor(0.5025, grad_fn=<BinaryCrossEntropyWithLogitsBackward0>)\n",
      "Loss: tensor(0.5568, grad_fn=<BinaryCrossEntropyWithLogitsBackward0>)\n",
      "Loss: tensor(0.4516, grad_fn=<BinaryCrossEntropyWithLogitsBackward0>)\n",
      "Loss: tensor(0.5396, grad_fn=<BinaryCrossEntropyWithLogitsBackward0>)\n",
      "Loss: tensor(0.4844, grad_fn=<BinaryCrossEntropyWithLogitsBackward0>)\n",
      "Loss: tensor(0.5541, grad_fn=<BinaryCrossEntropyWithLogitsBackward0>)\n",
      "Loss: tensor(0.5756, grad_fn=<BinaryCrossEntropyWithLogitsBackward0>)\n",
      "Loss: tensor(0.5893, grad_fn=<BinaryCrossEntropyWithLogitsBackward0>)\n",
      "Loss: tensor(0.5778, grad_fn=<BinaryCrossEntropyWithLogitsBackward0>)\n",
      "Loss: tensor(0.6573, grad_fn=<BinaryCrossEntropyWithLogitsBackward0>)\n",
      "Loss: tensor(0.5206, grad_fn=<BinaryCrossEntropyWithLogitsBackward0>)\n",
      "Loss: tensor(0.6651, grad_fn=<BinaryCrossEntropyWithLogitsBackward0>)\n",
      "Loss: tensor(0.5647, grad_fn=<BinaryCrossEntropyWithLogitsBackward0>)\n",
      "Loss: tensor(0.5707, grad_fn=<BinaryCrossEntropyWithLogitsBackward0>)\n",
      "Loss: tensor(0.5618, grad_fn=<BinaryCrossEntropyWithLogitsBackward0>)\n",
      "Loss: tensor(0.5401, grad_fn=<BinaryCrossEntropyWithLogitsBackward0>)\n",
      "Loss: tensor(0.6352, grad_fn=<BinaryCrossEntropyWithLogitsBackward0>)\n",
      "Loss: tensor(0.5684, grad_fn=<BinaryCrossEntropyWithLogitsBackward0>)\n",
      "Loss: tensor(0.5195, grad_fn=<BinaryCrossEntropyWithLogitsBackward0>)\n",
      "Loss: tensor(0.5451, grad_fn=<BinaryCrossEntropyWithLogitsBackward0>)\n",
      "Loss: tensor(0.4911, grad_fn=<BinaryCrossEntropyWithLogitsBackward0>)\n"
     ]
    },
    {
     "name": "stdout",
     "output_type": "stream",
     "text": [
      "Loss: tensor(0.5106, grad_fn=<BinaryCrossEntropyWithLogitsBackward0>)\n",
      "Loss: tensor(0.5127, grad_fn=<BinaryCrossEntropyWithLogitsBackward0>)\n",
      "Loss: tensor(0.4913, grad_fn=<BinaryCrossEntropyWithLogitsBackward0>)\n",
      "Loss: tensor(0.5503, grad_fn=<BinaryCrossEntropyWithLogitsBackward0>)\n",
      "Loss: tensor(0.5353, grad_fn=<BinaryCrossEntropyWithLogitsBackward0>)\n",
      "Loss: tensor(0.5806, grad_fn=<BinaryCrossEntropyWithLogitsBackward0>)\n",
      "Loss: tensor(0.5997, grad_fn=<BinaryCrossEntropyWithLogitsBackward0>)\n",
      "Loss: tensor(0.4568, grad_fn=<BinaryCrossEntropyWithLogitsBackward0>)\n",
      "Loss: tensor(0.5830, grad_fn=<BinaryCrossEntropyWithLogitsBackward0>)\n",
      "Loss: tensor(0.5342, grad_fn=<BinaryCrossEntropyWithLogitsBackward0>)\n",
      "Loss: tensor(0.5435, grad_fn=<BinaryCrossEntropyWithLogitsBackward0>)\n",
      "Loss: tensor(0.4893, grad_fn=<BinaryCrossEntropyWithLogitsBackward0>)\n",
      "Loss: tensor(0.5382, grad_fn=<BinaryCrossEntropyWithLogitsBackward0>)\n",
      "Loss: tensor(0.5599, grad_fn=<BinaryCrossEntropyWithLogitsBackward0>)\n",
      "Loss: tensor(0.5431, grad_fn=<BinaryCrossEntropyWithLogitsBackward0>)\n",
      "Loss: tensor(0.4819, grad_fn=<BinaryCrossEntropyWithLogitsBackward0>)\n",
      "Loss: tensor(0.5736, grad_fn=<BinaryCrossEntropyWithLogitsBackward0>)\n",
      "Loss: tensor(0.5652, grad_fn=<BinaryCrossEntropyWithLogitsBackward0>)\n",
      "Loss: tensor(0.5274, grad_fn=<BinaryCrossEntropyWithLogitsBackward0>)\n",
      "Loss: tensor(0.5218, grad_fn=<BinaryCrossEntropyWithLogitsBackward0>)\n",
      "Loss: tensor(0.4645, grad_fn=<BinaryCrossEntropyWithLogitsBackward0>)\n",
      "Loss: tensor(0.5882, grad_fn=<BinaryCrossEntropyWithLogitsBackward0>)\n",
      "Loss: tensor(0.5272, grad_fn=<BinaryCrossEntropyWithLogitsBackward0>)\n",
      "Loss: tensor(0.5073, grad_fn=<BinaryCrossEntropyWithLogitsBackward0>)\n",
      "Loss: tensor(0.5092, grad_fn=<BinaryCrossEntropyWithLogitsBackward0>)\n",
      "Loss: tensor(0.5045, grad_fn=<BinaryCrossEntropyWithLogitsBackward0>)\n",
      "Loss: tensor(0.5362, grad_fn=<BinaryCrossEntropyWithLogitsBackward0>)\n",
      "Loss: tensor(0.5360, grad_fn=<BinaryCrossEntropyWithLogitsBackward0>)\n",
      "Loss: tensor(0.5725, grad_fn=<BinaryCrossEntropyWithLogitsBackward0>)\n",
      "Loss: tensor(0.4252, grad_fn=<BinaryCrossEntropyWithLogitsBackward0>)\n",
      "Loss: tensor(0.5538, grad_fn=<BinaryCrossEntropyWithLogitsBackward0>)\n",
      "Loss: tensor(0.4763, grad_fn=<BinaryCrossEntropyWithLogitsBackward0>)\n",
      "Loss: tensor(0.5711, grad_fn=<BinaryCrossEntropyWithLogitsBackward0>)\n",
      "Loss: tensor(0.5030, grad_fn=<BinaryCrossEntropyWithLogitsBackward0>)\n",
      "Loss: tensor(0.6560, grad_fn=<BinaryCrossEntropyWithLogitsBackward0>)\n",
      "Loss: tensor(0.5622, grad_fn=<BinaryCrossEntropyWithLogitsBackward0>)\n",
      "Loss: tensor(0.5190, grad_fn=<BinaryCrossEntropyWithLogitsBackward0>)\n",
      "Loss: tensor(0.4850, grad_fn=<BinaryCrossEntropyWithLogitsBackward0>)\n",
      "Loss: tensor(0.5888, grad_fn=<BinaryCrossEntropyWithLogitsBackward0>)\n",
      "Loss: tensor(0.4611, grad_fn=<BinaryCrossEntropyWithLogitsBackward0>)\n",
      "Loss: tensor(0.4957, grad_fn=<BinaryCrossEntropyWithLogitsBackward0>)\n",
      "Loss: tensor(0.5828, grad_fn=<BinaryCrossEntropyWithLogitsBackward0>)\n",
      "Loss: tensor(0.5009, grad_fn=<BinaryCrossEntropyWithLogitsBackward0>)\n",
      "Loss: tensor(0.5054, grad_fn=<BinaryCrossEntropyWithLogitsBackward0>)\n",
      "Loss: tensor(0.5480, grad_fn=<BinaryCrossEntropyWithLogitsBackward0>)\n",
      "Loss: tensor(0.5032, grad_fn=<BinaryCrossEntropyWithLogitsBackward0>)\n",
      "Loss: tensor(0.5435, grad_fn=<BinaryCrossEntropyWithLogitsBackward0>)\n",
      "Loss: tensor(0.5449, grad_fn=<BinaryCrossEntropyWithLogitsBackward0>)\n",
      "Loss: tensor(0.5545, grad_fn=<BinaryCrossEntropyWithLogitsBackward0>)\n",
      "Loss: tensor(0.4584, grad_fn=<BinaryCrossEntropyWithLogitsBackward0>)\n",
      "Loss: tensor(0.4702, grad_fn=<BinaryCrossEntropyWithLogitsBackward0>)\n",
      "Loss: tensor(0.5329, grad_fn=<BinaryCrossEntropyWithLogitsBackward0>)\n",
      "Loss: tensor(0.6256, grad_fn=<BinaryCrossEntropyWithLogitsBackward0>)\n",
      "Loss: tensor(0.4775, grad_fn=<BinaryCrossEntropyWithLogitsBackward0>)\n",
      "Loss: tensor(0.4774, grad_fn=<BinaryCrossEntropyWithLogitsBackward0>)\n",
      "Loss: tensor(0.6562, grad_fn=<BinaryCrossEntropyWithLogitsBackward0>)\n",
      "Loss: tensor(0.4756, grad_fn=<BinaryCrossEntropyWithLogitsBackward0>)\n",
      "Loss: tensor(0.5550, grad_fn=<BinaryCrossEntropyWithLogitsBackward0>)\n",
      "Loss: tensor(0.4631, grad_fn=<BinaryCrossEntropyWithLogitsBackward0>)\n",
      "Loss: tensor(0.5640, grad_fn=<BinaryCrossEntropyWithLogitsBackward0>)\n",
      "Loss: tensor(0.4633, grad_fn=<BinaryCrossEntropyWithLogitsBackward0>)\n",
      "Loss: tensor(0.4206, grad_fn=<BinaryCrossEntropyWithLogitsBackward0>)\n",
      "Loss: tensor(0.5296, grad_fn=<BinaryCrossEntropyWithLogitsBackward0>)\n",
      "Loss: tensor(0.4925, grad_fn=<BinaryCrossEntropyWithLogitsBackward0>)\n",
      "Loss: tensor(0.5515, grad_fn=<BinaryCrossEntropyWithLogitsBackward0>)\n",
      "Loss: tensor(0.4533, grad_fn=<BinaryCrossEntropyWithLogitsBackward0>)\n",
      "Loss: tensor(0.5223, grad_fn=<BinaryCrossEntropyWithLogitsBackward0>)\n",
      "Loss: tensor(0.5987, grad_fn=<BinaryCrossEntropyWithLogitsBackward0>)\n",
      "Loss: tensor(0.4637, grad_fn=<BinaryCrossEntropyWithLogitsBackward0>)\n",
      "Loss: tensor(0.6729, grad_fn=<BinaryCrossEntropyWithLogitsBackward0>)\n",
      "Loss: tensor(0.5279, grad_fn=<BinaryCrossEntropyWithLogitsBackward0>)\n",
      "Loss: tensor(0.5251, grad_fn=<BinaryCrossEntropyWithLogitsBackward0>)\n",
      "Loss: tensor(0.5487, grad_fn=<BinaryCrossEntropyWithLogitsBackward0>)\n",
      "Loss: tensor(0.4934, grad_fn=<BinaryCrossEntropyWithLogitsBackward0>)\n",
      "Loss: tensor(0.4713, grad_fn=<BinaryCrossEntropyWithLogitsBackward0>)\n",
      "Loss: tensor(0.4632, grad_fn=<BinaryCrossEntropyWithLogitsBackward0>)\n",
      "Loss: tensor(0.5739, grad_fn=<BinaryCrossEntropyWithLogitsBackward0>)\n",
      "Loss: tensor(0.4738, grad_fn=<BinaryCrossEntropyWithLogitsBackward0>)\n",
      "Loss: tensor(0.5108, grad_fn=<BinaryCrossEntropyWithLogitsBackward0>)\n",
      "Loss: tensor(0.5420, grad_fn=<BinaryCrossEntropyWithLogitsBackward0>)\n",
      "Loss: tensor(0.5902, grad_fn=<BinaryCrossEntropyWithLogitsBackward0>)\n",
      "Loss: tensor(0.4200, grad_fn=<BinaryCrossEntropyWithLogitsBackward0>)\n",
      "Loss: tensor(0.4635, grad_fn=<BinaryCrossEntropyWithLogitsBackward0>)\n",
      "Loss: tensor(0.4355, grad_fn=<BinaryCrossEntropyWithLogitsBackward0>)\n",
      "Loss: tensor(0.4407, grad_fn=<BinaryCrossEntropyWithLogitsBackward0>)\n",
      "Loss: tensor(0.4951, grad_fn=<BinaryCrossEntropyWithLogitsBackward0>)\n",
      "Loss: tensor(0.4138, grad_fn=<BinaryCrossEntropyWithLogitsBackward0>)\n",
      "Loss: tensor(0.4433, grad_fn=<BinaryCrossEntropyWithLogitsBackward0>)\n",
      "Loss: tensor(0.4708, grad_fn=<BinaryCrossEntropyWithLogitsBackward0>)\n",
      "Loss: tensor(0.5887, grad_fn=<BinaryCrossEntropyWithLogitsBackward0>)\n",
      "Loss: tensor(0.4530, grad_fn=<BinaryCrossEntropyWithLogitsBackward0>)\n",
      "Loss: tensor(0.4921, grad_fn=<BinaryCrossEntropyWithLogitsBackward0>)\n",
      "Loss: tensor(0.6597, grad_fn=<BinaryCrossEntropyWithLogitsBackward0>)\n",
      "Loss: tensor(0.5485, grad_fn=<BinaryCrossEntropyWithLogitsBackward0>)\n",
      "Loss: tensor(0.5828, grad_fn=<BinaryCrossEntropyWithLogitsBackward0>)\n",
      "Loss: tensor(0.5983, grad_fn=<BinaryCrossEntropyWithLogitsBackward0>)\n",
      "Loss: tensor(0.5154, grad_fn=<BinaryCrossEntropyWithLogitsBackward0>)\n",
      "Loss: tensor(0.5993, grad_fn=<BinaryCrossEntropyWithLogitsBackward0>)\n",
      "Loss: tensor(0.6086, grad_fn=<BinaryCrossEntropyWithLogitsBackward0>)\n",
      "Loss: tensor(0.5332, grad_fn=<BinaryCrossEntropyWithLogitsBackward0>)\n",
      "Loss: tensor(0.5889, grad_fn=<BinaryCrossEntropyWithLogitsBackward0>)\n",
      "Loss: tensor(0.5599, grad_fn=<BinaryCrossEntropyWithLogitsBackward0>)\n",
      "Loss: tensor(0.4424, grad_fn=<BinaryCrossEntropyWithLogitsBackward0>)\n",
      "Loss: tensor(0.5102, grad_fn=<BinaryCrossEntropyWithLogitsBackward0>)\n",
      "Loss: tensor(0.6233, grad_fn=<BinaryCrossEntropyWithLogitsBackward0>)\n",
      "Loss: tensor(0.4244, grad_fn=<BinaryCrossEntropyWithLogitsBackward0>)\n",
      "Loss: tensor(0.4448, grad_fn=<BinaryCrossEntropyWithLogitsBackward0>)\n",
      "Loss: tensor(0.5332, grad_fn=<BinaryCrossEntropyWithLogitsBackward0>)\n",
      "Loss: tensor(0.5997, grad_fn=<BinaryCrossEntropyWithLogitsBackward0>)\n",
      "Loss: tensor(0.5201, grad_fn=<BinaryCrossEntropyWithLogitsBackward0>)\n",
      "Loss: tensor(0.5545, grad_fn=<BinaryCrossEntropyWithLogitsBackward0>)\n",
      "Loss: tensor(0.5834, grad_fn=<BinaryCrossEntropyWithLogitsBackward0>)\n",
      "Loss: tensor(0.4666, grad_fn=<BinaryCrossEntropyWithLogitsBackward0>)\n",
      "Loss: tensor(0.5879, grad_fn=<BinaryCrossEntropyWithLogitsBackward0>)\n",
      "Loss: tensor(0.4627, grad_fn=<BinaryCrossEntropyWithLogitsBackward0>)\n",
      "Loss: tensor(0.6517, grad_fn=<BinaryCrossEntropyWithLogitsBackward0>)\n",
      "Loss: tensor(0.6549, grad_fn=<BinaryCrossEntropyWithLogitsBackward0>)\n",
      "Loss: tensor(0.4842, grad_fn=<BinaryCrossEntropyWithLogitsBackward0>)\n"
     ]
    },
    {
     "name": "stdout",
     "output_type": "stream",
     "text": [
      "Loss: tensor(0.6622, grad_fn=<BinaryCrossEntropyWithLogitsBackward0>)\n",
      "Loss: tensor(0.6072, grad_fn=<BinaryCrossEntropyWithLogitsBackward0>)\n",
      "Loss: tensor(0.4527, grad_fn=<BinaryCrossEntropyWithLogitsBackward0>)\n",
      "Loss: tensor(0.4888, grad_fn=<BinaryCrossEntropyWithLogitsBackward0>)\n",
      "Loss: tensor(0.5410, grad_fn=<BinaryCrossEntropyWithLogitsBackward0>)\n",
      "Loss: tensor(0.5270, grad_fn=<BinaryCrossEntropyWithLogitsBackward0>)\n",
      "Loss: tensor(0.4198, grad_fn=<BinaryCrossEntropyWithLogitsBackward0>)\n",
      "Loss: tensor(0.4511, grad_fn=<BinaryCrossEntropyWithLogitsBackward0>)\n",
      "Loss: tensor(0.6301, grad_fn=<BinaryCrossEntropyWithLogitsBackward0>)\n",
      "Loss: tensor(0.6385, grad_fn=<BinaryCrossEntropyWithLogitsBackward0>)\n",
      "Loss: tensor(0.6462, grad_fn=<BinaryCrossEntropyWithLogitsBackward0>)\n",
      "Loss: tensor(0.6231, grad_fn=<BinaryCrossEntropyWithLogitsBackward0>)\n",
      "Loss: tensor(0.6300, grad_fn=<BinaryCrossEntropyWithLogitsBackward0>)\n",
      "Loss: tensor(0.5575, grad_fn=<BinaryCrossEntropyWithLogitsBackward0>)\n",
      "Loss: tensor(0.4678, grad_fn=<BinaryCrossEntropyWithLogitsBackward0>)\n",
      "Loss: tensor(0.6255, grad_fn=<BinaryCrossEntropyWithLogitsBackward0>)\n",
      "Loss: tensor(0.4641, grad_fn=<BinaryCrossEntropyWithLogitsBackward0>)\n",
      "Loss: tensor(0.5571, grad_fn=<BinaryCrossEntropyWithLogitsBackward0>)\n",
      "Loss: tensor(0.5095, grad_fn=<BinaryCrossEntropyWithLogitsBackward0>)\n",
      "Loss: tensor(0.5627, grad_fn=<BinaryCrossEntropyWithLogitsBackward0>)\n",
      "Loss: tensor(0.5447, grad_fn=<BinaryCrossEntropyWithLogitsBackward0>)\n",
      "Loss: tensor(0.6480, grad_fn=<BinaryCrossEntropyWithLogitsBackward0>)\n",
      "Loss: tensor(0.5067, grad_fn=<BinaryCrossEntropyWithLogitsBackward0>)\n",
      "Loss: tensor(0.5022, grad_fn=<BinaryCrossEntropyWithLogitsBackward0>)\n",
      "Loss: tensor(0.4500, grad_fn=<BinaryCrossEntropyWithLogitsBackward0>)\n",
      "Loss: tensor(0.5552, grad_fn=<BinaryCrossEntropyWithLogitsBackward0>)\n",
      "Loss: tensor(0.4875, grad_fn=<BinaryCrossEntropyWithLogitsBackward0>)\n",
      "Loss: tensor(0.5117, grad_fn=<BinaryCrossEntropyWithLogitsBackward0>)\n",
      "Loss: tensor(0.5651, grad_fn=<BinaryCrossEntropyWithLogitsBackward0>)\n",
      "Early stopping!\n",
      "Loading 227th epoch\n"
     ]
    },
    {
     "data": {
      "text/plain": [
       "<All keys matched successfully>"
      ]
     },
     "execution_count": 15,
     "metadata": {},
     "output_type": "execute_result"
    }
   ],
   "source": [
    "model = DGI(ft_size, hid_units, nonlinearity)\n",
    "optimiser = torch.optim.Adam(model.parameters(), lr=lr, weight_decay=l2_coef)\n",
    "\n",
    "# b_xent applies logits follwoed by cross-entropy loss\n",
    "b_xent = nn.BCEWithLogitsLoss()\n",
    "# xent = nn.CrossEntropyLoss()\n",
    "\n",
    "# cnt_wait counts epochs from the last bes tmodel and implemnts early stopping\n",
    "cnt_wait = 0\n",
    "# initial best score for loss\n",
    "best = 1e9\n",
    "best_t = 0\n",
    "\n",
    "loss_history = list()\n",
    "\n",
    "for epoch in range(nb_epochs):\n",
    "    model.train()\n",
    "    optimiser.zero_grad()\n",
    "\n",
    "    idx = np.random.permutation(nb_nodes)\n",
    "    # reshuffle features\n",
    "    shuf_fts = features_karate[:, idx, :]\n",
    "    # vector of ones, length = number of nodes\n",
    "    lbl_1 = torch.ones(batch_size, nb_nodes)\n",
    "    # vector of zeros, length = number of nodes \n",
    "    lbl_2 = torch.zeros(batch_size, nb_nodes)\n",
    "    # length = 2*number of nodes, i.e. 5416\n",
    "    lbl = torch.cat((lbl_1, lbl_2), 1)\n",
    "\n",
    "    # the \"if\" affects onle \"sparse\" vs \"sp_adj\"\n",
    "    # i.e. mask = None, samp_bias1 = None, samp_bias2 = None\n",
    "    logits = model(features_karate, shuf_fts, sp_A if sparse else adj, sparse, None, None, None) \n",
    "\n",
    "    loss = b_xent(logits, lbl)\n",
    "    loss_history.append(loss.detach().numpy()) # use detach to get rid of the gradient\n",
    "\n",
    "    print('Loss:', loss)\n",
    "\n",
    "    if loss < best:\n",
    "        best = loss\n",
    "        best_t = epoch\n",
    "        cnt_wait = 0\n",
    "        torch.save(model.state_dict(), 'best_dgi.pkl')\n",
    "    else:\n",
    "        cnt_wait += 1\n",
    "\n",
    "    if cnt_wait == patience:\n",
    "        print('Early stopping!')\n",
    "        break\n",
    "\n",
    "    loss.backward()\n",
    "    optimiser.step()\n",
    "\n",
    "print('Loading {}th epoch'.format(best_t))\n",
    "model.load_state_dict(torch.load('best_dgi.pkl'))\n",
    "\n",
    "\n"
   ]
  },
  {
   "cell_type": "code",
   "execution_count": 16,
   "metadata": {},
   "outputs": [],
   "source": [
    "h, s = model.embed(features_karate, sp_A, msk = None, sparse = True )"
   ]
  },
  {
   "cell_type": "code",
   "execution_count": 17,
   "metadata": {},
   "outputs": [
    {
     "data": {
      "text/plain": [
       "[<matplotlib.lines.Line2D at 0x21d86f45a60>]"
      ]
     },
     "execution_count": 17,
     "metadata": {},
     "output_type": "execute_result"
    },
    {
     "data": {
      "image/png": "[encoded data removed]",
      "text/plain": [
       "<Figure size 432x288 with 1 Axes>"
      ]
     },
     "metadata": {
      "needs_background": "light"
     },
     "output_type": "display_data"
    }
   ],
   "source": [
    "import matplotlib.pyplot as plt\n",
    "plt.plot(loss_history)"
   ]
  },
  {
   "cell_type": "code",
   "execution_count": 18,
   "metadata": {},
   "outputs": [],
   "source": [
    "def visualize_embedding(h, color, epoch=None, loss=None):\n",
    "    plt.figure(figsize=(7,7))\n",
    "    plt.xticks([])\n",
    "    plt.yticks([])\n",
    "    h = h.detach().cpu().numpy()\n",
    "    plt.scatter(h[:, 0], h[:, 1], s=140, c=color, cmap=\"Set2\")\n",
    "    if epoch is not None and loss is not None:\n",
    "        plt.xlabel(f'Epoch: {epoch}, Loss: {loss.item():.4f}', fontsize=16)\n",
    "    plt.show()"
   ]
  },
  {
   "cell_type": "code",
   "execution_count": 19,
   "metadata": {},
   "outputs": [
    {
     "data": {
      "image/png": "[encoded data removed]",
      "text/plain": [
       "<Figure size 504x504 with 1 Axes>"
      ]
     },
     "metadata": {},
     "output_type": "display_data"
    }
   ],
   "source": [
    "visualize_embedding(h[0, :,:], data.y, epoch=None, loss=None)"
   ]
  },
  {
   "cell_type": "code",
   "execution_count": null,
   "metadata": {},
   "outputs": [],
   "source": []
  }
 ],
 "metadata": {
  "kernelspec": {
   "display_name": "pytorch_env",
   "language": "python",
   "name": "pytorch_env"
  },
  "language_info": {
   "codemirror_mode": {
    "name": "ipython",
    "version": 3
   },
   "file_extension": ".py",
   "mimetype": "text/x-python",
   "name": "python",
   "nbconvert_exporter": "python",
   "pygments_lexer": "ipython3",
   "version": "3.8.6"
  },
  "toc": {
   "base_numbering": 1,
   "nav_menu": {},
   "number_sections": true,
   "sideBar": true,
   "skip_h1_title": false,
   "title_cell": "Table of Contents",
   "title_sidebar": "Contents",
   "toc_cell": false,
   "toc_position": {},
   "toc_section_display": true,
   "toc_window_display": false
  },
  "varInspector": {
   "cols": {
    "lenName": 16,
    "lenType": 16,
    "lenVar": 40
   },
   "kernels_config": {
    "python": {
     "delete_cmd_postfix": "",
     "delete_cmd_prefix": "del ",
     "library": "var_list.py",
     "varRefreshCmd": "print(var_dic_list())"
    },
    "r": {
     "delete_cmd_postfix": ") ",
     "delete_cmd_prefix": "rm(",
     "library": "var_list.r",
     "varRefreshCmd": "cat(var_dic_list()) "
    }
   },
   "types_to_exclude": [
    "module",
    "function",
    "builtin_function_or_method",
    "instance",
    "_Feature"
   ],
   "window_display": false
  }
 },
 "nbformat": 4,
 "nbformat_minor": 4
}
