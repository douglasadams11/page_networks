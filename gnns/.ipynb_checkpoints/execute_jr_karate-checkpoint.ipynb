{
 "cells": [
  {
   "cell_type": "code",
   "execution_count": 2,
   "metadata": {},
   "outputs": [
    {
     "ename": "ModuleNotFoundError",
     "evalue": "No module named 'layers'",
     "output_type": "error",
     "traceback": [
      "\u001b[1;31m---------------------------------------------------------------------------\u001b[0m",
      "\u001b[1;31mModuleNotFoundError\u001b[0m                       Traceback (most recent call last)",
      "Input \u001b[1;32mIn [2]\u001b[0m, in \u001b[0;36m<cell line: 6>\u001b[1;34m()\u001b[0m\n\u001b[0;32m      3\u001b[0m \u001b[38;5;28;01mimport\u001b[39;00m \u001b[38;5;21;01mtorch\u001b[39;00m\n\u001b[0;32m      4\u001b[0m \u001b[38;5;28;01mimport\u001b[39;00m \u001b[38;5;21;01mtorch\u001b[39;00m\u001b[38;5;21;01m.\u001b[39;00m\u001b[38;5;21;01mnn\u001b[39;00m \u001b[38;5;28;01mas\u001b[39;00m \u001b[38;5;21;01mnn\u001b[39;00m\n\u001b[1;32m----> 6\u001b[0m \u001b[38;5;28;01mfrom\u001b[39;00m \u001b[38;5;21;01mDGI\u001b[39;00m\u001b[38;5;21;01m.\u001b[39;00m\u001b[38;5;21;01mmodels\u001b[39;00m \u001b[38;5;28;01mimport\u001b[39;00m DGI, LogReg\n\u001b[0;32m      7\u001b[0m \u001b[38;5;28;01mfrom\u001b[39;00m \u001b[38;5;21;01mutils\u001b[39;00m \u001b[38;5;28;01mimport\u001b[39;00m process\n\u001b[0;32m      8\u001b[0m \u001b[38;5;28;01mfrom\u001b[39;00m \u001b[38;5;21;01mscipy\u001b[39;00m\u001b[38;5;21;01m.\u001b[39;00m\u001b[38;5;21;01msparse\u001b[39;00m \u001b[38;5;28;01mimport\u001b[39;00m csr_matrix\n",
      "File \u001b[1;32m~\\OneDrive\\Documents\\Projects\\github_gov_newtork_jrad\\gnns\\DGI\\models\\__init__.py:1\u001b[0m, in \u001b[0;36m<module>\u001b[1;34m\u001b[0m\n\u001b[1;32m----> 1\u001b[0m \u001b[38;5;28;01mfrom\u001b[39;00m \u001b[38;5;21;01m.\u001b[39;00m\u001b[38;5;21;01mdgi\u001b[39;00m \u001b[38;5;28;01mimport\u001b[39;00m DGI\n\u001b[0;32m      2\u001b[0m \u001b[38;5;28;01mfrom\u001b[39;00m \u001b[38;5;21;01m.\u001b[39;00m\u001b[38;5;21;01mlogreg\u001b[39;00m \u001b[38;5;28;01mimport\u001b[39;00m LogReg\n",
      "File \u001b[1;32m~\\OneDrive\\Documents\\Projects\\github_gov_newtork_jrad\\gnns\\DGI\\models\\dgi.py:3\u001b[0m, in \u001b[0;36m<module>\u001b[1;34m\u001b[0m\n\u001b[0;32m      1\u001b[0m \u001b[38;5;28;01mimport\u001b[39;00m \u001b[38;5;21;01mtorch\u001b[39;00m\n\u001b[0;32m      2\u001b[0m \u001b[38;5;28;01mimport\u001b[39;00m \u001b[38;5;21;01mtorch\u001b[39;00m\u001b[38;5;21;01m.\u001b[39;00m\u001b[38;5;21;01mnn\u001b[39;00m \u001b[38;5;28;01mas\u001b[39;00m \u001b[38;5;21;01mnn\u001b[39;00m\n\u001b[1;32m----> 3\u001b[0m \u001b[38;5;28;01mfrom\u001b[39;00m \u001b[38;5;21;01mlayers\u001b[39;00m \u001b[38;5;28;01mimport\u001b[39;00m GCN, AvgReadout, Discriminator\n\u001b[0;32m      5\u001b[0m \u001b[38;5;66;03m# model = DGI(ft_size, hid_units, nonlinearity)\u001b[39;00m\n\u001b[0;32m      6\u001b[0m \u001b[38;5;66;03m# logits = model(features, shuf_fts, sp_adj if sparse else adj, sparse, None, None, None)\u001b[39;00m\n\u001b[0;32m      7\u001b[0m \u001b[38;5;28;01mclass\u001b[39;00m \u001b[38;5;21;01mDGI\u001b[39;00m(nn\u001b[38;5;241m.\u001b[39mModule):\n\u001b[0;32m      8\u001b[0m     \u001b[38;5;66;03m# n_in = number of input (node) features\u001b[39;00m\n\u001b[0;32m      9\u001b[0m     \u001b[38;5;66;03m# n_h = number of hidden layers (and outputs)\u001b[39;00m\n",
      "\u001b[1;31mModuleNotFoundError\u001b[0m: No module named 'layers'"
     ]
    }
   ],
   "source": [
    "import numpy as np\n",
    "import scipy.sparse as sp\n",
    "import torch\n",
    "import torch.nn as nn\n",
    "\n",
    "from DGI.models import DGI, LogReg\n",
    "from utils import process\n",
    "from scipy.sparse import csr_matrix"
   ]
  },
  {
   "cell_type": "code",
   "execution_count": 5,
   "metadata": {},
   "outputs": [
    {
     "ename": "ImportError",
     "evalue": "cannot import name 'DGI' from 'pgl' (C:\\Users\\jbryb\\virual_envs_python\\pytorch_env\\lib\\site-packages\\pgl\\__init__.py)",
     "output_type": "error",
     "traceback": [
      "\u001b[1;31m---------------------------------------------------------------------------\u001b[0m",
      "\u001b[1;31mImportError\u001b[0m                               Traceback (most recent call last)",
      "Input \u001b[1;32mIn [5]\u001b[0m, in \u001b[0;36m<cell line: 2>\u001b[1;34m()\u001b[0m\n\u001b[0;32m      1\u001b[0m \u001b[38;5;28;01mimport\u001b[39;00m \u001b[38;5;21;01mpgl\u001b[39;00m\n\u001b[1;32m----> 2\u001b[0m \u001b[38;5;28;01mfrom\u001b[39;00m \u001b[38;5;21;01mpgl\u001b[39;00m \u001b[38;5;28;01mimport\u001b[39;00m DGI\n",
      "\u001b[1;31mImportError\u001b[0m: cannot import name 'DGI' from 'pgl' (C:\\Users\\jbryb\\virual_envs_python\\pytorch_env\\lib\\site-packages\\pgl\\__init__.py)"
     ]
    }
   ],
   "source": [
    "import pgl\n",
    "from pgl import DGI"
   ]
  },
  {
   "cell_type": "code",
   "execution_count": null,
   "metadata": {},
   "outputs": [],
   "source": [
    "from torch_geometric.datasets import KarateClub\n",
    "\n",
    "dataset = KarateClub()"
   ]
  },
  {
   "cell_type": "code",
   "execution_count": null,
   "metadata": {},
   "outputs": [],
   "source": [
    "data = dataset[0] "
   ]
  },
  {
   "cell_type": "code",
   "execution_count": 6,
   "metadata": {},
   "outputs": [
    {
     "data": {
      "text/plain": [
       "torch.Tensor"
      ]
     },
     "execution_count": 6,
     "metadata": {},
     "output_type": "execute_result"
    }
   ],
   "source": [
    "features_karate = data.x\n",
    "type(features_karate)"
   ]
  },
  {
   "cell_type": "code",
   "execution_count": 7,
   "metadata": {},
   "outputs": [],
   "source": [
    "# Load and process features\n",
    "features_karate = csr_matrix(features_karate).tolil()\n",
    "features_karate, _ = process.preprocess_features(features_karate)\n",
    "features_karate = torch.FloatTensor(features_karate[np.newaxis])"
   ]
  },
  {
   "cell_type": "code",
   "execution_count": 8,
   "metadata": {},
   "outputs": [
    {
     "name": "stderr",
     "output_type": "stream",
     "text": [
      "C:\\Users\\jbryb\\AppData\\Local\\Temp\\ipykernel_11664\\3433633071.py:7: FutureWarning: adjacency_matrix will return a scipy.sparse array instead of a matrix in Networkx 3.0.\n",
      "  A = nx.adjacency_matrix(G)\n"
     ]
    }
   ],
   "source": [
    "# Load and proces grpah & adjacency matrix\n",
    "\n",
    "import networkx as nx\n",
    "\n",
    "G = nx.karate_club_graph()\n",
    "\n",
    "A = nx.adjacency_matrix(G)\n",
    "\n",
    "A = process.normalize_adj(A + sp.eye(A.shape[0]))\n",
    "\n",
    "\n",
    "sp_A = process.sparse_mx_to_torch_sparse_tensor(A)\n",
    "\n",
    "# features = torch.FloatTensor(features[np.newaxis])"
   ]
  },
  {
   "cell_type": "code",
   "execution_count": 9,
   "metadata": {},
   "outputs": [
    {
     "data": {
      "text/plain": [
       "torch.Tensor"
      ]
     },
     "execution_count": 9,
     "metadata": {},
     "output_type": "execute_result"
    }
   ],
   "source": [
    "type(sp_A)"
   ]
  },
  {
   "cell_type": "code",
   "execution_count": 10,
   "metadata": {},
   "outputs": [],
   "source": [
    "# training params\n",
    "batch_size = 1\n",
    "nb_epochs = 1000\n",
    "patience = 60\n",
    "lr = 0.01\n",
    "l2_coef = 1e-5\n",
    "drop_prob = 0.0\n",
    "# specify size of encoding vector:\n",
    "hid_units = 2 # 512\n",
    "sparse = True\n",
    "nonlinearity = 'prelu' # special name to separate parameters"
   ]
  },
  {
   "cell_type": "markdown",
   "metadata": {},
   "source": [
    "# Model Karate"
   ]
  },
  {
   "cell_type": "code",
   "execution_count": 11,
   "metadata": {},
   "outputs": [],
   "source": [
    "\n",
    "nb_nodes = features_karate.shape[1]\n",
    "ft_size = features_karate.shape[2]\n",
    "# nb_classes = labels.shape[1]\n",
    "\n",
    "labels = [] # torch.FloatTensor(labels[np.newaxis])\n",
    "\n",
    "idx_train = np.arange(len(list(G.nodes)))\n",
    "idx_val = np.arange(len(list(G.nodes)))\n",
    "idx_test = np.arange(len(list(G.nodes)))\n",
    "\n",
    "idx_train = torch.LongTensor(idx_train)\n",
    "idx_val = torch.LongTensor(idx_val)\n",
    "idx_test = torch.LongTensor(idx_test)"
   ]
  },
  {
   "cell_type": "code",
   "execution_count": 12,
   "metadata": {},
   "outputs": [
    {
     "name": "stdout",
     "output_type": "stream",
     "text": [
      "Loss: tensor(0.6962, grad_fn=<BinaryCrossEntropyWithLogitsBackward0>)\n",
      "Loss: tensor(0.6942, grad_fn=<BinaryCrossEntropyWithLogitsBackward0>)\n",
      "Loss: tensor(0.6971, grad_fn=<BinaryCrossEntropyWithLogitsBackward0>)\n",
      "Loss: tensor(0.6939, grad_fn=<BinaryCrossEntropyWithLogitsBackward0>)\n",
      "Loss: tensor(0.6957, grad_fn=<BinaryCrossEntropyWithLogitsBackward0>)\n",
      "Loss: tensor(0.6941, grad_fn=<BinaryCrossEntropyWithLogitsBackward0>)\n",
      "Loss: tensor(0.6946, grad_fn=<BinaryCrossEntropyWithLogitsBackward0>)\n",
      "Loss: tensor(0.6947, grad_fn=<BinaryCrossEntropyWithLogitsBackward0>)\n",
      "Loss: tensor(0.6931, grad_fn=<BinaryCrossEntropyWithLogitsBackward0>)\n",
      "Loss: tensor(0.6936, grad_fn=<BinaryCrossEntropyWithLogitsBackward0>)\n",
      "Loss: tensor(0.6938, grad_fn=<BinaryCrossEntropyWithLogitsBackward0>)\n",
      "Loss: tensor(0.6932, grad_fn=<BinaryCrossEntropyWithLogitsBackward0>)\n",
      "Loss: tensor(0.6932, grad_fn=<BinaryCrossEntropyWithLogitsBackward0>)\n",
      "Loss: tensor(0.6926, grad_fn=<BinaryCrossEntropyWithLogitsBackward0>)\n",
      "Loss: tensor(0.6928, grad_fn=<BinaryCrossEntropyWithLogitsBackward0>)\n",
      "Loss: tensor(0.6927, grad_fn=<BinaryCrossEntropyWithLogitsBackward0>)\n",
      "Loss: tensor(0.6917, grad_fn=<BinaryCrossEntropyWithLogitsBackward0>)\n",
      "Loss: tensor(0.6920, grad_fn=<BinaryCrossEntropyWithLogitsBackward0>)\n",
      "Loss: tensor(0.6919, grad_fn=<BinaryCrossEntropyWithLogitsBackward0>)\n",
      "Loss: tensor(0.6928, grad_fn=<BinaryCrossEntropyWithLogitsBackward0>)\n",
      "Loss: tensor(0.6913, grad_fn=<BinaryCrossEntropyWithLogitsBackward0>)\n",
      "Loss: tensor(0.6923, grad_fn=<BinaryCrossEntropyWithLogitsBackward0>)\n",
      "Loss: tensor(0.6929, grad_fn=<BinaryCrossEntropyWithLogitsBackward0>)\n",
      "Loss: tensor(0.6914, grad_fn=<BinaryCrossEntropyWithLogitsBackward0>)\n",
      "Loss: tensor(0.6920, grad_fn=<BinaryCrossEntropyWithLogitsBackward0>)\n",
      "Loss: tensor(0.6910, grad_fn=<BinaryCrossEntropyWithLogitsBackward0>)\n",
      "Loss: tensor(0.6918, grad_fn=<BinaryCrossEntropyWithLogitsBackward0>)\n",
      "Loss: tensor(0.6896, grad_fn=<BinaryCrossEntropyWithLogitsBackward0>)\n",
      "Loss: tensor(0.6906, grad_fn=<BinaryCrossEntropyWithLogitsBackward0>)\n",
      "Loss: tensor(0.6904, grad_fn=<BinaryCrossEntropyWithLogitsBackward0>)\n",
      "Loss: tensor(0.6879, grad_fn=<BinaryCrossEntropyWithLogitsBackward0>)\n",
      "Loss: tensor(0.6903, grad_fn=<BinaryCrossEntropyWithLogitsBackward0>)\n",
      "Loss: tensor(0.6913, grad_fn=<BinaryCrossEntropyWithLogitsBackward0>)\n",
      "Loss: tensor(0.6905, grad_fn=<BinaryCrossEntropyWithLogitsBackward0>)\n",
      "Loss: tensor(0.6858, grad_fn=<BinaryCrossEntropyWithLogitsBackward0>)\n",
      "Loss: tensor(0.6885, grad_fn=<BinaryCrossEntropyWithLogitsBackward0>)\n",
      "Loss: tensor(0.6893, grad_fn=<BinaryCrossEntropyWithLogitsBackward0>)\n",
      "Loss: tensor(0.6877, grad_fn=<BinaryCrossEntropyWithLogitsBackward0>)\n",
      "Loss: tensor(0.6876, grad_fn=<BinaryCrossEntropyWithLogitsBackward0>)\n",
      "Loss: tensor(0.6875, grad_fn=<BinaryCrossEntropyWithLogitsBackward0>)\n",
      "Loss: tensor(0.6881, grad_fn=<BinaryCrossEntropyWithLogitsBackward0>)\n",
      "Loss: tensor(0.6840, grad_fn=<BinaryCrossEntropyWithLogitsBackward0>)\n",
      "Loss: tensor(0.6841, grad_fn=<BinaryCrossEntropyWithLogitsBackward0>)\n",
      "Loss: tensor(0.6866, grad_fn=<BinaryCrossEntropyWithLogitsBackward0>)\n",
      "Loss: tensor(0.6864, grad_fn=<BinaryCrossEntropyWithLogitsBackward0>)\n",
      "Loss: tensor(0.6810, grad_fn=<BinaryCrossEntropyWithLogitsBackward0>)\n",
      "Loss: tensor(0.6843, grad_fn=<BinaryCrossEntropyWithLogitsBackward0>)\n",
      "Loss: tensor(0.6770, grad_fn=<BinaryCrossEntropyWithLogitsBackward0>)\n",
      "Loss: tensor(0.6814, grad_fn=<BinaryCrossEntropyWithLogitsBackward0>)\n",
      "Loss: tensor(0.6850, grad_fn=<BinaryCrossEntropyWithLogitsBackward0>)\n",
      "Loss: tensor(0.6769, grad_fn=<BinaryCrossEntropyWithLogitsBackward0>)\n",
      "Loss: tensor(0.6693, grad_fn=<BinaryCrossEntropyWithLogitsBackward0>)\n",
      "Loss: tensor(0.6738, grad_fn=<BinaryCrossEntropyWithLogitsBackward0>)\n",
      "Loss: tensor(0.6731, grad_fn=<BinaryCrossEntropyWithLogitsBackward0>)\n",
      "Loss: tensor(0.6702, grad_fn=<BinaryCrossEntropyWithLogitsBackward0>)\n",
      "Loss: tensor(0.6766, grad_fn=<BinaryCrossEntropyWithLogitsBackward0>)\n",
      "Loss: tensor(0.6713, grad_fn=<BinaryCrossEntropyWithLogitsBackward0>)\n",
      "Loss: tensor(0.6664, grad_fn=<BinaryCrossEntropyWithLogitsBackward0>)\n",
      "Loss: tensor(0.6647, grad_fn=<BinaryCrossEntropyWithLogitsBackward0>)\n",
      "Loss: tensor(0.6687, grad_fn=<BinaryCrossEntropyWithLogitsBackward0>)\n",
      "Loss: tensor(0.6688, grad_fn=<BinaryCrossEntropyWithLogitsBackward0>)\n",
      "Loss: tensor(0.6662, grad_fn=<BinaryCrossEntropyWithLogitsBackward0>)\n",
      "Loss: tensor(0.6639, grad_fn=<BinaryCrossEntropyWithLogitsBackward0>)\n",
      "Loss: tensor(0.6500, grad_fn=<BinaryCrossEntropyWithLogitsBackward0>)\n",
      "Loss: tensor(0.6523, grad_fn=<BinaryCrossEntropyWithLogitsBackward0>)\n",
      "Loss: tensor(0.6691, grad_fn=<BinaryCrossEntropyWithLogitsBackward0>)\n",
      "Loss: tensor(0.6514, grad_fn=<BinaryCrossEntropyWithLogitsBackward0>)\n",
      "Loss: tensor(0.6498, grad_fn=<BinaryCrossEntropyWithLogitsBackward0>)\n",
      "Loss: tensor(0.6592, grad_fn=<BinaryCrossEntropyWithLogitsBackward0>)\n",
      "Loss: tensor(0.6456, grad_fn=<BinaryCrossEntropyWithLogitsBackward0>)\n",
      "Loss: tensor(0.6614, grad_fn=<BinaryCrossEntropyWithLogitsBackward0>)\n",
      "Loss: tensor(0.6627, grad_fn=<BinaryCrossEntropyWithLogitsBackward0>)\n",
      "Loss: tensor(0.6439, grad_fn=<BinaryCrossEntropyWithLogitsBackward0>)\n",
      "Loss: tensor(0.6423, grad_fn=<BinaryCrossEntropyWithLogitsBackward0>)\n",
      "Loss: tensor(0.6405, grad_fn=<BinaryCrossEntropyWithLogitsBackward0>)\n",
      "Loss: tensor(0.6448, grad_fn=<BinaryCrossEntropyWithLogitsBackward0>)\n",
      "Loss: tensor(0.6421, grad_fn=<BinaryCrossEntropyWithLogitsBackward0>)\n",
      "Loss: tensor(0.6551, grad_fn=<BinaryCrossEntropyWithLogitsBackward0>)\n",
      "Loss: tensor(0.6040, grad_fn=<BinaryCrossEntropyWithLogitsBackward0>)\n",
      "Loss: tensor(0.6499, grad_fn=<BinaryCrossEntropyWithLogitsBackward0>)\n",
      "Loss: tensor(0.6379, grad_fn=<BinaryCrossEntropyWithLogitsBackward0>)\n",
      "Loss: tensor(0.5940, grad_fn=<BinaryCrossEntropyWithLogitsBackward0>)\n",
      "Loss: tensor(0.6076, grad_fn=<BinaryCrossEntropyWithLogitsBackward0>)\n",
      "Loss: tensor(0.5940, grad_fn=<BinaryCrossEntropyWithLogitsBackward0>)\n",
      "Loss: tensor(0.5999, grad_fn=<BinaryCrossEntropyWithLogitsBackward0>)\n",
      "Loss: tensor(0.6402, grad_fn=<BinaryCrossEntropyWithLogitsBackward0>)\n",
      "Loss: tensor(0.6177, grad_fn=<BinaryCrossEntropyWithLogitsBackward0>)\n",
      "Loss: tensor(0.6101, grad_fn=<BinaryCrossEntropyWithLogitsBackward0>)\n",
      "Loss: tensor(0.5808, grad_fn=<BinaryCrossEntropyWithLogitsBackward0>)\n",
      "Loss: tensor(0.5604, grad_fn=<BinaryCrossEntropyWithLogitsBackward0>)\n",
      "Loss: tensor(0.6218, grad_fn=<BinaryCrossEntropyWithLogitsBackward0>)\n",
      "Loss: tensor(0.5859, grad_fn=<BinaryCrossEntropyWithLogitsBackward0>)\n",
      "Loss: tensor(0.5608, grad_fn=<BinaryCrossEntropyWithLogitsBackward0>)\n",
      "Loss: tensor(0.6004, grad_fn=<BinaryCrossEntropyWithLogitsBackward0>)\n",
      "Loss: tensor(0.6098, grad_fn=<BinaryCrossEntropyWithLogitsBackward0>)\n",
      "Loss: tensor(0.6202, grad_fn=<BinaryCrossEntropyWithLogitsBackward0>)\n",
      "Loss: tensor(0.5663, grad_fn=<BinaryCrossEntropyWithLogitsBackward0>)\n",
      "Loss: tensor(0.5957, grad_fn=<BinaryCrossEntropyWithLogitsBackward0>)\n",
      "Loss: tensor(0.5601, grad_fn=<BinaryCrossEntropyWithLogitsBackward0>)\n",
      "Loss: tensor(0.5981, grad_fn=<BinaryCrossEntropyWithLogitsBackward0>)\n",
      "Loss: tensor(0.5775, grad_fn=<BinaryCrossEntropyWithLogitsBackward0>)\n",
      "Loss: tensor(0.5665, grad_fn=<BinaryCrossEntropyWithLogitsBackward0>)\n",
      "Loss: tensor(0.6011, grad_fn=<BinaryCrossEntropyWithLogitsBackward0>)\n",
      "Loss: tensor(0.6015, grad_fn=<BinaryCrossEntropyWithLogitsBackward0>)\n",
      "Loss: tensor(0.5159, grad_fn=<BinaryCrossEntropyWithLogitsBackward0>)\n",
      "Loss: tensor(0.5419, grad_fn=<BinaryCrossEntropyWithLogitsBackward0>)\n",
      "Loss: tensor(0.5604, grad_fn=<BinaryCrossEntropyWithLogitsBackward0>)\n",
      "Loss: tensor(0.6135, grad_fn=<BinaryCrossEntropyWithLogitsBackward0>)\n",
      "Loss: tensor(0.5836, grad_fn=<BinaryCrossEntropyWithLogitsBackward0>)\n",
      "Loss: tensor(0.6022, grad_fn=<BinaryCrossEntropyWithLogitsBackward0>)\n",
      "Loss: tensor(0.6374, grad_fn=<BinaryCrossEntropyWithLogitsBackward0>)\n",
      "Loss: tensor(0.5856, grad_fn=<BinaryCrossEntropyWithLogitsBackward0>)\n",
      "Loss: tensor(0.6389, grad_fn=<BinaryCrossEntropyWithLogitsBackward0>)\n",
      "Loss: tensor(0.5686, grad_fn=<BinaryCrossEntropyWithLogitsBackward0>)\n",
      "Loss: tensor(0.5866, grad_fn=<BinaryCrossEntropyWithLogitsBackward0>)\n",
      "Loss: tensor(0.5356, grad_fn=<BinaryCrossEntropyWithLogitsBackward0>)\n",
      "Loss: tensor(0.5765, grad_fn=<BinaryCrossEntropyWithLogitsBackward0>)\n",
      "Loss: tensor(0.6102, grad_fn=<BinaryCrossEntropyWithLogitsBackward0>)\n",
      "Loss: tensor(0.5981, grad_fn=<BinaryCrossEntropyWithLogitsBackward0>)\n",
      "Loss: tensor(0.5882, grad_fn=<BinaryCrossEntropyWithLogitsBackward0>)\n",
      "Loss: tensor(0.5267, grad_fn=<BinaryCrossEntropyWithLogitsBackward0>)\n",
      "Loss: tensor(0.5892, grad_fn=<BinaryCrossEntropyWithLogitsBackward0>)\n",
      "Loss: tensor(0.5554, grad_fn=<BinaryCrossEntropyWithLogitsBackward0>)\n",
      "Loss: tensor(0.6167, grad_fn=<BinaryCrossEntropyWithLogitsBackward0>)\n",
      "Loss: tensor(0.5664, grad_fn=<BinaryCrossEntropyWithLogitsBackward0>)\n",
      "Loss: tensor(0.6155, grad_fn=<BinaryCrossEntropyWithLogitsBackward0>)\n",
      "Loss: tensor(0.6121, grad_fn=<BinaryCrossEntropyWithLogitsBackward0>)\n",
      "Loss: tensor(0.5205, grad_fn=<BinaryCrossEntropyWithLogitsBackward0>)\n"
     ]
    },
    {
     "name": "stdout",
     "output_type": "stream",
     "text": [
      "Loss: tensor(0.5503, grad_fn=<BinaryCrossEntropyWithLogitsBackward0>)\n",
      "Loss: tensor(0.5222, grad_fn=<BinaryCrossEntropyWithLogitsBackward0>)\n",
      "Loss: tensor(0.5448, grad_fn=<BinaryCrossEntropyWithLogitsBackward0>)\n",
      "Loss: tensor(0.5812, grad_fn=<BinaryCrossEntropyWithLogitsBackward0>)\n",
      "Loss: tensor(0.7014, grad_fn=<BinaryCrossEntropyWithLogitsBackward0>)\n",
      "Loss: tensor(0.5151, grad_fn=<BinaryCrossEntropyWithLogitsBackward0>)\n",
      "Loss: tensor(0.6068, grad_fn=<BinaryCrossEntropyWithLogitsBackward0>)\n",
      "Loss: tensor(0.5519, grad_fn=<BinaryCrossEntropyWithLogitsBackward0>)\n",
      "Loss: tensor(0.5095, grad_fn=<BinaryCrossEntropyWithLogitsBackward0>)\n",
      "Loss: tensor(0.5356, grad_fn=<BinaryCrossEntropyWithLogitsBackward0>)\n",
      "Loss: tensor(0.5358, grad_fn=<BinaryCrossEntropyWithLogitsBackward0>)\n",
      "Loss: tensor(0.6092, grad_fn=<BinaryCrossEntropyWithLogitsBackward0>)\n",
      "Loss: tensor(0.5418, grad_fn=<BinaryCrossEntropyWithLogitsBackward0>)\n",
      "Loss: tensor(0.5337, grad_fn=<BinaryCrossEntropyWithLogitsBackward0>)\n",
      "Loss: tensor(0.5537, grad_fn=<BinaryCrossEntropyWithLogitsBackward0>)\n",
      "Loss: tensor(0.5905, grad_fn=<BinaryCrossEntropyWithLogitsBackward0>)\n",
      "Loss: tensor(0.5647, grad_fn=<BinaryCrossEntropyWithLogitsBackward0>)\n",
      "Loss: tensor(0.4839, grad_fn=<BinaryCrossEntropyWithLogitsBackward0>)\n",
      "Loss: tensor(0.4937, grad_fn=<BinaryCrossEntropyWithLogitsBackward0>)\n",
      "Loss: tensor(0.4961, grad_fn=<BinaryCrossEntropyWithLogitsBackward0>)\n",
      "Loss: tensor(0.5602, grad_fn=<BinaryCrossEntropyWithLogitsBackward0>)\n",
      "Loss: tensor(0.4719, grad_fn=<BinaryCrossEntropyWithLogitsBackward0>)\n",
      "Loss: tensor(0.5961, grad_fn=<BinaryCrossEntropyWithLogitsBackward0>)\n",
      "Loss: tensor(0.5604, grad_fn=<BinaryCrossEntropyWithLogitsBackward0>)\n",
      "Loss: tensor(0.5437, grad_fn=<BinaryCrossEntropyWithLogitsBackward0>)\n",
      "Loss: tensor(0.4978, grad_fn=<BinaryCrossEntropyWithLogitsBackward0>)\n",
      "Loss: tensor(0.5419, grad_fn=<BinaryCrossEntropyWithLogitsBackward0>)\n",
      "Loss: tensor(0.5028, grad_fn=<BinaryCrossEntropyWithLogitsBackward0>)\n",
      "Loss: tensor(0.5067, grad_fn=<BinaryCrossEntropyWithLogitsBackward0>)\n",
      "Loss: tensor(0.5904, grad_fn=<BinaryCrossEntropyWithLogitsBackward0>)\n",
      "Loss: tensor(0.4933, grad_fn=<BinaryCrossEntropyWithLogitsBackward0>)\n",
      "Loss: tensor(0.5494, grad_fn=<BinaryCrossEntropyWithLogitsBackward0>)\n",
      "Loss: tensor(0.6206, grad_fn=<BinaryCrossEntropyWithLogitsBackward0>)\n",
      "Loss: tensor(0.6342, grad_fn=<BinaryCrossEntropyWithLogitsBackward0>)\n",
      "Loss: tensor(0.5594, grad_fn=<BinaryCrossEntropyWithLogitsBackward0>)\n",
      "Loss: tensor(0.5807, grad_fn=<BinaryCrossEntropyWithLogitsBackward0>)\n",
      "Loss: tensor(0.5191, grad_fn=<BinaryCrossEntropyWithLogitsBackward0>)\n",
      "Loss: tensor(0.5434, grad_fn=<BinaryCrossEntropyWithLogitsBackward0>)\n",
      "Loss: tensor(0.5580, grad_fn=<BinaryCrossEntropyWithLogitsBackward0>)\n",
      "Loss: tensor(0.5112, grad_fn=<BinaryCrossEntropyWithLogitsBackward0>)\n",
      "Loss: tensor(0.5565, grad_fn=<BinaryCrossEntropyWithLogitsBackward0>)\n",
      "Loss: tensor(0.5613, grad_fn=<BinaryCrossEntropyWithLogitsBackward0>)\n",
      "Loss: tensor(0.5590, grad_fn=<BinaryCrossEntropyWithLogitsBackward0>)\n",
      "Loss: tensor(0.5615, grad_fn=<BinaryCrossEntropyWithLogitsBackward0>)\n",
      "Loss: tensor(0.4945, grad_fn=<BinaryCrossEntropyWithLogitsBackward0>)\n",
      "Loss: tensor(0.4765, grad_fn=<BinaryCrossEntropyWithLogitsBackward0>)\n",
      "Loss: tensor(0.5896, grad_fn=<BinaryCrossEntropyWithLogitsBackward0>)\n",
      "Loss: tensor(0.6308, grad_fn=<BinaryCrossEntropyWithLogitsBackward0>)\n",
      "Loss: tensor(0.5734, grad_fn=<BinaryCrossEntropyWithLogitsBackward0>)\n",
      "Loss: tensor(0.6189, grad_fn=<BinaryCrossEntropyWithLogitsBackward0>)\n",
      "Loss: tensor(0.4676, grad_fn=<BinaryCrossEntropyWithLogitsBackward0>)\n",
      "Loss: tensor(0.5319, grad_fn=<BinaryCrossEntropyWithLogitsBackward0>)\n",
      "Loss: tensor(0.5537, grad_fn=<BinaryCrossEntropyWithLogitsBackward0>)\n",
      "Loss: tensor(0.5779, grad_fn=<BinaryCrossEntropyWithLogitsBackward0>)\n",
      "Loss: tensor(0.4946, grad_fn=<BinaryCrossEntropyWithLogitsBackward0>)\n",
      "Loss: tensor(0.5201, grad_fn=<BinaryCrossEntropyWithLogitsBackward0>)\n",
      "Loss: tensor(0.5056, grad_fn=<BinaryCrossEntropyWithLogitsBackward0>)\n",
      "Loss: tensor(0.4568, grad_fn=<BinaryCrossEntropyWithLogitsBackward0>)\n",
      "Loss: tensor(0.5712, grad_fn=<BinaryCrossEntropyWithLogitsBackward0>)\n",
      "Loss: tensor(0.5552, grad_fn=<BinaryCrossEntropyWithLogitsBackward0>)\n",
      "Loss: tensor(0.4901, grad_fn=<BinaryCrossEntropyWithLogitsBackward0>)\n",
      "Loss: tensor(0.6164, grad_fn=<BinaryCrossEntropyWithLogitsBackward0>)\n",
      "Loss: tensor(0.5916, grad_fn=<BinaryCrossEntropyWithLogitsBackward0>)\n",
      "Loss: tensor(0.4993, grad_fn=<BinaryCrossEntropyWithLogitsBackward0>)\n",
      "Loss: tensor(0.5399, grad_fn=<BinaryCrossEntropyWithLogitsBackward0>)\n",
      "Loss: tensor(0.5272, grad_fn=<BinaryCrossEntropyWithLogitsBackward0>)\n",
      "Loss: tensor(0.4895, grad_fn=<BinaryCrossEntropyWithLogitsBackward0>)\n",
      "Loss: tensor(0.4583, grad_fn=<BinaryCrossEntropyWithLogitsBackward0>)\n",
      "Loss: tensor(0.5941, grad_fn=<BinaryCrossEntropyWithLogitsBackward0>)\n",
      "Loss: tensor(0.5382, grad_fn=<BinaryCrossEntropyWithLogitsBackward0>)\n",
      "Loss: tensor(0.4760, grad_fn=<BinaryCrossEntropyWithLogitsBackward0>)\n",
      "Loss: tensor(0.5111, grad_fn=<BinaryCrossEntropyWithLogitsBackward0>)\n",
      "Loss: tensor(0.4964, grad_fn=<BinaryCrossEntropyWithLogitsBackward0>)\n",
      "Loss: tensor(0.5865, grad_fn=<BinaryCrossEntropyWithLogitsBackward0>)\n",
      "Loss: tensor(0.4715, grad_fn=<BinaryCrossEntropyWithLogitsBackward0>)\n",
      "Loss: tensor(0.4902, grad_fn=<BinaryCrossEntropyWithLogitsBackward0>)\n",
      "Loss: tensor(0.4406, grad_fn=<BinaryCrossEntropyWithLogitsBackward0>)\n",
      "Loss: tensor(0.4519, grad_fn=<BinaryCrossEntropyWithLogitsBackward0>)\n",
      "Loss: tensor(0.5005, grad_fn=<BinaryCrossEntropyWithLogitsBackward0>)\n",
      "Loss: tensor(0.5506, grad_fn=<BinaryCrossEntropyWithLogitsBackward0>)\n",
      "Loss: tensor(0.5254, grad_fn=<BinaryCrossEntropyWithLogitsBackward0>)\n",
      "Loss: tensor(0.5537, grad_fn=<BinaryCrossEntropyWithLogitsBackward0>)\n",
      "Loss: tensor(0.6548, grad_fn=<BinaryCrossEntropyWithLogitsBackward0>)\n",
      "Loss: tensor(0.5574, grad_fn=<BinaryCrossEntropyWithLogitsBackward0>)\n",
      "Loss: tensor(0.5128, grad_fn=<BinaryCrossEntropyWithLogitsBackward0>)\n",
      "Loss: tensor(0.5529, grad_fn=<BinaryCrossEntropyWithLogitsBackward0>)\n",
      "Loss: tensor(0.5364, grad_fn=<BinaryCrossEntropyWithLogitsBackward0>)\n",
      "Loss: tensor(0.4473, grad_fn=<BinaryCrossEntropyWithLogitsBackward0>)\n",
      "Loss: tensor(0.5826, grad_fn=<BinaryCrossEntropyWithLogitsBackward0>)\n",
      "Loss: tensor(0.4640, grad_fn=<BinaryCrossEntropyWithLogitsBackward0>)\n",
      "Loss: tensor(0.5887, grad_fn=<BinaryCrossEntropyWithLogitsBackward0>)\n",
      "Loss: tensor(0.4775, grad_fn=<BinaryCrossEntropyWithLogitsBackward0>)\n",
      "Loss: tensor(0.4725, grad_fn=<BinaryCrossEntropyWithLogitsBackward0>)\n",
      "Loss: tensor(0.5165, grad_fn=<BinaryCrossEntropyWithLogitsBackward0>)\n",
      "Loss: tensor(0.4231, grad_fn=<BinaryCrossEntropyWithLogitsBackward0>)\n",
      "Loss: tensor(0.4601, grad_fn=<BinaryCrossEntropyWithLogitsBackward0>)\n",
      "Loss: tensor(0.5723, grad_fn=<BinaryCrossEntropyWithLogitsBackward0>)\n",
      "Loss: tensor(0.4557, grad_fn=<BinaryCrossEntropyWithLogitsBackward0>)\n",
      "Loss: tensor(0.4791, grad_fn=<BinaryCrossEntropyWithLogitsBackward0>)\n",
      "Loss: tensor(0.4921, grad_fn=<BinaryCrossEntropyWithLogitsBackward0>)\n",
      "Loss: tensor(0.4973, grad_fn=<BinaryCrossEntropyWithLogitsBackward0>)\n",
      "Loss: tensor(0.4677, grad_fn=<BinaryCrossEntropyWithLogitsBackward0>)\n",
      "Loss: tensor(0.5157, grad_fn=<BinaryCrossEntropyWithLogitsBackward0>)\n",
      "Loss: tensor(0.4887, grad_fn=<BinaryCrossEntropyWithLogitsBackward0>)\n",
      "Loss: tensor(0.5783, grad_fn=<BinaryCrossEntropyWithLogitsBackward0>)\n",
      "Loss: tensor(0.4839, grad_fn=<BinaryCrossEntropyWithLogitsBackward0>)\n",
      "Loss: tensor(0.4804, grad_fn=<BinaryCrossEntropyWithLogitsBackward0>)\n",
      "Loss: tensor(0.4765, grad_fn=<BinaryCrossEntropyWithLogitsBackward0>)\n",
      "Loss: tensor(0.5189, grad_fn=<BinaryCrossEntropyWithLogitsBackward0>)\n",
      "Loss: tensor(0.4748, grad_fn=<BinaryCrossEntropyWithLogitsBackward0>)\n",
      "Loss: tensor(0.4753, grad_fn=<BinaryCrossEntropyWithLogitsBackward0>)\n",
      "Loss: tensor(0.4194, grad_fn=<BinaryCrossEntropyWithLogitsBackward0>)\n",
      "Loss: tensor(0.4714, grad_fn=<BinaryCrossEntropyWithLogitsBackward0>)\n",
      "Loss: tensor(0.4904, grad_fn=<BinaryCrossEntropyWithLogitsBackward0>)\n",
      "Loss: tensor(0.4772, grad_fn=<BinaryCrossEntropyWithLogitsBackward0>)\n",
      "Loss: tensor(0.4113, grad_fn=<BinaryCrossEntropyWithLogitsBackward0>)\n",
      "Loss: tensor(0.5085, grad_fn=<BinaryCrossEntropyWithLogitsBackward0>)\n",
      "Loss: tensor(0.4258, grad_fn=<BinaryCrossEntropyWithLogitsBackward0>)\n",
      "Loss: tensor(0.4883, grad_fn=<BinaryCrossEntropyWithLogitsBackward0>)\n",
      "Loss: tensor(0.4170, grad_fn=<BinaryCrossEntropyWithLogitsBackward0>)\n",
      "Loss: tensor(0.5076, grad_fn=<BinaryCrossEntropyWithLogitsBackward0>)\n",
      "Loss: tensor(0.3987, grad_fn=<BinaryCrossEntropyWithLogitsBackward0>)\n",
      "Loss: tensor(0.4601, grad_fn=<BinaryCrossEntropyWithLogitsBackward0>)\n",
      "Loss: tensor(0.4343, grad_fn=<BinaryCrossEntropyWithLogitsBackward0>)\n",
      "Loss: tensor(0.4171, grad_fn=<BinaryCrossEntropyWithLogitsBackward0>)\n",
      "Loss: tensor(0.4872, grad_fn=<BinaryCrossEntropyWithLogitsBackward0>)\n",
      "Loss: tensor(0.5914, grad_fn=<BinaryCrossEntropyWithLogitsBackward0>)\n",
      "Loss: tensor(0.5322, grad_fn=<BinaryCrossEntropyWithLogitsBackward0>)\n",
      "Loss: tensor(0.4747, grad_fn=<BinaryCrossEntropyWithLogitsBackward0>)\n",
      "Loss: tensor(0.5531, grad_fn=<BinaryCrossEntropyWithLogitsBackward0>)\n",
      "Loss: tensor(0.5512, grad_fn=<BinaryCrossEntropyWithLogitsBackward0>)\n",
      "Loss: tensor(0.4576, grad_fn=<BinaryCrossEntropyWithLogitsBackward0>)\n",
      "Loss: tensor(0.4762, grad_fn=<BinaryCrossEntropyWithLogitsBackward0>)\n",
      "Loss: tensor(0.5049, grad_fn=<BinaryCrossEntropyWithLogitsBackward0>)\n",
      "Loss: tensor(0.4765, grad_fn=<BinaryCrossEntropyWithLogitsBackward0>)\n",
      "Loss: tensor(0.4385, grad_fn=<BinaryCrossEntropyWithLogitsBackward0>)\n",
      "Loss: tensor(0.4857, grad_fn=<BinaryCrossEntropyWithLogitsBackward0>)\n",
      "Loss: tensor(0.5846, grad_fn=<BinaryCrossEntropyWithLogitsBackward0>)\n",
      "Loss: tensor(0.4581, grad_fn=<BinaryCrossEntropyWithLogitsBackward0>)\n",
      "Loss: tensor(0.5005, grad_fn=<BinaryCrossEntropyWithLogitsBackward0>)\n",
      "Loss: tensor(0.4784, grad_fn=<BinaryCrossEntropyWithLogitsBackward0>)\n",
      "Loss: tensor(0.3890, grad_fn=<BinaryCrossEntropyWithLogitsBackward0>)\n",
      "Loss: tensor(0.4100, grad_fn=<BinaryCrossEntropyWithLogitsBackward0>)\n",
      "Loss: tensor(0.4794, grad_fn=<BinaryCrossEntropyWithLogitsBackward0>)\n",
      "Loss: tensor(0.4457, grad_fn=<BinaryCrossEntropyWithLogitsBackward0>)\n"
     ]
    },
    {
     "name": "stdout",
     "output_type": "stream",
     "text": [
      "Loss: tensor(0.5151, grad_fn=<BinaryCrossEntropyWithLogitsBackward0>)\n",
      "Loss: tensor(0.5117, grad_fn=<BinaryCrossEntropyWithLogitsBackward0>)\n",
      "Loss: tensor(0.5820, grad_fn=<BinaryCrossEntropyWithLogitsBackward0>)\n",
      "Loss: tensor(0.3874, grad_fn=<BinaryCrossEntropyWithLogitsBackward0>)\n",
      "Loss: tensor(0.4326, grad_fn=<BinaryCrossEntropyWithLogitsBackward0>)\n",
      "Loss: tensor(0.4292, grad_fn=<BinaryCrossEntropyWithLogitsBackward0>)\n",
      "Loss: tensor(0.4364, grad_fn=<BinaryCrossEntropyWithLogitsBackward0>)\n",
      "Loss: tensor(0.5132, grad_fn=<BinaryCrossEntropyWithLogitsBackward0>)\n",
      "Loss: tensor(0.4371, grad_fn=<BinaryCrossEntropyWithLogitsBackward0>)\n",
      "Loss: tensor(0.4342, grad_fn=<BinaryCrossEntropyWithLogitsBackward0>)\n",
      "Loss: tensor(0.5541, grad_fn=<BinaryCrossEntropyWithLogitsBackward0>)\n",
      "Loss: tensor(0.4953, grad_fn=<BinaryCrossEntropyWithLogitsBackward0>)\n",
      "Loss: tensor(0.4955, grad_fn=<BinaryCrossEntropyWithLogitsBackward0>)\n",
      "Loss: tensor(0.3759, grad_fn=<BinaryCrossEntropyWithLogitsBackward0>)\n",
      "Loss: tensor(0.4486, grad_fn=<BinaryCrossEntropyWithLogitsBackward0>)\n",
      "Loss: tensor(0.4842, grad_fn=<BinaryCrossEntropyWithLogitsBackward0>)\n",
      "Loss: tensor(0.3782, grad_fn=<BinaryCrossEntropyWithLogitsBackward0>)\n",
      "Loss: tensor(0.4127, grad_fn=<BinaryCrossEntropyWithLogitsBackward0>)\n",
      "Loss: tensor(0.4111, grad_fn=<BinaryCrossEntropyWithLogitsBackward0>)\n",
      "Loss: tensor(0.5173, grad_fn=<BinaryCrossEntropyWithLogitsBackward0>)\n",
      "Loss: tensor(0.4719, grad_fn=<BinaryCrossEntropyWithLogitsBackward0>)\n",
      "Loss: tensor(0.5619, grad_fn=<BinaryCrossEntropyWithLogitsBackward0>)\n",
      "Loss: tensor(0.4132, grad_fn=<BinaryCrossEntropyWithLogitsBackward0>)\n",
      "Loss: tensor(0.4471, grad_fn=<BinaryCrossEntropyWithLogitsBackward0>)\n",
      "Loss: tensor(0.3942, grad_fn=<BinaryCrossEntropyWithLogitsBackward0>)\n",
      "Loss: tensor(0.4894, grad_fn=<BinaryCrossEntropyWithLogitsBackward0>)\n",
      "Loss: tensor(0.3537, grad_fn=<BinaryCrossEntropyWithLogitsBackward0>)\n",
      "Loss: tensor(0.3988, grad_fn=<BinaryCrossEntropyWithLogitsBackward0>)\n",
      "Loss: tensor(0.4971, grad_fn=<BinaryCrossEntropyWithLogitsBackward0>)\n",
      "Loss: tensor(0.4919, grad_fn=<BinaryCrossEntropyWithLogitsBackward0>)\n",
      "Loss: tensor(0.3891, grad_fn=<BinaryCrossEntropyWithLogitsBackward0>)\n",
      "Loss: tensor(0.4616, grad_fn=<BinaryCrossEntropyWithLogitsBackward0>)\n",
      "Loss: tensor(0.5463, grad_fn=<BinaryCrossEntropyWithLogitsBackward0>)\n",
      "Loss: tensor(0.4671, grad_fn=<BinaryCrossEntropyWithLogitsBackward0>)\n",
      "Loss: tensor(0.4778, grad_fn=<BinaryCrossEntropyWithLogitsBackward0>)\n",
      "Loss: tensor(0.4320, grad_fn=<BinaryCrossEntropyWithLogitsBackward0>)\n",
      "Loss: tensor(0.4853, grad_fn=<BinaryCrossEntropyWithLogitsBackward0>)\n",
      "Loss: tensor(0.3773, grad_fn=<BinaryCrossEntropyWithLogitsBackward0>)\n",
      "Loss: tensor(0.4219, grad_fn=<BinaryCrossEntropyWithLogitsBackward0>)\n",
      "Loss: tensor(0.4244, grad_fn=<BinaryCrossEntropyWithLogitsBackward0>)\n",
      "Loss: tensor(0.4636, grad_fn=<BinaryCrossEntropyWithLogitsBackward0>)\n",
      "Loss: tensor(0.4817, grad_fn=<BinaryCrossEntropyWithLogitsBackward0>)\n",
      "Loss: tensor(0.5504, grad_fn=<BinaryCrossEntropyWithLogitsBackward0>)\n",
      "Loss: tensor(0.4126, grad_fn=<BinaryCrossEntropyWithLogitsBackward0>)\n",
      "Loss: tensor(0.4712, grad_fn=<BinaryCrossEntropyWithLogitsBackward0>)\n",
      "Loss: tensor(0.4105, grad_fn=<BinaryCrossEntropyWithLogitsBackward0>)\n",
      "Loss: tensor(0.4817, grad_fn=<BinaryCrossEntropyWithLogitsBackward0>)\n",
      "Loss: tensor(0.4906, grad_fn=<BinaryCrossEntropyWithLogitsBackward0>)\n",
      "Loss: tensor(0.3763, grad_fn=<BinaryCrossEntropyWithLogitsBackward0>)\n",
      "Loss: tensor(0.4692, grad_fn=<BinaryCrossEntropyWithLogitsBackward0>)\n",
      "Loss: tensor(0.4465, grad_fn=<BinaryCrossEntropyWithLogitsBackward0>)\n",
      "Loss: tensor(0.4488, grad_fn=<BinaryCrossEntropyWithLogitsBackward0>)\n",
      "Loss: tensor(0.3709, grad_fn=<BinaryCrossEntropyWithLogitsBackward0>)\n",
      "Loss: tensor(0.4700, grad_fn=<BinaryCrossEntropyWithLogitsBackward0>)\n",
      "Loss: tensor(0.4330, grad_fn=<BinaryCrossEntropyWithLogitsBackward0>)\n",
      "Loss: tensor(0.3380, grad_fn=<BinaryCrossEntropyWithLogitsBackward0>)\n",
      "Loss: tensor(0.5137, grad_fn=<BinaryCrossEntropyWithLogitsBackward0>)\n",
      "Loss: tensor(0.3317, grad_fn=<BinaryCrossEntropyWithLogitsBackward0>)\n",
      "Loss: tensor(0.3798, grad_fn=<BinaryCrossEntropyWithLogitsBackward0>)\n",
      "Loss: tensor(0.4468, grad_fn=<BinaryCrossEntropyWithLogitsBackward0>)\n",
      "Loss: tensor(0.4163, grad_fn=<BinaryCrossEntropyWithLogitsBackward0>)\n",
      "Loss: tensor(0.3758, grad_fn=<BinaryCrossEntropyWithLogitsBackward0>)\n",
      "Loss: tensor(0.4671, grad_fn=<BinaryCrossEntropyWithLogitsBackward0>)\n",
      "Loss: tensor(0.4702, grad_fn=<BinaryCrossEntropyWithLogitsBackward0>)\n",
      "Loss: tensor(0.4557, grad_fn=<BinaryCrossEntropyWithLogitsBackward0>)\n",
      "Loss: tensor(0.4425, grad_fn=<BinaryCrossEntropyWithLogitsBackward0>)\n",
      "Loss: tensor(0.4791, grad_fn=<BinaryCrossEntropyWithLogitsBackward0>)\n",
      "Loss: tensor(0.3844, grad_fn=<BinaryCrossEntropyWithLogitsBackward0>)\n",
      "Loss: tensor(0.4334, grad_fn=<BinaryCrossEntropyWithLogitsBackward0>)\n",
      "Loss: tensor(0.3841, grad_fn=<BinaryCrossEntropyWithLogitsBackward0>)\n",
      "Loss: tensor(0.3959, grad_fn=<BinaryCrossEntropyWithLogitsBackward0>)\n",
      "Loss: tensor(0.3719, grad_fn=<BinaryCrossEntropyWithLogitsBackward0>)\n",
      "Loss: tensor(0.3647, grad_fn=<BinaryCrossEntropyWithLogitsBackward0>)\n",
      "Loss: tensor(0.3539, grad_fn=<BinaryCrossEntropyWithLogitsBackward0>)\n",
      "Loss: tensor(0.5123, grad_fn=<BinaryCrossEntropyWithLogitsBackward0>)\n",
      "Loss: tensor(0.5282, grad_fn=<BinaryCrossEntropyWithLogitsBackward0>)\n",
      "Loss: tensor(0.4812, grad_fn=<BinaryCrossEntropyWithLogitsBackward0>)\n",
      "Loss: tensor(0.5821, grad_fn=<BinaryCrossEntropyWithLogitsBackward0>)\n",
      "Loss: tensor(0.4636, grad_fn=<BinaryCrossEntropyWithLogitsBackward0>)\n",
      "Loss: tensor(0.5517, grad_fn=<BinaryCrossEntropyWithLogitsBackward0>)\n",
      "Loss: tensor(0.5336, grad_fn=<BinaryCrossEntropyWithLogitsBackward0>)\n",
      "Loss: tensor(0.4095, grad_fn=<BinaryCrossEntropyWithLogitsBackward0>)\n",
      "Loss: tensor(0.3683, grad_fn=<BinaryCrossEntropyWithLogitsBackward0>)\n",
      "Loss: tensor(0.4085, grad_fn=<BinaryCrossEntropyWithLogitsBackward0>)\n",
      "Loss: tensor(0.5218, grad_fn=<BinaryCrossEntropyWithLogitsBackward0>)\n",
      "Loss: tensor(0.3891, grad_fn=<BinaryCrossEntropyWithLogitsBackward0>)\n",
      "Loss: tensor(0.4207, grad_fn=<BinaryCrossEntropyWithLogitsBackward0>)\n",
      "Loss: tensor(0.4612, grad_fn=<BinaryCrossEntropyWithLogitsBackward0>)\n",
      "Loss: tensor(0.4202, grad_fn=<BinaryCrossEntropyWithLogitsBackward0>)\n",
      "Loss: tensor(0.4195, grad_fn=<BinaryCrossEntropyWithLogitsBackward0>)\n",
      "Loss: tensor(0.3903, grad_fn=<BinaryCrossEntropyWithLogitsBackward0>)\n",
      "Loss: tensor(0.3824, grad_fn=<BinaryCrossEntropyWithLogitsBackward0>)\n",
      "Loss: tensor(0.3749, grad_fn=<BinaryCrossEntropyWithLogitsBackward0>)\n",
      "Loss: tensor(0.4149, grad_fn=<BinaryCrossEntropyWithLogitsBackward0>)\n",
      "Loss: tensor(0.4374, grad_fn=<BinaryCrossEntropyWithLogitsBackward0>)\n",
      "Loss: tensor(0.4243, grad_fn=<BinaryCrossEntropyWithLogitsBackward0>)\n",
      "Loss: tensor(0.4515, grad_fn=<BinaryCrossEntropyWithLogitsBackward0>)\n",
      "Loss: tensor(0.4294, grad_fn=<BinaryCrossEntropyWithLogitsBackward0>)\n",
      "Loss: tensor(0.3947, grad_fn=<BinaryCrossEntropyWithLogitsBackward0>)\n",
      "Loss: tensor(0.3957, grad_fn=<BinaryCrossEntropyWithLogitsBackward0>)\n",
      "Loss: tensor(0.5410, grad_fn=<BinaryCrossEntropyWithLogitsBackward0>)\n",
      "Loss: tensor(0.3984, grad_fn=<BinaryCrossEntropyWithLogitsBackward0>)\n",
      "Loss: tensor(0.4924, grad_fn=<BinaryCrossEntropyWithLogitsBackward0>)\n",
      "Loss: tensor(0.4273, grad_fn=<BinaryCrossEntropyWithLogitsBackward0>)\n",
      "Loss: tensor(0.3705, grad_fn=<BinaryCrossEntropyWithLogitsBackward0>)\n",
      "Loss: tensor(0.4341, grad_fn=<BinaryCrossEntropyWithLogitsBackward0>)\n",
      "Loss: tensor(0.4574, grad_fn=<BinaryCrossEntropyWithLogitsBackward0>)\n",
      "Loss: tensor(0.4065, grad_fn=<BinaryCrossEntropyWithLogitsBackward0>)\n",
      "Loss: tensor(0.3602, grad_fn=<BinaryCrossEntropyWithLogitsBackward0>)\n",
      "Loss: tensor(0.4441, grad_fn=<BinaryCrossEntropyWithLogitsBackward0>)\n",
      "Loss: tensor(0.5389, grad_fn=<BinaryCrossEntropyWithLogitsBackward0>)\n",
      "Loss: tensor(0.3407, grad_fn=<BinaryCrossEntropyWithLogitsBackward0>)\n",
      "Loss: tensor(0.4174, grad_fn=<BinaryCrossEntropyWithLogitsBackward0>)\n",
      "Loss: tensor(0.3684, grad_fn=<BinaryCrossEntropyWithLogitsBackward0>)\n",
      "Loss: tensor(0.4190, grad_fn=<BinaryCrossEntropyWithLogitsBackward0>)\n",
      "Loss: tensor(0.5122, grad_fn=<BinaryCrossEntropyWithLogitsBackward0>)\n",
      "Loss: tensor(0.3942, grad_fn=<BinaryCrossEntropyWithLogitsBackward0>)\n",
      "Loss: tensor(0.4670, grad_fn=<BinaryCrossEntropyWithLogitsBackward0>)\n",
      "Early stopping!\n",
      "Loading 330th epoch\n"
     ]
    },
    {
     "data": {
      "text/plain": [
       "<All keys matched successfully>"
      ]
     },
     "execution_count": 12,
     "metadata": {},
     "output_type": "execute_result"
    }
   ],
   "source": [
    "model = DGI(ft_size, hid_units, nonlinearity)\n",
    "optimiser = torch.optim.Adam(model.parameters(), lr=lr, weight_decay=l2_coef)\n",
    "\n",
    "# b_xent applies logits follwoed by cross-entropy loss\n",
    "b_xent = nn.BCEWithLogitsLoss()\n",
    "# xent = nn.CrossEntropyLoss()\n",
    "\n",
    "# cnt_wait counts epochs from the last bes tmodel and implemnts early stopping\n",
    "cnt_wait = 0\n",
    "# initial best score for loss\n",
    "best = 1e9\n",
    "best_t = 0\n",
    "\n",
    "loss_history = list()\n",
    "\n",
    "for epoch in range(nb_epochs):\n",
    "    model.train()\n",
    "    optimiser.zero_grad()\n",
    "\n",
    "    idx = np.random.permutation(nb_nodes)\n",
    "    # reshuffle features\n",
    "    shuf_fts = features_karate[:, idx, :]\n",
    "    # vector of ones, length = number of nodes\n",
    "    lbl_1 = torch.ones(batch_size, nb_nodes)\n",
    "    # vector of zeros, length = number of nodes \n",
    "    lbl_2 = torch.zeros(batch_size, nb_nodes)\n",
    "    # length = 2*number of nodes, i.e. 5416\n",
    "    lbl = torch.cat((lbl_1, lbl_2), 1)\n",
    "\n",
    "    # the \"if\" affects onle \"sparse\" vs \"sp_adj\"\n",
    "    # i.e. mask = None, samp_bias1 = None, samp_bias2 = None\n",
    "    logits = model(features_karate, shuf_fts, sp_A if sparse else adj, sparse, None, None, None) \n",
    "\n",
    "    loss = b_xent(logits, lbl)\n",
    "    loss_history.append(loss.detach().numpy()) # use detach to get rid of the gradient\n",
    "\n",
    "    print('Loss:', loss)\n",
    "\n",
    "    if loss < best:\n",
    "        best = loss\n",
    "        best_t = epoch\n",
    "        cnt_wait = 0\n",
    "        torch.save(model.state_dict(), 'best_dgi.pkl')\n",
    "    else:\n",
    "        cnt_wait += 1\n",
    "\n",
    "    if cnt_wait == patience:\n",
    "        print('Early stopping!')\n",
    "        break\n",
    "\n",
    "    loss.backward()\n",
    "    optimiser.step()\n",
    "\n",
    "print('Loading {}th epoch'.format(best_t))\n",
    "model.load_state_dict(torch.load('best_dgi.pkl'))\n",
    "\n",
    "\n"
   ]
  },
  {
   "cell_type": "code",
   "execution_count": 13,
   "metadata": {},
   "outputs": [],
   "source": [
    "h, s = model.embed(features_karate, sp_A, msk = None, sparse = True )"
   ]
  },
  {
   "cell_type": "code",
   "execution_count": 14,
   "metadata": {},
   "outputs": [
    {
     "data": {
      "text/plain": [
       "[<matplotlib.lines.Line2D at 0x1dd7dca0f40>]"
      ]
     },
     "execution_count": 14,
     "metadata": {},
     "output_type": "execute_result"
    },
    {
     "data": {
      "image/png": "[encoded data removed]",
      "text/plain": [
       "<Figure size 432x288 with 1 Axes>"
      ]
     },
     "metadata": {
      "needs_background": "light"
     },
     "output_type": "display_data"
    }
   ],
   "source": [
    "import matplotlib.pyplot as plt\n",
    "plt.plot(loss_history)"
   ]
  },
  {
   "cell_type": "code",
   "execution_count": 15,
   "metadata": {},
   "outputs": [],
   "source": [
    "def visualize_embedding(h, color, epoch=None, loss=None):\n",
    "    plt.figure(figsize=(7,7))\n",
    "    plt.xticks([])\n",
    "    plt.yticks([])\n",
    "    h = h.detach().cpu().numpy()\n",
    "    plt.scatter(h[:, 0], h[:, 1], s=140, c=color, cmap=\"Set2\")\n",
    "    if epoch is not None and loss is not None:\n",
    "        plt.xlabel(f'Epoch: {epoch}, Loss: {loss.item():.4f}', fontsize=16)\n",
    "    plt.show()"
   ]
  },
  {
   "cell_type": "code",
   "execution_count": 16,
   "metadata": {},
   "outputs": [
    {
     "data": {
      "image/png": "[encoded data removed]",
      "text/plain": [
       "<Figure size 504x504 with 1 Axes>"
      ]
     },
     "metadata": {},
     "output_type": "display_data"
    }
   ],
   "source": [
    "visualize_embedding(h[0, :,:], data.y, epoch=None, loss=None)"
   ]
  }
 ],
 "metadata": {
  "kernelspec": {
   "display_name": "pytorch_env",
   "language": "python",
   "name": "pytorch_env"
  },
  "language_info": {
   "codemirror_mode": {
    "name": "ipython",
    "version": 3
   },
   "file_extension": ".py",
   "mimetype": "text/x-python",
   "name": "python",
   "nbconvert_exporter": "python",
   "pygments_lexer": "ipython3",
   "version": "3.8.6"
  },
  "toc": {
   "base_numbering": 1,
   "nav_menu": {},
   "number_sections": true,
   "sideBar": true,
   "skip_h1_title": false,
   "title_cell": "Table of Contents",
   "title_sidebar": "Contents",
   "toc_cell": false,
   "toc_position": {},
   "toc_section_display": true,
   "toc_window_display": false
  },
  "varInspector": {
   "cols": {
    "lenName": 16,
    "lenType": 16,
    "lenVar": 40
   },
   "kernels_config": {
    "python": {
     "delete_cmd_postfix": "",
     "delete_cmd_prefix": "del ",
     "library": "var_list.py",
     "varRefreshCmd": "print(var_dic_list())"
    },
    "r": {
     "delete_cmd_postfix": ") ",
     "delete_cmd_prefix": "rm(",
     "library": "var_list.r",
     "varRefreshCmd": "cat(var_dic_list()) "
    }
   },
   "types_to_exclude": [
    "module",
    "function",
    "builtin_function_or_method",
    "instance",
    "_Feature"
   ],
   "window_display": false
  }
 },
 "nbformat": 4,
 "nbformat_minor": 4
}
