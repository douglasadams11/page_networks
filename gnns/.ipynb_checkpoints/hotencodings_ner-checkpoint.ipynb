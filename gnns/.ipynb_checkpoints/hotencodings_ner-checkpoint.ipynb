{
 "cells": [
  {
   "cell_type": "code",
   "execution_count": 9,
   "metadata": {},
   "outputs": [
    {
     "name": "stderr",
     "output_type": "stream",
     "text": [
      "WARNING: pip is being invoked by an old script wrapper. This will fail in a future version of pip.\n",
      "Please see https://github.com/pypa/pip/issues/5599 for advice on fixing the underlying issue.\n",
      "To avoid this problem you can invoke Python with '-m pip' instead of running pip directly.\n"
     ]
    },
    {
     "name": "stdout",
     "output_type": "stream",
     "text": [
      "Collecting openpyxl\n",
      "  Using cached openpyxl-3.0.10-py2.py3-none-any.whl (242 kB)\n",
      "Collecting et-xmlfile\n",
      "  Using cached et_xmlfile-1.1.0-py3-none-any.whl (4.7 kB)\n",
      "Installing collected packages: et-xmlfile, openpyxl\n",
      "Successfully installed et-xmlfile-1.1.0 openpyxl-3.0.10\n"
     ]
    },
    {
     "name": "stderr",
     "output_type": "stream",
     "text": [
      "WARNING: You are using pip version 20.2.1; however, version 22.1.2 is available.\n",
      "You should consider upgrading via the 'C:\\Users\\jbryb\\virual_envs_python\\pytorch_env\\Scripts\\python.exe -m pip install --upgrade pip' command.\n"
     ]
    },
    {
     "data": {
      "text/plain": [
       "0"
      ]
     },
     "execution_count": 9,
     "metadata": {},
     "output_type": "execute_result"
    }
   ],
   "source": [
    "import pandas as pd\n",
    "\n",
    "# There is ose issue with pd.read_excel() due to openpyxl, this solves it:\n",
    "import pip\n",
    "pip.main([\"install\", \"openpyxl\"])"
   ]
  },
  {
   "cell_type": "code",
   "execution_count": 72,
   "metadata": {},
   "outputs": [],
   "source": [
    "df = pd.read_excel(\"../data/inputs/ner.xlsx\", sheet_name = 0)"
   ]
  },
  {
   "cell_type": "code",
   "execution_count": 68,
   "metadata": {},
   "outputs": [
    {
     "data": {
      "text/plain": [
       "1557"
      ]
     },
     "execution_count": 68,
     "metadata": {},
     "output_type": "execute_result"
    }
   ],
   "source": [
    "len(df[\"word\"].unique())"
   ]
  },
  {
   "cell_type": "code",
   "execution_count": 16,
   "metadata": {},
   "outputs": [
    {
     "data": {
      "text/plain": [
       "array([  0.,   1.,   2.,   3.,   4.,   5.,   6.,   7.,   8.,   9.,  nan,\n",
       "        10.,  11.,  12.,  13.,  14.,  15.,  16.,  17.,  18.,  19.,  20.,\n",
       "        21.,  22.,  23.,  24.,  25.,  26.,  27.,  28.,  29.,  30.,  31.,\n",
       "        32.,  33.,  34.,  35.,  36.,  37.,  38.,  39.,  40.,  41.,  42.,\n",
       "        43.,  44.,  45.,  46.,  47.,  48.,  49.,  50.,  51.,  52.,  53.,\n",
       "        54.,  55.,  56.,  57.,  58.,  59.,  60.,  61.,  62.,  63.,  64.,\n",
       "        65.,  66.,  67.,  68.,  69.,  70.,  71.,  72.,  73.,  74.,  75.,\n",
       "        76.,  77.,  78.,  79.,  80.,  81.,  82.,  83.,  84.,  85.,  86.,\n",
       "        87.,  88.,  89.,  90.,  91.,  92.,  93.,  94.,  95.,  96.,  97.,\n",
       "        98.,  99., 100., 101., 102., 103., 104., 105., 106., 107., 108.,\n",
       "       109., 110., 111., 112., 113., 114., 115., 116., 117., 118., 119.,\n",
       "       120., 121., 122., 123., 124., 125., 126.])"
      ]
     },
     "execution_count": 16,
     "metadata": {},
     "output_type": "execute_result"
    }
   ],
   "source": [
    "df[\"entity_index\"].unique()"
   ]
  },
  {
   "cell_type": "code",
   "execution_count": 32,
   "metadata": {},
   "outputs": [],
   "source": [
    "df.reset_index(inplace = True, drop = False)"
   ]
  },
  {
   "cell_type": "code",
   "execution_count": 40,
   "metadata": {},
   "outputs": [],
   "source": [
    "df[\"ones\"] = 1"
   ]
  },
  {
   "cell_type": "code",
   "execution_count": 33,
   "metadata": {},
   "outputs": [
    {
     "data": {
      "text/html": [
       "<div>\n",
       "<style scoped>\n",
       "    .dataframe tbody tr th:only-of-type {\n",
       "        vertical-align: middle;\n",
       "    }\n",
       "\n",
       "    .dataframe tbody tr th {\n",
       "        vertical-align: top;\n",
       "    }\n",
       "\n",
       "    .dataframe thead th {\n",
       "        text-align: right;\n",
       "    }\n",
       "</style>\n",
       "<table border=\"1\" class=\"dataframe\">\n",
       "  <thead>\n",
       "    <tr style=\"text-align: right;\">\n",
       "      <th></th>\n",
       "      <th>index</th>\n",
       "      <th>page_index</th>\n",
       "      <th>page_link</th>\n",
       "      <th>entity_index</th>\n",
       "      <th>entity_group</th>\n",
       "      <th>word</th>\n",
       "    </tr>\n",
       "  </thead>\n",
       "  <tbody>\n",
       "    <tr>\n",
       "      <th>0</th>\n",
       "      <td>0</td>\n",
       "      <td>0</td>\n",
       "      <td>https://www.gov.uk/view-prove-immigration-status</td>\n",
       "      <td>0.0</td>\n",
       "      <td>STATE</td>\n",
       "      <td>immigration status</td>\n",
       "    </tr>\n",
       "    <tr>\n",
       "      <th>1</th>\n",
       "      <td>1</td>\n",
       "      <td>0</td>\n",
       "      <td>https://www.gov.uk/view-prove-immigration-status</td>\n",
       "      <td>1.0</td>\n",
       "      <td>PERSON</td>\n",
       "      <td>others</td>\n",
       "    </tr>\n",
       "    <tr>\n",
       "      <th>2</th>\n",
       "      <td>2</td>\n",
       "      <td>0</td>\n",
       "      <td>https://www.gov.uk/view-prove-immigration-status</td>\n",
       "      <td>2.0</td>\n",
       "      <td>FORM</td>\n",
       "      <td>uk visas and immigration</td>\n",
       "    </tr>\n",
       "    <tr>\n",
       "      <th>3</th>\n",
       "      <td>3</td>\n",
       "      <td>0</td>\n",
       "      <td>https://www.gov.uk/view-prove-immigration-status</td>\n",
       "      <td>3.0</td>\n",
       "      <td>LOCATION</td>\n",
       "      <td>uk</td>\n",
       "    </tr>\n",
       "    <tr>\n",
       "      <th>4</th>\n",
       "      <td>4</td>\n",
       "      <td>0</td>\n",
       "      <td>https://www.gov.uk/view-prove-immigration-status</td>\n",
       "      <td>4.0</td>\n",
       "      <td>FORM</td>\n",
       "      <td>document</td>\n",
       "    </tr>\n",
       "  </tbody>\n",
       "</table>\n",
       "</div>"
      ],
      "text/plain": [
       "   index  page_index                                         page_link  \\\n",
       "0      0           0  https://www.gov.uk/view-prove-immigration-status   \n",
       "1      1           0  https://www.gov.uk/view-prove-immigration-status   \n",
       "2      2           0  https://www.gov.uk/view-prove-immigration-status   \n",
       "3      3           0  https://www.gov.uk/view-prove-immigration-status   \n",
       "4      4           0  https://www.gov.uk/view-prove-immigration-status   \n",
       "\n",
       "   entity_index entity_group                      word  \n",
       "0           0.0        STATE        immigration status  \n",
       "1           1.0       PERSON                    others  \n",
       "2           2.0         FORM  uk visas and immigration  \n",
       "3           3.0     LOCATION                        uk  \n",
       "4           4.0         FORM                  document  "
      ]
     },
     "execution_count": 33,
     "metadata": {},
     "output_type": "execute_result"
    }
   ],
   "source": [
    "df.head()"
   ]
  },
  {
   "cell_type": "code",
   "execution_count": 18,
   "metadata": {},
   "outputs": [
    {
     "data": {
      "text/plain": [
       "17089"
      ]
     },
     "execution_count": 18,
     "metadata": {},
     "output_type": "execute_result"
    }
   ],
   "source": [
    "len(df[\"word\"].unique())"
   ]
  },
  {
   "cell_type": "code",
   "execution_count": 51,
   "metadata": {},
   "outputs": [],
   "source": [
    "words_single = df[\"word\"].value_counts()[df[\"word\"].value_counts() == 1].index\n",
    "# df[\"word\"].replace(words_single, np.nan)\n",
    "# df.replace(words_single, np.nan)"
   ]
  },
  {
   "cell_type": "code",
   "execution_count": 81,
   "metadata": {},
   "outputs": [],
   "source": [
    "words_single = list(words_single)"
   ]
  },
  {
   "cell_type": "code",
   "execution_count": 74,
   "metadata": {},
   "outputs": [
    {
     "ename": "SyntaxError",
     "evalue": "invalid syntax (147978103.py, line 1)",
     "output_type": "error",
     "traceback": [
      "\u001b[1;36m  Input \u001b[1;32mIn [74]\u001b[1;36m\u001b[0m\n\u001b[1;33m    df[\"word\"].apply(lambda x: x = np.nan if x in words_single)\u001b[0m\n\u001b[1;37m                                                              ^\u001b[0m\n\u001b[1;31mSyntaxError\u001b[0m\u001b[1;31m:\u001b[0m invalid syntax\n"
     ]
    }
   ],
   "source": [
    "df[\"word\"].apply(lambda x: x = np.nan if x in words_single)"
   ]
  },
  {
   "cell_type": "code",
   "execution_count": 84,
   "metadata": {},
   "outputs": [],
   "source": [
    "ccc = df[\"word\"].replace(to_replace = words_single, value = np.nan)"
   ]
  },
  {
   "cell_type": "code",
   "execution_count": 94,
   "metadata": {},
   "outputs": [
    {
     "ename": "ModuleNotFoundError",
     "evalue": "No module named 'seaborn'",
     "output_type": "error",
     "traceback": [
      "\u001b[1;31m---------------------------------------------------------------------------\u001b[0m",
      "\u001b[1;31mModuleNotFoundError\u001b[0m                       Traceback (most recent call last)",
      "Input \u001b[1;32mIn [94]\u001b[0m, in \u001b[0;36m<cell line: 2>\u001b[1;34m()\u001b[0m\n\u001b[0;32m      1\u001b[0m \u001b[38;5;28;01mimport\u001b[39;00m \u001b[38;5;21;01mmatplotlib\u001b[39;00m\u001b[38;5;21;01m.\u001b[39;00m\u001b[38;5;21;01mpyplot\u001b[39;00m \u001b[38;5;28;01mas\u001b[39;00m \u001b[38;5;21;01mplt\u001b[39;00m\n\u001b[1;32m----> 2\u001b[0m \u001b[38;5;28;01mimport\u001b[39;00m \u001b[38;5;21;01mseaborn\u001b[39;00m \u001b[38;5;28;01mas\u001b[39;00m \u001b[38;5;21;01msns\u001b[39;00m\n\u001b[0;32m      3\u001b[0m sns\u001b[38;5;241m.\u001b[39mhistplot( df[\u001b[38;5;124m\"\u001b[39m\u001b[38;5;124mword\u001b[39m\u001b[38;5;124m\"\u001b[39m]\u001b[38;5;241m.\u001b[39mvalue_counts() )\n",
      "\u001b[1;31mModuleNotFoundError\u001b[0m: No module named 'seaborn'"
     ]
    }
   ],
   "source": [
    "import matplotlib.pyplot as plt\n",
    "import seaborn as sns\n",
    "sns.histplot( df[\"word\"].value_counts() )"
   ]
  },
  {
   "cell_type": "code",
   "execution_count": 97,
   "metadata": {},
   "outputs": [
    {
     "data": {
      "text/plain": [
       "0.7561361836896279"
      ]
     },
     "execution_count": 97,
     "metadata": {},
     "output_type": "execute_result"
    }
   ],
   "source": [
    "(df[\"word\"].value_counts() < 10).mean()"
   ]
  },
  {
   "cell_type": "code",
   "execution_count": 86,
   "metadata": {},
   "outputs": [],
   "source": [
    "df[\"word_clean\"] = ccc"
   ]
  },
  {
   "cell_type": "code",
   "execution_count": 87,
   "metadata": {},
   "outputs": [
    {
     "data": {
      "text/plain": [
       "(151996, 6)"
      ]
     },
     "execution_count": 87,
     "metadata": {},
     "output_type": "execute_result"
    }
   ],
   "source": [
    "df.shape"
   ]
  },
  {
   "cell_type": "code",
   "execution_count": 88,
   "metadata": {},
   "outputs": [
    {
     "data": {
      "text/plain": [
       "(140307, 6)"
      ]
     },
     "execution_count": 88,
     "metadata": {},
     "output_type": "execute_result"
    }
   ],
   "source": [
    "df.dropna(how = \"any\", inplace = True)\n",
    "df.shape"
   ]
  },
  {
   "cell_type": "code",
   "execution_count": 41,
   "metadata": {},
   "outputs": [
    {
     "name": "stderr",
     "output_type": "stream",
     "text": [
      "C:\\Users\\jbryb\\virual_envs_python\\pytorch_env\\lib\\site-packages\\pandas\\core\\reshape\\reshape.py:130: RuntimeWarning: overflow encountered in long_scalars\n",
      "  num_cells = num_rows * num_columns\n"
     ]
    },
    {
     "ename": "ValueError",
     "evalue": "negative dimensions are not allowed",
     "output_type": "error",
     "traceback": [
      "\u001b[1;31m---------------------------------------------------------------------------\u001b[0m",
      "\u001b[1;31mValueError\u001b[0m                                Traceback (most recent call last)",
      "Input \u001b[1;32mIn [41]\u001b[0m, in \u001b[0;36m<cell line: 1>\u001b[1;34m()\u001b[0m\n\u001b[1;32m----> 1\u001b[0m \u001b[43mdf\u001b[49m\u001b[38;5;241;43m.\u001b[39;49m\u001b[43mpivot\u001b[49m\u001b[43m(\u001b[49m\u001b[43mcolumns\u001b[49m\u001b[43m \u001b[49m\u001b[38;5;241;43m=\u001b[39;49m\u001b[43m \u001b[49m\u001b[43m[\u001b[49m\u001b[38;5;124;43m\"\u001b[39;49m\u001b[38;5;124;43mword\u001b[39;49m\u001b[38;5;124;43m\"\u001b[39;49m\u001b[43m,\u001b[49m\u001b[43m \u001b[49m\u001b[38;5;124;43m\"\u001b[39;49m\u001b[38;5;124;43mentity_group\u001b[39;49m\u001b[38;5;124;43m\"\u001b[39;49m\u001b[43m]\u001b[49m\u001b[43m,\u001b[49m\u001b[43m \u001b[49m\u001b[43mvalues\u001b[49m\u001b[43m \u001b[49m\u001b[38;5;241;43m=\u001b[39;49m\u001b[43m \u001b[49m\u001b[38;5;124;43m\"\u001b[39;49m\u001b[38;5;124;43mones\u001b[39;49m\u001b[38;5;124;43m\"\u001b[39;49m\u001b[43m,\u001b[49m\u001b[43m \u001b[49m\u001b[43mindex\u001b[49m\u001b[43m \u001b[49m\u001b[38;5;241;43m=\u001b[39;49m\u001b[43m \u001b[49m\u001b[38;5;124;43m\"\u001b[39;49m\u001b[38;5;124;43mindex\u001b[39;49m\u001b[38;5;124;43m\"\u001b[39;49m\u001b[43m)\u001b[49m\n",
      "File \u001b[1;32m~\\virual_envs_python\\pytorch_env\\lib\\site-packages\\pandas\\core\\frame.py:7876\u001b[0m, in \u001b[0;36mDataFrame.pivot\u001b[1;34m(self, index, columns, values)\u001b[0m\n\u001b[0;32m   7871\u001b[0m \u001b[38;5;129m@Substitution\u001b[39m(\u001b[38;5;124m\"\u001b[39m\u001b[38;5;124m\"\u001b[39m)\n\u001b[0;32m   7872\u001b[0m \u001b[38;5;129m@Appender\u001b[39m(_shared_docs[\u001b[38;5;124m\"\u001b[39m\u001b[38;5;124mpivot\u001b[39m\u001b[38;5;124m\"\u001b[39m])\n\u001b[0;32m   7873\u001b[0m \u001b[38;5;28;01mdef\u001b[39;00m \u001b[38;5;21mpivot\u001b[39m(\u001b[38;5;28mself\u001b[39m, index\u001b[38;5;241m=\u001b[39m\u001b[38;5;28;01mNone\u001b[39;00m, columns\u001b[38;5;241m=\u001b[39m\u001b[38;5;28;01mNone\u001b[39;00m, values\u001b[38;5;241m=\u001b[39m\u001b[38;5;28;01mNone\u001b[39;00m) \u001b[38;5;241m-\u001b[39m\u001b[38;5;241m>\u001b[39m DataFrame:\n\u001b[0;32m   7874\u001b[0m     \u001b[38;5;28;01mfrom\u001b[39;00m \u001b[38;5;21;01mpandas\u001b[39;00m\u001b[38;5;21;01m.\u001b[39;00m\u001b[38;5;21;01mcore\u001b[39;00m\u001b[38;5;21;01m.\u001b[39;00m\u001b[38;5;21;01mreshape\u001b[39;00m\u001b[38;5;21;01m.\u001b[39;00m\u001b[38;5;21;01mpivot\u001b[39;00m \u001b[38;5;28;01mimport\u001b[39;00m pivot\n\u001b[1;32m-> 7876\u001b[0m     \u001b[38;5;28;01mreturn\u001b[39;00m \u001b[43mpivot\u001b[49m\u001b[43m(\u001b[49m\u001b[38;5;28;43mself\u001b[39;49m\u001b[43m,\u001b[49m\u001b[43m \u001b[49m\u001b[43mindex\u001b[49m\u001b[38;5;241;43m=\u001b[39;49m\u001b[43mindex\u001b[49m\u001b[43m,\u001b[49m\u001b[43m \u001b[49m\u001b[43mcolumns\u001b[49m\u001b[38;5;241;43m=\u001b[39;49m\u001b[43mcolumns\u001b[49m\u001b[43m,\u001b[49m\u001b[43m \u001b[49m\u001b[43mvalues\u001b[49m\u001b[38;5;241;43m=\u001b[39;49m\u001b[43mvalues\u001b[49m\u001b[43m)\u001b[49m\n",
      "File \u001b[1;32m~\\virual_envs_python\\pytorch_env\\lib\\site-packages\\pandas\\core\\reshape\\pivot.py:520\u001b[0m, in \u001b[0;36mpivot\u001b[1;34m(data, index, columns, values)\u001b[0m\n\u001b[0;32m    518\u001b[0m     \u001b[38;5;28;01melse\u001b[39;00m:\n\u001b[0;32m    519\u001b[0m         indexed \u001b[38;5;241m=\u001b[39m data\u001b[38;5;241m.\u001b[39m_constructor_sliced(data[values]\u001b[38;5;241m.\u001b[39m_values, index\u001b[38;5;241m=\u001b[39mmultiindex)\n\u001b[1;32m--> 520\u001b[0m \u001b[38;5;28;01mreturn\u001b[39;00m \u001b[43mindexed\u001b[49m\u001b[38;5;241;43m.\u001b[39;49m\u001b[43munstack\u001b[49m\u001b[43m(\u001b[49m\u001b[43mcolumns_listlike\u001b[49m\u001b[43m)\u001b[49m\n",
      "File \u001b[1;32m~\\virual_envs_python\\pytorch_env\\lib\\site-packages\\pandas\\core\\series.py:4157\u001b[0m, in \u001b[0;36mSeries.unstack\u001b[1;34m(self, level, fill_value)\u001b[0m\n\u001b[0;32m   4114\u001b[0m \u001b[38;5;124;03m\"\"\"\u001b[39;00m\n\u001b[0;32m   4115\u001b[0m \u001b[38;5;124;03mUnstack, also known as pivot, Series with MultiIndex to produce DataFrame.\u001b[39;00m\n\u001b[0;32m   4116\u001b[0m \n\u001b[1;32m   (...)\u001b[0m\n\u001b[0;32m   4153\u001b[0m \u001b[38;5;124;03mb    2    4\u001b[39;00m\n\u001b[0;32m   4154\u001b[0m \u001b[38;5;124;03m\"\"\"\u001b[39;00m\n\u001b[0;32m   4155\u001b[0m \u001b[38;5;28;01mfrom\u001b[39;00m \u001b[38;5;21;01mpandas\u001b[39;00m\u001b[38;5;21;01m.\u001b[39;00m\u001b[38;5;21;01mcore\u001b[39;00m\u001b[38;5;21;01m.\u001b[39;00m\u001b[38;5;21;01mreshape\u001b[39;00m\u001b[38;5;21;01m.\u001b[39;00m\u001b[38;5;21;01mreshape\u001b[39;00m \u001b[38;5;28;01mimport\u001b[39;00m unstack\n\u001b[1;32m-> 4157\u001b[0m \u001b[38;5;28;01mreturn\u001b[39;00m \u001b[43munstack\u001b[49m\u001b[43m(\u001b[49m\u001b[38;5;28;43mself\u001b[39;49m\u001b[43m,\u001b[49m\u001b[43m \u001b[49m\u001b[43mlevel\u001b[49m\u001b[43m,\u001b[49m\u001b[43m \u001b[49m\u001b[43mfill_value\u001b[49m\u001b[43m)\u001b[49m\n",
      "File \u001b[1;32m~\\virual_envs_python\\pytorch_env\\lib\\site-packages\\pandas\\core\\reshape\\reshape.py:468\u001b[0m, in \u001b[0;36munstack\u001b[1;34m(obj, level, fill_value)\u001b[0m\n\u001b[0;32m    464\u001b[0m \u001b[38;5;28;01mif\u001b[39;00m \u001b[38;5;28misinstance\u001b[39m(level, (\u001b[38;5;28mtuple\u001b[39m, \u001b[38;5;28mlist\u001b[39m)):\n\u001b[0;32m    465\u001b[0m     \u001b[38;5;28;01mif\u001b[39;00m \u001b[38;5;28mlen\u001b[39m(level) \u001b[38;5;241m!=\u001b[39m \u001b[38;5;241m1\u001b[39m:\n\u001b[0;32m    466\u001b[0m         \u001b[38;5;66;03m# _unstack_multiple only handles MultiIndexes,\u001b[39;00m\n\u001b[0;32m    467\u001b[0m         \u001b[38;5;66;03m# and isn't needed for a single level\u001b[39;00m\n\u001b[1;32m--> 468\u001b[0m         \u001b[38;5;28;01mreturn\u001b[39;00m \u001b[43m_unstack_multiple\u001b[49m\u001b[43m(\u001b[49m\u001b[43mobj\u001b[49m\u001b[43m,\u001b[49m\u001b[43m \u001b[49m\u001b[43mlevel\u001b[49m\u001b[43m,\u001b[49m\u001b[43m \u001b[49m\u001b[43mfill_value\u001b[49m\u001b[38;5;241;43m=\u001b[39;49m\u001b[43mfill_value\u001b[49m\u001b[43m)\u001b[49m\n\u001b[0;32m    469\u001b[0m     \u001b[38;5;28;01melse\u001b[39;00m:\n\u001b[0;32m    470\u001b[0m         level \u001b[38;5;241m=\u001b[39m level[\u001b[38;5;241m0\u001b[39m]\n",
      "File \u001b[1;32m~\\virual_envs_python\\pytorch_env\\lib\\site-packages\\pandas\\core\\reshape\\reshape.py:419\u001b[0m, in \u001b[0;36m_unstack_multiple\u001b[1;34m(data, clocs, fill_value)\u001b[0m\n\u001b[0;32m    416\u001b[0m dummy \u001b[38;5;241m=\u001b[39m data\u001b[38;5;241m.\u001b[39mcopy()\n\u001b[0;32m    417\u001b[0m dummy\u001b[38;5;241m.\u001b[39mindex \u001b[38;5;241m=\u001b[39m dummy_index\n\u001b[1;32m--> 419\u001b[0m unstacked \u001b[38;5;241m=\u001b[39m \u001b[43mdummy\u001b[49m\u001b[38;5;241;43m.\u001b[39;49m\u001b[43munstack\u001b[49m\u001b[43m(\u001b[49m\u001b[38;5;124;43m\"\u001b[39;49m\u001b[38;5;124;43m__placeholder__\u001b[39;49m\u001b[38;5;124;43m\"\u001b[39;49m\u001b[43m,\u001b[49m\u001b[43m \u001b[49m\u001b[43mfill_value\u001b[49m\u001b[38;5;241;43m=\u001b[39;49m\u001b[43mfill_value\u001b[49m\u001b[43m)\u001b[49m\n\u001b[0;32m    420\u001b[0m new_levels \u001b[38;5;241m=\u001b[39m clevels\n\u001b[0;32m    421\u001b[0m new_names \u001b[38;5;241m=\u001b[39m cnames\n",
      "File \u001b[1;32m~\\virual_envs_python\\pytorch_env\\lib\\site-packages\\pandas\\core\\series.py:4157\u001b[0m, in \u001b[0;36mSeries.unstack\u001b[1;34m(self, level, fill_value)\u001b[0m\n\u001b[0;32m   4114\u001b[0m \u001b[38;5;124;03m\"\"\"\u001b[39;00m\n\u001b[0;32m   4115\u001b[0m \u001b[38;5;124;03mUnstack, also known as pivot, Series with MultiIndex to produce DataFrame.\u001b[39;00m\n\u001b[0;32m   4116\u001b[0m \n\u001b[1;32m   (...)\u001b[0m\n\u001b[0;32m   4153\u001b[0m \u001b[38;5;124;03mb    2    4\u001b[39;00m\n\u001b[0;32m   4154\u001b[0m \u001b[38;5;124;03m\"\"\"\u001b[39;00m\n\u001b[0;32m   4155\u001b[0m \u001b[38;5;28;01mfrom\u001b[39;00m \u001b[38;5;21;01mpandas\u001b[39;00m\u001b[38;5;21;01m.\u001b[39;00m\u001b[38;5;21;01mcore\u001b[39;00m\u001b[38;5;21;01m.\u001b[39;00m\u001b[38;5;21;01mreshape\u001b[39;00m\u001b[38;5;21;01m.\u001b[39;00m\u001b[38;5;21;01mreshape\u001b[39;00m \u001b[38;5;28;01mimport\u001b[39;00m unstack\n\u001b[1;32m-> 4157\u001b[0m \u001b[38;5;28;01mreturn\u001b[39;00m \u001b[43munstack\u001b[49m\u001b[43m(\u001b[49m\u001b[38;5;28;43mself\u001b[39;49m\u001b[43m,\u001b[49m\u001b[43m \u001b[49m\u001b[43mlevel\u001b[49m\u001b[43m,\u001b[49m\u001b[43m \u001b[49m\u001b[43mfill_value\u001b[49m\u001b[43m)\u001b[49m\n",
      "File \u001b[1;32m~\\virual_envs_python\\pytorch_env\\lib\\site-packages\\pandas\\core\\reshape\\reshape.py:491\u001b[0m, in \u001b[0;36munstack\u001b[1;34m(obj, level, fill_value)\u001b[0m\n\u001b[0;32m    489\u001b[0m \u001b[38;5;28;01mif\u001b[39;00m is_1d_only_ea_dtype(obj\u001b[38;5;241m.\u001b[39mdtype):\n\u001b[0;32m    490\u001b[0m     \u001b[38;5;28;01mreturn\u001b[39;00m _unstack_extension_series(obj, level, fill_value)\n\u001b[1;32m--> 491\u001b[0m unstacker \u001b[38;5;241m=\u001b[39m \u001b[43m_Unstacker\u001b[49m\u001b[43m(\u001b[49m\n\u001b[0;32m    492\u001b[0m \u001b[43m    \u001b[49m\u001b[43mobj\u001b[49m\u001b[38;5;241;43m.\u001b[39;49m\u001b[43mindex\u001b[49m\u001b[43m,\u001b[49m\u001b[43m \u001b[49m\u001b[43mlevel\u001b[49m\u001b[38;5;241;43m=\u001b[39;49m\u001b[43mlevel\u001b[49m\u001b[43m,\u001b[49m\u001b[43m \u001b[49m\u001b[43mconstructor\u001b[49m\u001b[38;5;241;43m=\u001b[39;49m\u001b[43mobj\u001b[49m\u001b[38;5;241;43m.\u001b[39;49m\u001b[43m_constructor_expanddim\u001b[49m\n\u001b[0;32m    493\u001b[0m \u001b[43m\u001b[49m\u001b[43m)\u001b[49m\n\u001b[0;32m    494\u001b[0m \u001b[38;5;28;01mreturn\u001b[39;00m unstacker\u001b[38;5;241m.\u001b[39mget_result(\n\u001b[0;32m    495\u001b[0m     obj\u001b[38;5;241m.\u001b[39m_values, value_columns\u001b[38;5;241m=\u001b[39m\u001b[38;5;28;01mNone\u001b[39;00m, fill_value\u001b[38;5;241m=\u001b[39mfill_value\n\u001b[0;32m    496\u001b[0m )\n",
      "File \u001b[1;32m~\\virual_envs_python\\pytorch_env\\lib\\site-packages\\pandas\\core\\reshape\\reshape.py:140\u001b[0m, in \u001b[0;36m_Unstacker.__init__\u001b[1;34m(self, index, level, constructor)\u001b[0m\n\u001b[0;32m    133\u001b[0m \u001b[38;5;28;01mif\u001b[39;00m num_cells \u001b[38;5;241m>\u001b[39m np\u001b[38;5;241m.\u001b[39miinfo(np\u001b[38;5;241m.\u001b[39mint32)\u001b[38;5;241m.\u001b[39mmax:\n\u001b[0;32m    134\u001b[0m     warnings\u001b[38;5;241m.\u001b[39mwarn(\n\u001b[0;32m    135\u001b[0m         \u001b[38;5;124mf\u001b[39m\u001b[38;5;124m\"\u001b[39m\u001b[38;5;124mThe following operation may generate \u001b[39m\u001b[38;5;132;01m{\u001b[39;00mnum_cells\u001b[38;5;132;01m}\u001b[39;00m\u001b[38;5;124m cells \u001b[39m\u001b[38;5;124m\"\u001b[39m\n\u001b[0;32m    136\u001b[0m         \u001b[38;5;124mf\u001b[39m\u001b[38;5;124m\"\u001b[39m\u001b[38;5;124min the resulting pandas object.\u001b[39m\u001b[38;5;124m\"\u001b[39m,\n\u001b[0;32m    137\u001b[0m         PerformanceWarning,\n\u001b[0;32m    138\u001b[0m     )\n\u001b[1;32m--> 140\u001b[0m \u001b[38;5;28;43mself\u001b[39;49m\u001b[38;5;241;43m.\u001b[39;49m\u001b[43m_make_selectors\u001b[49m\u001b[43m(\u001b[49m\u001b[43m)\u001b[49m\n",
      "File \u001b[1;32m~\\virual_envs_python\\pytorch_env\\lib\\site-packages\\pandas\\core\\reshape\\reshape.py:188\u001b[0m, in \u001b[0;36m_Unstacker._make_selectors\u001b[1;34m(self)\u001b[0m\n\u001b[0;32m    185\u001b[0m \u001b[38;5;28mself\u001b[39m\u001b[38;5;241m.\u001b[39mfull_shape \u001b[38;5;241m=\u001b[39m ngroups, stride\n\u001b[0;32m    187\u001b[0m selector \u001b[38;5;241m=\u001b[39m \u001b[38;5;28mself\u001b[39m\u001b[38;5;241m.\u001b[39msorted_labels[\u001b[38;5;241m-\u001b[39m\u001b[38;5;241m1\u001b[39m] \u001b[38;5;241m+\u001b[39m stride \u001b[38;5;241m*\u001b[39m comp_index \u001b[38;5;241m+\u001b[39m \u001b[38;5;28mself\u001b[39m\u001b[38;5;241m.\u001b[39mlift\n\u001b[1;32m--> 188\u001b[0m mask \u001b[38;5;241m=\u001b[39m \u001b[43mnp\u001b[49m\u001b[38;5;241;43m.\u001b[39;49m\u001b[43mzeros\u001b[49m\u001b[43m(\u001b[49m\u001b[43mnp\u001b[49m\u001b[38;5;241;43m.\u001b[39;49m\u001b[43mprod\u001b[49m\u001b[43m(\u001b[49m\u001b[38;5;28;43mself\u001b[39;49m\u001b[38;5;241;43m.\u001b[39;49m\u001b[43mfull_shape\u001b[49m\u001b[43m)\u001b[49m\u001b[43m,\u001b[49m\u001b[43m \u001b[49m\u001b[43mdtype\u001b[49m\u001b[38;5;241;43m=\u001b[39;49m\u001b[38;5;28;43mbool\u001b[39;49m\u001b[43m)\u001b[49m\n\u001b[0;32m    189\u001b[0m mask\u001b[38;5;241m.\u001b[39mput(selector, \u001b[38;5;28;01mTrue\u001b[39;00m)\n\u001b[0;32m    191\u001b[0m \u001b[38;5;28;01mif\u001b[39;00m mask\u001b[38;5;241m.\u001b[39msum() \u001b[38;5;241m<\u001b[39m \u001b[38;5;28mlen\u001b[39m(\u001b[38;5;28mself\u001b[39m\u001b[38;5;241m.\u001b[39mindex):\n",
      "\u001b[1;31mValueError\u001b[0m: negative dimensions are not allowed"
     ]
    }
   ],
   "source": [
    "df.pivot(columns = [\"word\", \"entity_group\"], values = \"ones\", index = \"index\")"
   ]
  },
  {
   "cell_type": "code",
   "execution_count": 22,
   "metadata": {},
   "outputs": [
    {
     "name": "stdout",
     "output_type": "stream",
     "text": [
      "Help on method pivot in module pandas.core.frame:\n",
      "\n",
      "pivot(index=None, columns=None, values=None) -> 'DataFrame' method of pandas.core.frame.DataFrame instance\n",
      "    Return reshaped DataFrame organized by given index / column values.\n",
      "    \n",
      "    Reshape data (produce a \"pivot\" table) based on column values. Uses\n",
      "    unique values from specified `index` / `columns` to form axes of the\n",
      "    resulting DataFrame. This function does not support data\n",
      "    aggregation, multiple values will result in a MultiIndex in the\n",
      "    columns. See the :ref:`User Guide <reshaping>` for more on reshaping.\n",
      "    \n",
      "    Parameters\n",
      "    ----------\n",
      "    index : str or object or a list of str, optional\n",
      "        Column to use to make new frame's index. If None, uses\n",
      "        existing index.\n",
      "    \n",
      "        .. versionchanged:: 1.1.0\n",
      "           Also accept list of index names.\n",
      "    \n",
      "    columns : str or object or a list of str\n",
      "        Column to use to make new frame's columns.\n",
      "    \n",
      "        .. versionchanged:: 1.1.0\n",
      "           Also accept list of columns names.\n",
      "    \n",
      "    values : str, object or a list of the previous, optional\n",
      "        Column(s) to use for populating new frame's values. If not\n",
      "        specified, all remaining columns will be used and the result will\n",
      "        have hierarchically indexed columns.\n",
      "    \n",
      "    Returns\n",
      "    -------\n",
      "    DataFrame\n",
      "        Returns reshaped DataFrame.\n",
      "    \n",
      "    Raises\n",
      "    ------\n",
      "    ValueError:\n",
      "        When there are any `index`, `columns` combinations with multiple\n",
      "        values. `DataFrame.pivot_table` when you need to aggregate.\n",
      "    \n",
      "    See Also\n",
      "    --------\n",
      "    DataFrame.pivot_table : Generalization of pivot that can handle\n",
      "        duplicate values for one index/column pair.\n",
      "    DataFrame.unstack : Pivot based on the index values instead of a\n",
      "        column.\n",
      "    wide_to_long : Wide panel to long format. Less flexible but more\n",
      "        user-friendly than melt.\n",
      "    \n",
      "    Notes\n",
      "    -----\n",
      "    For finer-tuned control, see hierarchical indexing documentation along\n",
      "    with the related stack/unstack methods.\n",
      "    \n",
      "    Reference :ref:`the user guide <reshaping.pivot>` for more examples.\n",
      "    \n",
      "    Examples\n",
      "    --------\n",
      "    >>> df = pd.DataFrame({'foo': ['one', 'one', 'one', 'two', 'two',\n",
      "    ...                            'two'],\n",
      "    ...                    'bar': ['A', 'B', 'C', 'A', 'B', 'C'],\n",
      "    ...                    'baz': [1, 2, 3, 4, 5, 6],\n",
      "    ...                    'zoo': ['x', 'y', 'z', 'q', 'w', 't']})\n",
      "    >>> df\n",
      "        foo   bar  baz  zoo\n",
      "    0   one   A    1    x\n",
      "    1   one   B    2    y\n",
      "    2   one   C    3    z\n",
      "    3   two   A    4    q\n",
      "    4   two   B    5    w\n",
      "    5   two   C    6    t\n",
      "    \n",
      "    >>> df.pivot(index='foo', columns='bar', values='baz')\n",
      "    bar  A   B   C\n",
      "    foo\n",
      "    one  1   2   3\n",
      "    two  4   5   6\n",
      "    \n",
      "    >>> df.pivot(index='foo', columns='bar')['baz']\n",
      "    bar  A   B   C\n",
      "    foo\n",
      "    one  1   2   3\n",
      "    two  4   5   6\n",
      "    \n",
      "    >>> df.pivot(index='foo', columns='bar', values=['baz', 'zoo'])\n",
      "          baz       zoo\n",
      "    bar   A  B  C   A  B  C\n",
      "    foo\n",
      "    one   1  2  3   x  y  z\n",
      "    two   4  5  6   q  w  t\n",
      "    \n",
      "    You could also assign a list of column names or a list of index names.\n",
      "    \n",
      "    >>> df = pd.DataFrame({\n",
      "    ...        \"lev1\": [1, 1, 1, 2, 2, 2],\n",
      "    ...        \"lev2\": [1, 1, 2, 1, 1, 2],\n",
      "    ...        \"lev3\": [1, 2, 1, 2, 1, 2],\n",
      "    ...        \"lev4\": [1, 2, 3, 4, 5, 6],\n",
      "    ...        \"values\": [0, 1, 2, 3, 4, 5]})\n",
      "    >>> df\n",
      "        lev1 lev2 lev3 lev4 values\n",
      "    0   1    1    1    1    0\n",
      "    1   1    1    2    2    1\n",
      "    2   1    2    1    3    2\n",
      "    3   2    1    2    4    3\n",
      "    4   2    1    1    5    4\n",
      "    5   2    2    2    6    5\n",
      "    \n",
      "    >>> df.pivot(index=\"lev1\", columns=[\"lev2\", \"lev3\"],values=\"values\")\n",
      "    lev2    1         2\n",
      "    lev3    1    2    1    2\n",
      "    lev1\n",
      "    1     0.0  1.0  2.0  NaN\n",
      "    2     4.0  3.0  NaN  5.0\n",
      "    \n",
      "    >>> df.pivot(index=[\"lev1\", \"lev2\"], columns=[\"lev3\"],values=\"values\")\n",
      "          lev3    1    2\n",
      "    lev1  lev2\n",
      "       1     1  0.0  1.0\n",
      "             2  2.0  NaN\n",
      "       2     1  4.0  3.0\n",
      "             2  NaN  5.0\n",
      "    \n",
      "    A ValueError is raised if there are any duplicates.\n",
      "    \n",
      "    >>> df = pd.DataFrame({\"foo\": ['one', 'one', 'two', 'two'],\n",
      "    ...                    \"bar\": ['A', 'A', 'B', 'C'],\n",
      "    ...                    \"baz\": [1, 2, 3, 4]})\n",
      "    >>> df\n",
      "       foo bar  baz\n",
      "    0  one   A    1\n",
      "    1  one   A    2\n",
      "    2  two   B    3\n",
      "    3  two   C    4\n",
      "    \n",
      "    Notice that the first two rows are the same for our `index`\n",
      "    and `columns` arguments.\n",
      "    \n",
      "    >>> df.pivot(index='foo', columns='bar', values='baz')\n",
      "    Traceback (most recent call last):\n",
      "       ...\n",
      "    ValueError: Index contains duplicate entries, cannot reshape\n",
      "\n"
     ]
    }
   ],
   "source": [
    "help(df.pivot)"
   ]
  },
  {
   "cell_type": "code",
   "execution_count": null,
   "metadata": {},
   "outputs": [],
   "source": [
    "sparse_matrix = csr_matrix((data, (row, col)), shape=(len(user_u), len(item_u)))"
   ]
  }
 ],
 "metadata": {
  "kernelspec": {
   "display_name": "pytorch_env",
   "language": "python",
   "name": "pytorch_env"
  },
  "language_info": {
   "codemirror_mode": {
    "name": "ipython",
    "version": 3
   },
   "file_extension": ".py",
   "mimetype": "text/x-python",
   "name": "python",
   "nbconvert_exporter": "python",
   "pygments_lexer": "ipython3",
   "version": "3.8.6"
  },
  "toc": {
   "base_numbering": 1,
   "nav_menu": {},
   "number_sections": true,
   "sideBar": true,
   "skip_h1_title": false,
   "title_cell": "Table of Contents",
   "title_sidebar": "Contents",
   "toc_cell": false,
   "toc_position": {},
   "toc_section_display": true,
   "toc_window_display": false
  },
  "varInspector": {
   "cols": {
    "lenName": 16,
    "lenType": 16,
    "lenVar": 40
   },
   "kernels_config": {
    "python": {
     "delete_cmd_postfix": "",
     "delete_cmd_prefix": "del ",
     "library": "var_list.py",
     "varRefreshCmd": "print(var_dic_list())"
    },
    "r": {
     "delete_cmd_postfix": ") ",
     "delete_cmd_prefix": "rm(",
     "library": "var_list.r",
     "varRefreshCmd": "cat(var_dic_list()) "
    }
   },
   "types_to_exclude": [
    "module",
    "function",
    "builtin_function_or_method",
    "instance",
    "_Feature"
   ],
   "window_display": false
  }
 },
 "nbformat": 4,
 "nbformat_minor": 4
}
