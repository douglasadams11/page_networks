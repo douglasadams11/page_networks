{
  "nbformat": 4,
  "nbformat_minor": 0,
  "metadata": {
    "colab": {
      "name": "NER",
      "provenance": [],
      "collapsed_sections": []
    },
    "kernelspec": {
      "name": "python3",
      "display_name": "Python 3"
    },
    "language_info": {
      "name": "python"
    },
    "accelerator": "GPU"
  },
  "cells": [
    {
      "cell_type": "markdown",
      "source": [
        "# NER inference\n",
        "\n",
        "This is a notebook for performing inference from the NER model on the list of pages being trialled for the new whole user journey approaches.\n",
        "\n",
        "Before you start, make sure your GPU is running."
      ],
      "metadata": {
        "id": "CU7UPB3a7Lzm"
      }
    },
    {
      "cell_type": "code",
      "source": [
        "!pip install transformers datasets seqeval >/dev/null"
      ],
      "metadata": {
        "id": "P2rz0J4t7OyV",
        "colab": {
          "base_uri": "https://localhost:8080/"
        },
        "outputId": "87b61a05-56a9-4c03-8aa4-7e267dcfcac9"
      },
      "execution_count": null,
      "outputs": [
        {
          "output_type": "stream",
          "name": "stdout",
          "text": [
            "\u001b[31mERROR: pip's dependency resolver does not currently take into account all the packages that are installed. This behaviour is the source of the following dependency conflicts.\n",
            "datascience 0.10.6 requires folium==0.2.1, but you have folium 0.8.3 which is incompatible.\u001b[0m\n"
          ]
        }
      ]
    },
    {
      "cell_type": "code",
      "source": [
        "from transformers import pipeline, AutoTokenizer, AutoModelForTokenClassification\n",
        "import torch\n",
        "import json\n",
        "import pandas as pd\n",
        "import spacy\n",
        "from spacy import displacy\n",
        "from bs4 import BeautifulSoup as soup\n",
        "from urllib.request import urlopen\n",
        "import os\n",
        "from google.colab import drive\n",
        "\n",
        "drive.mount(\"/content/gdrive\")\n",
        "\n",
        "MODEL_DIR = os.path.join(\"/content/gdrive/Shared drives/\",\n",
        "                         \"GOV.UK teams/2020-2021/Data labs/content-metadata-2021/Models\"\n",
        "                         )"
      ],
      "metadata": {
        "id": "5D0sDrjA7uut",
        "colab": {
          "base_uri": "https://localhost:8080/"
        },
        "outputId": "417265b7-b631-4cf1-fad7-487ff011c32e"
      },
      "execution_count": null,
      "outputs": [
        {
          "output_type": "stream",
          "name": "stdout",
          "text": [
            "Mounted at /content/gdrive\n"
          ]
        }
      ]
    },
    {
      "cell_type": "markdown",
      "source": [
        "## Load model\n",
        "\n",
        "Choose a model. These are available here:\n",
        "\n",
        "https://drive.google.com/drive/folders/1-6n2iyiUpicm2BK4ybycJd2lY424U2BP \n",
        "\n",
        "Replace the `checkpoint` variable below if you wish to use a different model checkpoint.\n",
        "\n"
      ],
      "metadata": {
        "id": "eTYmb1Hm8Rj9"
      }
    },
    {
      "cell_type": "code",
      "source": [
        "checkpoint = 'distilbert-base-uncased-selfsupervised-ner-govuk-08-02-2022-govuk'\n",
        "MODEL_PATH = os.path.join(MODEL_DIR, checkpoint)"
      ],
      "metadata": {
        "id": "YDvz1Ad28LPi"
      },
      "execution_count": null,
      "outputs": []
    },
    {
      "cell_type": "code",
      "source": [
        "model = AutoModelForTokenClassification.from_pretrained(MODEL_PATH)\n",
        "device = torch.device(\"cuda\")\n",
        "model.to(device)\n",
        "tokenizer = AutoTokenizer.from_pretrained(MODEL_PATH)\n",
        "nlp = pipeline(\"ner\",\n",
        "               model=model,\n",
        "               tokenizer=tokenizer,\n",
        "               aggregation_strategy=\"first\",\n",
        "               device=0\n",
        "               )"
      ],
      "metadata": {
        "id": "2upVoJx58phT"
      },
      "execution_count": null,
      "outputs": []
    },
    {
      "cell_type": "markdown",
      "source": [
        "## Inference test for demonstration"
      ],
      "metadata": {
        "id": "JfWZwMb_-EnP"
      }
    },
    {
      "cell_type": "code",
      "source": [
        "def show_entities(examples):\n",
        "  '''\n",
        "  This function visualises the named entities in some text.\n",
        "\n",
        "  Arguments:\n",
        "    examples: a list of strings, where each string is a document (e.g., sentence)\n",
        "  '''\n",
        "\n",
        "  # identify named entities using the model\n",
        "  ner_results = nlp(examples) \n",
        "\n",
        "  s = spacy.blank(\"en\")\n",
        "\n",
        "  # format the text and named entities to comply with displacy\n",
        "  for example, results in zip(examples, ner_results):\n",
        "    doc = s(example)\n",
        "\n",
        "    ents = []\n",
        "\n",
        "    if results:\n",
        "      for result in results: \n",
        "        ents.append(doc.char_span(result['start'],\n",
        "                                  result['end'],\n",
        "                                  result['entity_group']))\n",
        "      doc.ents = ents\n",
        "\n",
        "      displacy.render(doc, style=\"ent\", jupyter=True)"
      ],
      "metadata": {
        "id": "3fA4GTdE8rGG"
      },
      "execution_count": null,
      "outputs": []
    },
    {
      "cell_type": "code",
      "source": [
        "# In reality, each item in this list will be the parsed content from a page\n",
        "examples = [\"My name is David, I live in London and today is a Monday\",\n",
        "           \"Welcome to the jungle, my name is John and I am unable to receive Universal Credit\",\n",
        "           \"The DIO awarded contracts worth a total of £150 million to the firms to deliver a range of new buildings for service personnel from 1 and 16 Signal Regiment who have moved to Stafford from Germany.\",\n",
        "           \"Statement by Ambassador Karen Pierce, UK Permanent Representative to the UN, at the Security Council briefing on Women, Peace and Security.\",\n",
        "           \"PHE are warning pregnant women against using a potentially poisonous product, 'Calabash chalk', as a nutritional supplement or morning sickness ‘antidote’\",\n",
        "           \"How the government will make teaching an even higher status profession that attracts even more of the best graduates.\"]\n",
        "\n",
        "show_entities(examples)"
      ],
      "metadata": {
        "colab": {
          "base_uri": "https://localhost:8080/",
          "height": 297
        },
        "id": "8rOSG53O_BSb",
        "outputId": "8fe31782-89bb-45ba-d3ba-b1eb9ecc0f12"
      },
      "execution_count": null,
      "outputs": [
        {
          "output_type": "display_data",
          "data": {
            "text/plain": [
              "<IPython.core.display.HTML object>"
            ],
            "text/html": [
              "<span class=\"tex2jax_ignore\"><div class=\"entities\" style=\"line-height: 2.5; direction: ltr\">My name is David, I live in \n",
              "<mark class=\"entity\" style=\"background: #ddd; padding: 0.45em 0.6em; margin: 0 0.25em; line-height: 1; border-radius: 0.35em;\">\n",
              "    London\n",
              "    <span style=\"font-size: 0.8em; font-weight: bold; line-height: 1; border-radius: 0.35em; text-transform: uppercase; vertical-align: middle; margin-left: 0.5rem\">LOCATION</span>\n",
              "</mark>\n",
              " and \n",
              "<mark class=\"entity\" style=\"background: #bfe1d9; padding: 0.45em 0.6em; margin: 0 0.25em; line-height: 1; border-radius: 0.35em;\">\n",
              "    today\n",
              "    <span style=\"font-size: 0.8em; font-weight: bold; line-height: 1; border-radius: 0.35em; text-transform: uppercase; vertical-align: middle; margin-left: 0.5rem\">DATE</span>\n",
              "</mark>\n",
              " is a \n",
              "<mark class=\"entity\" style=\"background: #bfe1d9; padding: 0.45em 0.6em; margin: 0 0.25em; line-height: 1; border-radius: 0.35em;\">\n",
              "    Monday\n",
              "    <span style=\"font-size: 0.8em; font-weight: bold; line-height: 1; border-radius: 0.35em; text-transform: uppercase; vertical-align: middle; margin-left: 0.5rem\">DATE</span>\n",
              "</mark>\n",
              "</div></span>"
            ]
          },
          "metadata": {}
        },
        {
          "output_type": "display_data",
          "data": {
            "text/plain": [
              "<IPython.core.display.HTML object>"
            ],
            "text/html": [
              "<span class=\"tex2jax_ignore\"><div class=\"entities\" style=\"line-height: 2.5; direction: ltr\">Welcome to the \n",
              "<mark class=\"entity\" style=\"background: #ddd; padding: 0.45em 0.6em; margin: 0 0.25em; line-height: 1; border-radius: 0.35em;\">\n",
              "    jungle\n",
              "    <span style=\"font-size: 0.8em; font-weight: bold; line-height: 1; border-radius: 0.35em; text-transform: uppercase; vertical-align: middle; margin-left: 0.5rem\">LOCATION</span>\n",
              "</mark>\n",
              ", my name is \n",
              "<mark class=\"entity\" style=\"background: #aa9cfc; padding: 0.45em 0.6em; margin: 0 0.25em; line-height: 1; border-radius: 0.35em;\">\n",
              "    John\n",
              "    <span style=\"font-size: 0.8em; font-weight: bold; line-height: 1; border-radius: 0.35em; text-transform: uppercase; vertical-align: middle; margin-left: 0.5rem\">PERSON</span>\n",
              "</mark>\n",
              " and I am unable to receive \n",
              "<mark class=\"entity\" style=\"background: #ddd; padding: 0.45em 0.6em; margin: 0 0.25em; line-height: 1; border-radius: 0.35em;\">\n",
              "    Universal Credit\n",
              "    <span style=\"font-size: 0.8em; font-weight: bold; line-height: 1; border-radius: 0.35em; text-transform: uppercase; vertical-align: middle; margin-left: 0.5rem\">FINANCE</span>\n",
              "</mark>\n",
              "</div></span>"
            ]
          },
          "metadata": {}
        },
        {
          "output_type": "display_data",
          "data": {
            "text/plain": [
              "<IPython.core.display.HTML object>"
            ],
            "text/html": [
              "<span class=\"tex2jax_ignore\"><div class=\"entities\" style=\"line-height: 2.5; direction: ltr\">The \n",
              "<mark class=\"entity\" style=\"background: #ddd; padding: 0.45em 0.6em; margin: 0 0.25em; line-height: 1; border-radius: 0.35em;\">\n",
              "    DIO\n",
              "    <span style=\"font-size: 0.8em; font-weight: bold; line-height: 1; border-radius: 0.35em; text-transform: uppercase; vertical-align: middle; margin-left: 0.5rem\">ORGANIZATION</span>\n",
              "</mark>\n",
              " awarded contracts worth a total of £150 million to the firms to deliver a range of new buildings for \n",
              "<mark class=\"entity\" style=\"background: #aa9cfc; padding: 0.45em 0.6em; margin: 0 0.25em; line-height: 1; border-radius: 0.35em;\">\n",
              "    service personnel\n",
              "    <span style=\"font-size: 0.8em; font-weight: bold; line-height: 1; border-radius: 0.35em; text-transform: uppercase; vertical-align: middle; margin-left: 0.5rem\">PERSON</span>\n",
              "</mark>\n",
              " from 1 and 16 \n",
              "<mark class=\"entity\" style=\"background: #ddd; padding: 0.45em 0.6em; margin: 0 0.25em; line-height: 1; border-radius: 0.35em;\">\n",
              "    Signal Regiment\n",
              "    <span style=\"font-size: 0.8em; font-weight: bold; line-height: 1; border-radius: 0.35em; text-transform: uppercase; vertical-align: middle; margin-left: 0.5rem\">ORGANIZATION</span>\n",
              "</mark>\n",
              " who have \n",
              "<mark class=\"entity\" style=\"background: #ddd; padding: 0.45em 0.6em; margin: 0 0.25em; line-height: 1; border-radius: 0.35em;\">\n",
              "    moved\n",
              "    <span style=\"font-size: 0.8em; font-weight: bold; line-height: 1; border-radius: 0.35em; text-transform: uppercase; vertical-align: middle; margin-left: 0.5rem\">STATE</span>\n",
              "</mark>\n",
              " to Stafford from \n",
              "<mark class=\"entity\" style=\"background: #ddd; padding: 0.45em 0.6em; margin: 0 0.25em; line-height: 1; border-radius: 0.35em;\">\n",
              "    Germany\n",
              "    <span style=\"font-size: 0.8em; font-weight: bold; line-height: 1; border-radius: 0.35em; text-transform: uppercase; vertical-align: middle; margin-left: 0.5rem\">LOCATION</span>\n",
              "</mark>\n",
              ".</div></span>"
            ]
          },
          "metadata": {}
        },
        {
          "output_type": "display_data",
          "data": {
            "text/plain": [
              "<IPython.core.display.HTML object>"
            ],
            "text/html": [
              "<span class=\"tex2jax_ignore\"><div class=\"entities\" style=\"line-height: 2.5; direction: ltr\">Statement by \n",
              "<mark class=\"entity\" style=\"background: #aa9cfc; padding: 0.45em 0.6em; margin: 0 0.25em; line-height: 1; border-radius: 0.35em;\">\n",
              "    Ambassador\n",
              "    <span style=\"font-size: 0.8em; font-weight: bold; line-height: 1; border-radius: 0.35em; text-transform: uppercase; vertical-align: middle; margin-left: 0.5rem\">PERSON</span>\n",
              "</mark>\n",
              " Karen Pierce, \n",
              "<mark class=\"entity\" style=\"background: #ddd; padding: 0.45em 0.6em; margin: 0 0.25em; line-height: 1; border-radius: 0.35em;\">\n",
              "    UK\n",
              "    <span style=\"font-size: 0.8em; font-weight: bold; line-height: 1; border-radius: 0.35em; text-transform: uppercase; vertical-align: middle; margin-left: 0.5rem\">LOCATION</span>\n",
              "</mark>\n",
              " Permanent \n",
              "<mark class=\"entity\" style=\"background: #aa9cfc; padding: 0.45em 0.6em; margin: 0 0.25em; line-height: 1; border-radius: 0.35em;\">\n",
              "    Representative\n",
              "    <span style=\"font-size: 0.8em; font-weight: bold; line-height: 1; border-radius: 0.35em; text-transform: uppercase; vertical-align: middle; margin-left: 0.5rem\">PERSON</span>\n",
              "</mark>\n",
              " to the \n",
              "<mark class=\"entity\" style=\"background: #ddd; padding: 0.45em 0.6em; margin: 0 0.25em; line-height: 1; border-radius: 0.35em;\">\n",
              "    UN\n",
              "    <span style=\"font-size: 0.8em; font-weight: bold; line-height: 1; border-radius: 0.35em; text-transform: uppercase; vertical-align: middle; margin-left: 0.5rem\">ORGANIZATION</span>\n",
              "</mark>\n",
              ", at the \n",
              "<mark class=\"entity\" style=\"background: #ddd; padding: 0.45em 0.6em; margin: 0 0.25em; line-height: 1; border-radius: 0.35em;\">\n",
              "    Security Council\n",
              "    <span style=\"font-size: 0.8em; font-weight: bold; line-height: 1; border-radius: 0.35em; text-transform: uppercase; vertical-align: middle; margin-left: 0.5rem\">ORGANIZATION</span>\n",
              "</mark>\n",
              " briefing on \n",
              "<mark class=\"entity\" style=\"background: #aa9cfc; padding: 0.45em 0.6em; margin: 0 0.25em; line-height: 1; border-radius: 0.35em;\">\n",
              "    Women\n",
              "    <span style=\"font-size: 0.8em; font-weight: bold; line-height: 1; border-radius: 0.35em; text-transform: uppercase; vertical-align: middle; margin-left: 0.5rem\">PERSON</span>\n",
              "</mark>\n",
              ", Peace and Security.</div></span>"
            ]
          },
          "metadata": {}
        },
        {
          "output_type": "display_data",
          "data": {
            "text/plain": [
              "<IPython.core.display.HTML object>"
            ],
            "text/html": [
              "<span class=\"tex2jax_ignore\"><div class=\"entities\" style=\"line-height: 2.5; direction: ltr\">\n",
              "<mark class=\"entity\" style=\"background: #ddd; padding: 0.45em 0.6em; margin: 0 0.25em; line-height: 1; border-radius: 0.35em;\">\n",
              "    PHE\n",
              "    <span style=\"font-size: 0.8em; font-weight: bold; line-height: 1; border-radius: 0.35em; text-transform: uppercase; vertical-align: middle; margin-left: 0.5rem\">ORGANIZATION</span>\n",
              "</mark>\n",
              " are warning pregnant \n",
              "<mark class=\"entity\" style=\"background: #aa9cfc; padding: 0.45em 0.6em; margin: 0 0.25em; line-height: 1; border-radius: 0.35em;\">\n",
              "    women\n",
              "    <span style=\"font-size: 0.8em; font-weight: bold; line-height: 1; border-radius: 0.35em; text-transform: uppercase; vertical-align: middle; margin-left: 0.5rem\">PERSON</span>\n",
              "</mark>\n",
              " against using a potentially poisonous product, 'Calabash chalk', as a nutritional supplement or morning sickness ‘antidote’</div></span>"
            ]
          },
          "metadata": {}
        },
        {
          "output_type": "display_data",
          "data": {
            "text/plain": [
              "<IPython.core.display.HTML object>"
            ],
            "text/html": [
              "<span class=\"tex2jax_ignore\"><div class=\"entities\" style=\"line-height: 2.5; direction: ltr\">How the \n",
              "<mark class=\"entity\" style=\"background: #ddd; padding: 0.45em 0.6em; margin: 0 0.25em; line-height: 1; border-radius: 0.35em;\">\n",
              "    government\n",
              "    <span style=\"font-size: 0.8em; font-weight: bold; line-height: 1; border-radius: 0.35em; text-transform: uppercase; vertical-align: middle; margin-left: 0.5rem\">ORGANIZATION</span>\n",
              "</mark>\n",
              " will make teaching an even higher status profession that attracts even more of the best \n",
              "<mark class=\"entity\" style=\"background: #aa9cfc; padding: 0.45em 0.6em; margin: 0 0.25em; line-height: 1; border-radius: 0.35em;\">\n",
              "    graduates\n",
              "    <span style=\"font-size: 0.8em; font-weight: bold; line-height: 1; border-radius: 0.35em; text-transform: uppercase; vertical-align: middle; margin-left: 0.5rem\">PERSON</span>\n",
              "</mark>\n",
              ".</div></span>"
            ]
          },
          "metadata": {}
        }
      ]
    },
    {
      "cell_type": "markdown",
      "source": [
        "# Main script"
      ],
      "metadata": {
        "id": "f6ZuBWa2Nkh4"
      }
    },
    {
      "cell_type": "code",
      "source": [
        "def extract_entities(examples):\n",
        "    '''\n",
        "    This function extracts the named entities into a pandas df.\n",
        "\n",
        "    Arguments:\n",
        "        - examples: a list of strings, where each string is a document (e.g., sentence)\n",
        "    '''\n",
        "    \n",
        "    # identify named entities using the model\n",
        "    ner_results = nlp(examples)\n",
        "    \n",
        "    # this line converts the list of lists of dictionaries to a pandas df\n",
        "    # with the keys of each dictionary as the columns and indexed to the \n",
        "    # webpage index and the entity index on that webpage\n",
        "    df = pd.DataFrame(ner_results).stack().apply(pd.Series)\n",
        "\n",
        "    # removes the columns `score`, `start` and `end` from the df as these are irrelevant in this case\n",
        "    df = df.drop(columns=[\"score\", \"start\", \"end\"])\n",
        "\n",
        "    return df"
      ],
      "metadata": {
        "id": "AA8eSz2B_41H"
      },
      "execution_count": null,
      "outputs": []
    },
    {
      "cell_type": "code",
      "source": [
        "pages = [\"https://www.gov.uk/foreign-travel-advice/slovakia\",\n",
        "         \"https://www.gov.uk/foreign-travel-advice/ukraine\",\n",
        "         \"https://www.gov.uk/foreign-travel-advice/czech-republic\",\n",
        "         \"https://www.gov.uk/foreign-travel-advice/poland\",\n",
        "         \"https://www.gov.uk/foreign-travel-advice/hungary\",\n",
        "         \"https://www.gov.uk/guidance/find-help-and-support-if-you-have-long-covid\"]"
      ],
      "metadata": {
        "id": "iFKN-NUifWVS"
      },
      "execution_count": null,
      "outputs": []
    },
    {
      "cell_type": "code",
      "source": [
        "def extract_entities_to_csv(pages):\n",
        "    '''\n",
        "    This function extracts all the named-entities from the list of pages into\n",
        "    a .csv file in the format:\n",
        "\n",
        "    || page || index_of_named_entity || type_of_named_entity || word  ||\n",
        "    ||  0   ||           0           ||     organisation     ||  nhs  ||\n",
        "    ||  0   ||           1           ||         date         || today ||\n",
        "\n",
        "    Arguments:\n",
        "        - pages: a list of html links for pages\n",
        "    '''\n",
        "\n",
        "    # this scrapes the raw html of all the pages in `pages` into the `pages_html` list\n",
        "    pages_html = []\n",
        "\n",
        "    for page in range(len(pages)):\n",
        "        pages_html.append(urlopen(pages[page]).read().decode('utf-8'))\n",
        "\n",
        "    \n",
        "    # this extracts all of the text from the html stored in `pages_html`\n",
        "    # this text is then appended to `data_extracted_strs`\n",
        "\n",
        "    data_extracted_strs = []\n",
        "\n",
        "    for page in pages_html:\n",
        "        topic_soup = soup(page, \"html.parser\")  # necessary to convert to this form for extraction of text\n",
        "\n",
        "        data = '' \n",
        "  \n",
        "        # for data in topic_soup.find_all(\"div\", {\"class\": {\"gem-c-govspeak govuk-govspeak \", \"gem-c-govspeak govuk-govspeak direction-ltr\"}}):  \n",
        "        # I think the argument of find_all below is the general wrapper for all text but I'm leaving the above commented incase it isn't\n",
        "        for data in topic_soup.find_all(\"div\",{\"data-module\":\"govspeak\"}):  \n",
        "            data_extracted = data.get_text()\n",
        "            data_extracted_strs.append(str(data_extracted))  # it is necessary to convert to str format here for named-entity extraction\n",
        "\n",
        "    \n",
        "    # this finds and displays the named entities from the text stored in `data_extracted_strs`\n",
        "    # uncomment if want to display the named-entities, but will produce a long output if `pages` is long\n",
        "    # for i in range(len(data_extracted_strs)):\n",
        "    #     show_entities([data_extracted_strs[i]])\n",
        "\n",
        "    # this finds and extracts the named entities from the text stored in `data_extracted_strs`\n",
        "    df = extract_entities(data_extracted_strs)\n",
        "\n",
        "    return df"
      ],
      "metadata": {
        "id": "qfhciX3PrGhV"
      },
      "execution_count": null,
      "outputs": []
    },
    {
      "cell_type": "code",
      "source": [
        "df = extract_entities_to_csv(pages)"
      ],
      "metadata": {
        "id": "fWWpar8bLFsq"
      },
      "execution_count": null,
      "outputs": []
    },
    {
      "cell_type": "code",
      "source": [
        "df"
      ],
      "metadata": {
        "id": "GhHe4jtJM2os",
        "outputId": "d7344957-c570-4a9d-fd3e-1d3c7a482e1f",
        "colab": {
          "base_uri": "https://localhost:8080/",
          "height": 419
        }
      },
      "execution_count": null,
      "outputs": [
        {
          "output_type": "execute_result",
          "data": {
            "text/plain": [
              "      entity_group              word\n",
              "0 0       LOCATION          slovakia\n",
              "  1       LOCATION          slovakia\n",
              "  2   ORGANIZATION  travel provider.\n",
              "  3       LOCATION                uk\n",
              "  4       LOCATION           england\n",
              "...            ...               ...\n",
              "5 23  ORGANIZATION          colleges\n",
              "  24        PERSON            pupils\n",
              "  25        PERSON      professional\n",
              "  26  ORGANIZATION            school\n",
              "  27        PERSON             child\n",
              "\n",
              "[190 rows x 2 columns]"
            ],
            "text/html": [
              "\n",
              "  <div id=\"df-f3dde9d3-57c4-4b03-9b2c-7c3c295445b6\">\n",
              "    <div class=\"colab-df-container\">\n",
              "      <div>\n",
              "<style scoped>\n",
              "    .dataframe tbody tr th:only-of-type {\n",
              "        vertical-align: middle;\n",
              "    }\n",
              "\n",
              "    .dataframe tbody tr th {\n",
              "        vertical-align: top;\n",
              "    }\n",
              "\n",
              "    .dataframe thead th {\n",
              "        text-align: right;\n",
              "    }\n",
              "</style>\n",
              "<table border=\"1\" class=\"dataframe\">\n",
              "  <thead>\n",
              "    <tr style=\"text-align: right;\">\n",
              "      <th></th>\n",
              "      <th></th>\n",
              "      <th>entity_group</th>\n",
              "      <th>word</th>\n",
              "    </tr>\n",
              "  </thead>\n",
              "  <tbody>\n",
              "    <tr>\n",
              "      <th rowspan=\"5\" valign=\"top\">0</th>\n",
              "      <th>0</th>\n",
              "      <td>LOCATION</td>\n",
              "      <td>slovakia</td>\n",
              "    </tr>\n",
              "    <tr>\n",
              "      <th>1</th>\n",
              "      <td>LOCATION</td>\n",
              "      <td>slovakia</td>\n",
              "    </tr>\n",
              "    <tr>\n",
              "      <th>2</th>\n",
              "      <td>ORGANIZATION</td>\n",
              "      <td>travel provider.</td>\n",
              "    </tr>\n",
              "    <tr>\n",
              "      <th>3</th>\n",
              "      <td>LOCATION</td>\n",
              "      <td>uk</td>\n",
              "    </tr>\n",
              "    <tr>\n",
              "      <th>4</th>\n",
              "      <td>LOCATION</td>\n",
              "      <td>england</td>\n",
              "    </tr>\n",
              "    <tr>\n",
              "      <th>...</th>\n",
              "      <th>...</th>\n",
              "      <td>...</td>\n",
              "      <td>...</td>\n",
              "    </tr>\n",
              "    <tr>\n",
              "      <th rowspan=\"5\" valign=\"top\">5</th>\n",
              "      <th>23</th>\n",
              "      <td>ORGANIZATION</td>\n",
              "      <td>colleges</td>\n",
              "    </tr>\n",
              "    <tr>\n",
              "      <th>24</th>\n",
              "      <td>PERSON</td>\n",
              "      <td>pupils</td>\n",
              "    </tr>\n",
              "    <tr>\n",
              "      <th>25</th>\n",
              "      <td>PERSON</td>\n",
              "      <td>professional</td>\n",
              "    </tr>\n",
              "    <tr>\n",
              "      <th>26</th>\n",
              "      <td>ORGANIZATION</td>\n",
              "      <td>school</td>\n",
              "    </tr>\n",
              "    <tr>\n",
              "      <th>27</th>\n",
              "      <td>PERSON</td>\n",
              "      <td>child</td>\n",
              "    </tr>\n",
              "  </tbody>\n",
              "</table>\n",
              "<p>190 rows × 2 columns</p>\n",
              "</div>\n",
              "      <button class=\"colab-df-convert\" onclick=\"convertToInteractive('df-f3dde9d3-57c4-4b03-9b2c-7c3c295445b6')\"\n",
              "              title=\"Convert this dataframe to an interactive table.\"\n",
              "              style=\"display:none;\">\n",
              "        \n",
              "  <svg xmlns=\"http://www.w3.org/2000/svg\" height=\"24px\"viewBox=\"0 0 24 24\"\n",
              "       width=\"24px\">\n",
              "    <path d=\"M0 0h24v24H0V0z\" fill=\"none\"/>\n",
              "    <path d=\"M18.56 5.44l.94 2.06.94-2.06 2.06-.94-2.06-.94-.94-2.06-.94 2.06-2.06.94zm-11 1L8.5 8.5l.94-2.06 2.06-.94-2.06-.94L8.5 2.5l-.94 2.06-2.06.94zm10 10l.94 2.06.94-2.06 2.06-.94-2.06-.94-.94-2.06-.94 2.06-2.06.94z\"/><path d=\"M17.41 7.96l-1.37-1.37c-.4-.4-.92-.59-1.43-.59-.52 0-1.04.2-1.43.59L10.3 9.45l-7.72 7.72c-.78.78-.78 2.05 0 2.83L4 21.41c.39.39.9.59 1.41.59.51 0 1.02-.2 1.41-.59l7.78-7.78 2.81-2.81c.8-.78.8-2.07 0-2.86zM5.41 20L4 18.59l7.72-7.72 1.47 1.35L5.41 20z\"/>\n",
              "  </svg>\n",
              "      </button>\n",
              "      \n",
              "  <style>\n",
              "    .colab-df-container {\n",
              "      display:flex;\n",
              "      flex-wrap:wrap;\n",
              "      gap: 12px;\n",
              "    }\n",
              "\n",
              "    .colab-df-convert {\n",
              "      background-color: #E8F0FE;\n",
              "      border: none;\n",
              "      border-radius: 50%;\n",
              "      cursor: pointer;\n",
              "      display: none;\n",
              "      fill: #1967D2;\n",
              "      height: 32px;\n",
              "      padding: 0 0 0 0;\n",
              "      width: 32px;\n",
              "    }\n",
              "\n",
              "    .colab-df-convert:hover {\n",
              "      background-color: #E2EBFA;\n",
              "      box-shadow: 0px 1px 2px rgba(60, 64, 67, 0.3), 0px 1px 3px 1px rgba(60, 64, 67, 0.15);\n",
              "      fill: #174EA6;\n",
              "    }\n",
              "\n",
              "    [theme=dark] .colab-df-convert {\n",
              "      background-color: #3B4455;\n",
              "      fill: #D2E3FC;\n",
              "    }\n",
              "\n",
              "    [theme=dark] .colab-df-convert:hover {\n",
              "      background-color: #434B5C;\n",
              "      box-shadow: 0px 1px 3px 1px rgba(0, 0, 0, 0.15);\n",
              "      filter: drop-shadow(0px 1px 2px rgba(0, 0, 0, 0.3));\n",
              "      fill: #FFFFFF;\n",
              "    }\n",
              "  </style>\n",
              "\n",
              "      <script>\n",
              "        const buttonEl =\n",
              "          document.querySelector('#df-f3dde9d3-57c4-4b03-9b2c-7c3c295445b6 button.colab-df-convert');\n",
              "        buttonEl.style.display =\n",
              "          google.colab.kernel.accessAllowed ? 'block' : 'none';\n",
              "\n",
              "        async function convertToInteractive(key) {\n",
              "          const element = document.querySelector('#df-f3dde9d3-57c4-4b03-9b2c-7c3c295445b6');\n",
              "          const dataTable =\n",
              "            await google.colab.kernel.invokeFunction('convertToInteractive',\n",
              "                                                     [key], {});\n",
              "          if (!dataTable) return;\n",
              "\n",
              "          const docLinkHtml = 'Like what you see? Visit the ' +\n",
              "            '<a target=\"_blank\" href=https://colab.research.google.com/notebooks/data_table.ipynb>data table notebook</a>'\n",
              "            + ' to learn more about interactive tables.';\n",
              "          element.innerHTML = '';\n",
              "          dataTable['output_type'] = 'display_data';\n",
              "          await google.colab.output.renderOutput(dataTable, element);\n",
              "          const docLink = document.createElement('div');\n",
              "          docLink.innerHTML = docLinkHtml;\n",
              "          element.appendChild(docLink);\n",
              "        }\n",
              "      </script>\n",
              "    </div>\n",
              "  </div>\n",
              "  "
            ]
          },
          "metadata": {},
          "execution_count": 15
        }
      ]
    },
    {
      "cell_type": "code",
      "source": [
        "df.to_csv('df.csv', index=True)"
      ],
      "metadata": {
        "id": "Ijpf-1pcLKv9"
      },
      "execution_count": null,
      "outputs": []
    }
  ]
}